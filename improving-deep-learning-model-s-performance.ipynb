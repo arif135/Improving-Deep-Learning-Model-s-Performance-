{
 "cells": [
  {
   "cell_type": "code",
   "execution_count": 1,
   "metadata": {
    "_cell_guid": "b1076dfc-b9ad-4769-8c92-a6c4dae69d19",
    "_uuid": "8f2839f25d086af736a60e9eeb907d3b93b6e0e5"
   },
   "outputs": [
    {
     "name": "stdout",
     "output_type": "stream",
     "text": [
      "/kaggle/input/emergency_vs_non-emergency_dataset/emergency_train.csv\n",
      "/kaggle/input/emergency_vs_non-emergency_dataset/images/890.jpg\n",
      "/kaggle/input/emergency_vs_non-emergency_dataset/images/1139.jpg\n",
      "/kaggle/input/emergency_vs_non-emergency_dataset/images/1946.jpg\n",
      "/kaggle/input/emergency_vs_non-emergency_dataset/images/1824.jpg\n",
      "/kaggle/input/emergency_vs_non-emergency_dataset/images/1190.jpg\n",
      "/kaggle/input/emergency_vs_non-emergency_dataset/images/2218.jpg\n",
      "/kaggle/input/emergency_vs_non-emergency_dataset/images/745.jpg\n",
      "/kaggle/input/emergency_vs_non-emergency_dataset/images/61.jpg\n",
      "/kaggle/input/emergency_vs_non-emergency_dataset/images/1458.jpg\n",
      "/kaggle/input/emergency_vs_non-emergency_dataset/images/1805.jpg\n",
      "/kaggle/input/emergency_vs_non-emergency_dataset/images/1169.jpg\n",
      "/kaggle/input/emergency_vs_non-emergency_dataset/images/50.jpg\n",
      "/kaggle/input/emergency_vs_non-emergency_dataset/images/1668.jpg\n",
      "/kaggle/input/emergency_vs_non-emergency_dataset/images/1422.jpg\n",
      "/kaggle/input/emergency_vs_non-emergency_dataset/images/1571.jpg\n",
      "/kaggle/input/emergency_vs_non-emergency_dataset/images/834.jpg\n",
      "/kaggle/input/emergency_vs_non-emergency_dataset/images/1918.jpg\n",
      "/kaggle/input/emergency_vs_non-emergency_dataset/images/1325.jpg\n",
      "/kaggle/input/emergency_vs_non-emergency_dataset/images/2126.jpg\n",
      "/kaggle/input/emergency_vs_non-emergency_dataset/images/741.jpg\n",
      "/kaggle/input/emergency_vs_non-emergency_dataset/images/2214.jpg\n",
      "/kaggle/input/emergency_vs_non-emergency_dataset/images/281.jpg\n",
      "/kaggle/input/emergency_vs_non-emergency_dataset/images/756.jpg\n",
      "/kaggle/input/emergency_vs_non-emergency_dataset/images/2018.jpg\n",
      "/kaggle/input/emergency_vs_non-emergency_dataset/images/1615.jpg\n",
      "/kaggle/input/emergency_vs_non-emergency_dataset/images/631.jpg\n",
      "/kaggle/input/emergency_vs_non-emergency_dataset/images/874.jpg\n",
      "/kaggle/input/emergency_vs_non-emergency_dataset/images/681.jpg\n",
      "/kaggle/input/emergency_vs_non-emergency_dataset/images/2316.jpg\n",
      "/kaggle/input/emergency_vs_non-emergency_dataset/images/51.jpg\n",
      "/kaggle/input/emergency_vs_non-emergency_dataset/images/600.jpg\n",
      "/kaggle/input/emergency_vs_non-emergency_dataset/images/1689.jpg\n",
      "/kaggle/input/emergency_vs_non-emergency_dataset/images/1528.jpg\n",
      "/kaggle/input/emergency_vs_non-emergency_dataset/images/1509.jpg\n",
      "/kaggle/input/emergency_vs_non-emergency_dataset/images/1939.jpg\n",
      "/kaggle/input/emergency_vs_non-emergency_dataset/images/2120.jpg\n",
      "/kaggle/input/emergency_vs_non-emergency_dataset/images/853.jpg\n",
      "/kaggle/input/emergency_vs_non-emergency_dataset/images/1958.jpg\n",
      "/kaggle/input/emergency_vs_non-emergency_dataset/images/1462.jpg\n",
      "/kaggle/input/emergency_vs_non-emergency_dataset/images/2321.jpg\n",
      "/kaggle/input/emergency_vs_non-emergency_dataset/images/518.jpg\n",
      "/kaggle/input/emergency_vs_non-emergency_dataset/images/198.jpg\n",
      "/kaggle/input/emergency_vs_non-emergency_dataset/images/2108.jpg\n",
      "/kaggle/input/emergency_vs_non-emergency_dataset/images/835.jpg\n",
      "/kaggle/input/emergency_vs_non-emergency_dataset/images/1623.jpg\n",
      "/kaggle/input/emergency_vs_non-emergency_dataset/images/252.jpg\n",
      "/kaggle/input/emergency_vs_non-emergency_dataset/images/619.jpg\n",
      "/kaggle/input/emergency_vs_non-emergency_dataset/images/1514.jpg\n",
      "/kaggle/input/emergency_vs_non-emergency_dataset/images/1931.jpg\n",
      "/kaggle/input/emergency_vs_non-emergency_dataset/images/151.jpg\n",
      "/kaggle/input/emergency_vs_non-emergency_dataset/images/528.jpg\n",
      "/kaggle/input/emergency_vs_non-emergency_dataset/images/117.jpg\n",
      "/kaggle/input/emergency_vs_non-emergency_dataset/images/2084.jpg\n",
      "/kaggle/input/emergency_vs_non-emergency_dataset/images/41.jpg\n",
      "/kaggle/input/emergency_vs_non-emergency_dataset/images/734.jpg\n",
      "/kaggle/input/emergency_vs_non-emergency_dataset/images/534.jpg\n",
      "/kaggle/input/emergency_vs_non-emergency_dataset/images/2171.jpg\n",
      "/kaggle/input/emergency_vs_non-emergency_dataset/images/43.jpg\n",
      "/kaggle/input/emergency_vs_non-emergency_dataset/images/167.jpg\n",
      "/kaggle/input/emergency_vs_non-emergency_dataset/images/2107.jpg\n",
      "/kaggle/input/emergency_vs_non-emergency_dataset/images/1450.jpg\n",
      "/kaggle/input/emergency_vs_non-emergency_dataset/images/1994.jpg\n",
      "/kaggle/input/emergency_vs_non-emergency_dataset/images/122.jpg\n",
      "/kaggle/input/emergency_vs_non-emergency_dataset/images/119.jpg\n",
      "/kaggle/input/emergency_vs_non-emergency_dataset/images/599.jpg\n",
      "/kaggle/input/emergency_vs_non-emergency_dataset/images/191.jpg\n",
      "/kaggle/input/emergency_vs_non-emergency_dataset/images/2055.jpg\n",
      "/kaggle/input/emergency_vs_non-emergency_dataset/images/104.jpg\n",
      "/kaggle/input/emergency_vs_non-emergency_dataset/images/2240.jpg\n",
      "/kaggle/input/emergency_vs_non-emergency_dataset/images/1183.jpg\n",
      "/kaggle/input/emergency_vs_non-emergency_dataset/images/1002.jpg\n",
      "/kaggle/input/emergency_vs_non-emergency_dataset/images/576.jpg\n",
      "/kaggle/input/emergency_vs_non-emergency_dataset/images/1069.jpg\n",
      "/kaggle/input/emergency_vs_non-emergency_dataset/images/809.jpg\n",
      "/kaggle/input/emergency_vs_non-emergency_dataset/images/1830.jpg\n",
      "/kaggle/input/emergency_vs_non-emergency_dataset/images/1556.jpg\n",
      "/kaggle/input/emergency_vs_non-emergency_dataset/images/646.jpg\n",
      "/kaggle/input/emergency_vs_non-emergency_dataset/images/621.jpg\n",
      "/kaggle/input/emergency_vs_non-emergency_dataset/images/1721.jpg\n",
      "/kaggle/input/emergency_vs_non-emergency_dataset/images/238.jpg\n",
      "/kaggle/input/emergency_vs_non-emergency_dataset/images/2000.jpg\n",
      "/kaggle/input/emergency_vs_non-emergency_dataset/images/2217.jpg\n",
      "/kaggle/input/emergency_vs_non-emergency_dataset/images/1934.jpg\n",
      "/kaggle/input/emergency_vs_non-emergency_dataset/images/350.jpg\n",
      "/kaggle/input/emergency_vs_non-emergency_dataset/images/362.jpg\n",
      "/kaggle/input/emergency_vs_non-emergency_dataset/images/2267.jpg\n",
      "/kaggle/input/emergency_vs_non-emergency_dataset/images/902.jpg\n",
      "/kaggle/input/emergency_vs_non-emergency_dataset/images/1984.jpg\n",
      "/kaggle/input/emergency_vs_non-emergency_dataset/images/230.jpg\n",
      "/kaggle/input/emergency_vs_non-emergency_dataset/images/2200.jpg\n",
      "/kaggle/input/emergency_vs_non-emergency_dataset/images/52.jpg\n",
      "/kaggle/input/emergency_vs_non-emergency_dataset/images/165.jpg\n",
      "/kaggle/input/emergency_vs_non-emergency_dataset/images/569.jpg\n",
      "/kaggle/input/emergency_vs_non-emergency_dataset/images/2313.jpg\n",
      "/kaggle/input/emergency_vs_non-emergency_dataset/images/628.jpg\n",
      "/kaggle/input/emergency_vs_non-emergency_dataset/images/933.jpg\n",
      "/kaggle/input/emergency_vs_non-emergency_dataset/images/347.jpg\n",
      "/kaggle/input/emergency_vs_non-emergency_dataset/images/1255.jpg\n",
      "/kaggle/input/emergency_vs_non-emergency_dataset/images/526.jpg\n",
      "/kaggle/input/emergency_vs_non-emergency_dataset/images/953.jpg\n",
      "/kaggle/input/emergency_vs_non-emergency_dataset/images/2350.jpg\n",
      "/kaggle/input/emergency_vs_non-emergency_dataset/images/747.jpg\n",
      "/kaggle/input/emergency_vs_non-emergency_dataset/images/901.jpg\n",
      "/kaggle/input/emergency_vs_non-emergency_dataset/images/324.jpg\n",
      "/kaggle/input/emergency_vs_non-emergency_dataset/images/180.jpg\n",
      "/kaggle/input/emergency_vs_non-emergency_dataset/images/1044.jpg\n",
      "/kaggle/input/emergency_vs_non-emergency_dataset/images/1243.jpg\n",
      "/kaggle/input/emergency_vs_non-emergency_dataset/images/1559.jpg\n",
      "/kaggle/input/emergency_vs_non-emergency_dataset/images/1612.jpg\n",
      "/kaggle/input/emergency_vs_non-emergency_dataset/images/1822.jpg\n",
      "/kaggle/input/emergency_vs_non-emergency_dataset/images/438.jpg\n",
      "/kaggle/input/emergency_vs_non-emergency_dataset/images/1264.jpg\n",
      "/kaggle/input/emergency_vs_non-emergency_dataset/images/965.jpg\n",
      "/kaggle/input/emergency_vs_non-emergency_dataset/images/1551.jpg\n",
      "/kaggle/input/emergency_vs_non-emergency_dataset/images/2266.jpg\n",
      "/kaggle/input/emergency_vs_non-emergency_dataset/images/1431.jpg\n",
      "/kaggle/input/emergency_vs_non-emergency_dataset/images/436.jpg\n",
      "/kaggle/input/emergency_vs_non-emergency_dataset/images/274.jpg\n",
      "/kaggle/input/emergency_vs_non-emergency_dataset/images/1846.jpg\n",
      "/kaggle/input/emergency_vs_non-emergency_dataset/images/1472.jpg\n",
      "/kaggle/input/emergency_vs_non-emergency_dataset/images/1252.jpg\n",
      "/kaggle/input/emergency_vs_non-emergency_dataset/images/272.jpg\n",
      "/kaggle/input/emergency_vs_non-emergency_dataset/images/1678.jpg\n",
      "/kaggle/input/emergency_vs_non-emergency_dataset/images/660.jpg\n",
      "/kaggle/input/emergency_vs_non-emergency_dataset/images/383.jpg\n",
      "/kaggle/input/emergency_vs_non-emergency_dataset/images/2271.jpg\n",
      "/kaggle/input/emergency_vs_non-emergency_dataset/images/1797.jpg\n",
      "/kaggle/input/emergency_vs_non-emergency_dataset/images/1679.jpg\n",
      "/kaggle/input/emergency_vs_non-emergency_dataset/images/251.jpg\n",
      "/kaggle/input/emergency_vs_non-emergency_dataset/images/553.jpg\n",
      "/kaggle/input/emergency_vs_non-emergency_dataset/images/1493.jpg\n",
      "/kaggle/input/emergency_vs_non-emergency_dataset/images/398.jpg\n",
      "/kaggle/input/emergency_vs_non-emergency_dataset/images/1080.jpg\n",
      "/kaggle/input/emergency_vs_non-emergency_dataset/images/1235.jpg\n",
      "/kaggle/input/emergency_vs_non-emergency_dataset/images/2231.jpg\n",
      "/kaggle/input/emergency_vs_non-emergency_dataset/images/27.jpg\n",
      "/kaggle/input/emergency_vs_non-emergency_dataset/images/1065.jpg\n",
      "/kaggle/input/emergency_vs_non-emergency_dataset/images/1694.jpg\n",
      "/kaggle/input/emergency_vs_non-emergency_dataset/images/2015.jpg\n",
      "/kaggle/input/emergency_vs_non-emergency_dataset/images/1292.jpg\n",
      "/kaggle/input/emergency_vs_non-emergency_dataset/images/1266.jpg\n",
      "/kaggle/input/emergency_vs_non-emergency_dataset/images/1898.jpg\n",
      "/kaggle/input/emergency_vs_non-emergency_dataset/images/491.jpg\n",
      "/kaggle/input/emergency_vs_non-emergency_dataset/images/444.jpg\n",
      "/kaggle/input/emergency_vs_non-emergency_dataset/images/1136.jpg\n",
      "/kaggle/input/emergency_vs_non-emergency_dataset/images/1539.jpg\n",
      "/kaggle/input/emergency_vs_non-emergency_dataset/images/1529.jpg\n",
      "/kaggle/input/emergency_vs_non-emergency_dataset/images/919.jpg\n",
      "/kaggle/input/emergency_vs_non-emergency_dataset/images/400.jpg\n",
      "/kaggle/input/emergency_vs_non-emergency_dataset/images/2201.jpg\n",
      "/kaggle/input/emergency_vs_non-emergency_dataset/images/1286.jpg\n",
      "/kaggle/input/emergency_vs_non-emergency_dataset/images/1224.jpg\n",
      "/kaggle/input/emergency_vs_non-emergency_dataset/images/1807.jpg\n",
      "/kaggle/input/emergency_vs_non-emergency_dataset/images/2052.jpg\n",
      "/kaggle/input/emergency_vs_non-emergency_dataset/images/1605.jpg\n",
      "/kaggle/input/emergency_vs_non-emergency_dataset/images/606.jpg\n",
      "/kaggle/input/emergency_vs_non-emergency_dataset/images/550.jpg\n",
      "/kaggle/input/emergency_vs_non-emergency_dataset/images/73.jpg\n",
      "/kaggle/input/emergency_vs_non-emergency_dataset/images/513.jpg\n",
      "/kaggle/input/emergency_vs_non-emergency_dataset/images/145.jpg\n",
      "/kaggle/input/emergency_vs_non-emergency_dataset/images/184.jpg\n",
      "/kaggle/input/emergency_vs_non-emergency_dataset/images/728.jpg\n",
      "/kaggle/input/emergency_vs_non-emergency_dataset/images/267.jpg\n",
      "/kaggle/input/emergency_vs_non-emergency_dataset/images/1220.jpg\n",
      "/kaggle/input/emergency_vs_non-emergency_dataset/images/287.jpg\n",
      "/kaggle/input/emergency_vs_non-emergency_dataset/images/1342.jpg\n",
      "/kaggle/input/emergency_vs_non-emergency_dataset/images/2333.jpg\n",
      "/kaggle/input/emergency_vs_non-emergency_dataset/images/1191.jpg\n",
      "/kaggle/input/emergency_vs_non-emergency_dataset/images/1555.jpg\n",
      "/kaggle/input/emergency_vs_non-emergency_dataset/images/325.jpg\n",
      "/kaggle/input/emergency_vs_non-emergency_dataset/images/1761.jpg\n",
      "/kaggle/input/emergency_vs_non-emergency_dataset/images/266.jpg\n",
      "/kaggle/input/emergency_vs_non-emergency_dataset/images/1912.jpg\n",
      "/kaggle/input/emergency_vs_non-emergency_dataset/images/2297.jpg\n",
      "/kaggle/input/emergency_vs_non-emergency_dataset/images/1786.jpg\n",
      "/kaggle/input/emergency_vs_non-emergency_dataset/images/83.jpg\n",
      "/kaggle/input/emergency_vs_non-emergency_dataset/images/1204.jpg\n",
      "/kaggle/input/emergency_vs_non-emergency_dataset/images/37.jpg\n",
      "/kaggle/input/emergency_vs_non-emergency_dataset/images/1907.jpg\n",
      "/kaggle/input/emergency_vs_non-emergency_dataset/images/827.jpg\n",
      "/kaggle/input/emergency_vs_non-emergency_dataset/images/2111.jpg\n",
      "/kaggle/input/emergency_vs_non-emergency_dataset/images/777.jpg\n",
      "/kaggle/input/emergency_vs_non-emergency_dataset/images/2161.jpg\n",
      "/kaggle/input/emergency_vs_non-emergency_dataset/images/630.jpg\n",
      "/kaggle/input/emergency_vs_non-emergency_dataset/images/213.jpg\n",
      "/kaggle/input/emergency_vs_non-emergency_dataset/images/1753.jpg\n",
      "/kaggle/input/emergency_vs_non-emergency_dataset/images/743.jpg\n",
      "/kaggle/input/emergency_vs_non-emergency_dataset/images/744.jpg\n",
      "/kaggle/input/emergency_vs_non-emergency_dataset/images/1143.jpg\n",
      "/kaggle/input/emergency_vs_non-emergency_dataset/images/1093.jpg\n",
      "/kaggle/input/emergency_vs_non-emergency_dataset/images/1467.jpg\n",
      "/kaggle/input/emergency_vs_non-emergency_dataset/images/1270.jpg\n",
      "/kaggle/input/emergency_vs_non-emergency_dataset/images/311.jpg\n",
      "/kaggle/input/emergency_vs_non-emergency_dataset/images/1788.jpg\n",
      "/kaggle/input/emergency_vs_non-emergency_dataset/images/147.jpg\n",
      "/kaggle/input/emergency_vs_non-emergency_dataset/images/2026.jpg\n",
      "/kaggle/input/emergency_vs_non-emergency_dataset/images/1016.jpg\n",
      "/kaggle/input/emergency_vs_non-emergency_dataset/images/1117.jpg\n",
      "/kaggle/input/emergency_vs_non-emergency_dataset/images/1843.jpg\n",
      "/kaggle/input/emergency_vs_non-emergency_dataset/images/1511.jpg\n",
      "/kaggle/input/emergency_vs_non-emergency_dataset/images/1155.jpg\n",
      "/kaggle/input/emergency_vs_non-emergency_dataset/images/228.jpg\n",
      "/kaggle/input/emergency_vs_non-emergency_dataset/images/357.jpg\n",
      "/kaggle/input/emergency_vs_non-emergency_dataset/images/1303.jpg\n",
      "/kaggle/input/emergency_vs_non-emergency_dataset/images/1041.jpg\n",
      "/kaggle/input/emergency_vs_non-emergency_dataset/images/402.jpg\n",
      "/kaggle/input/emergency_vs_non-emergency_dataset/images/625.jpg\n",
      "/kaggle/input/emergency_vs_non-emergency_dataset/images/684.jpg\n",
      "/kaggle/input/emergency_vs_non-emergency_dataset/images/1882.jpg\n",
      "/kaggle/input/emergency_vs_non-emergency_dataset/images/1736.jpg\n",
      "/kaggle/input/emergency_vs_non-emergency_dataset/images/633.jpg\n",
      "/kaggle/input/emergency_vs_non-emergency_dataset/images/2238.jpg\n",
      "/kaggle/input/emergency_vs_non-emergency_dataset/images/1908.jpg\n",
      "/kaggle/input/emergency_vs_non-emergency_dataset/images/1349.jpg\n",
      "/kaggle/input/emergency_vs_non-emergency_dataset/images/1971.jpg\n",
      "/kaggle/input/emergency_vs_non-emergency_dataset/images/969.jpg\n",
      "/kaggle/input/emergency_vs_non-emergency_dataset/images/261.jpg\n",
      "/kaggle/input/emergency_vs_non-emergency_dataset/images/1540.jpg\n",
      "/kaggle/input/emergency_vs_non-emergency_dataset/images/2068.jpg\n",
      "/kaggle/input/emergency_vs_non-emergency_dataset/images/2208.jpg\n",
      "/kaggle/input/emergency_vs_non-emergency_dataset/images/1706.jpg\n",
      "/kaggle/input/emergency_vs_non-emergency_dataset/images/412.jpg\n",
      "/kaggle/input/emergency_vs_non-emergency_dataset/images/4.jpg\n",
      "/kaggle/input/emergency_vs_non-emergency_dataset/images/1095.jpg\n",
      "/kaggle/input/emergency_vs_non-emergency_dataset/images/459.jpg\n",
      "/kaggle/input/emergency_vs_non-emergency_dataset/images/1972.jpg\n",
      "/kaggle/input/emergency_vs_non-emergency_dataset/images/634.jpg\n",
      "/kaggle/input/emergency_vs_non-emergency_dataset/images/854.jpg\n",
      "/kaggle/input/emergency_vs_non-emergency_dataset/images/532.jpg\n",
      "/kaggle/input/emergency_vs_non-emergency_dataset/images/1090.jpg\n",
      "/kaggle/input/emergency_vs_non-emergency_dataset/images/2292.jpg\n",
      "/kaggle/input/emergency_vs_non-emergency_dataset/images/1952.jpg\n",
      "/kaggle/input/emergency_vs_non-emergency_dataset/images/845.jpg\n",
      "/kaggle/input/emergency_vs_non-emergency_dataset/images/1100.jpg\n",
      "/kaggle/input/emergency_vs_non-emergency_dataset/images/1969.jpg\n",
      "/kaggle/input/emergency_vs_non-emergency_dataset/images/1274.jpg\n",
      "/kaggle/input/emergency_vs_non-emergency_dataset/images/423.jpg\n",
      "/kaggle/input/emergency_vs_non-emergency_dataset/images/1560.jpg\n",
      "/kaggle/input/emergency_vs_non-emergency_dataset/images/922.jpg\n",
      "/kaggle/input/emergency_vs_non-emergency_dataset/images/1126.jpg\n",
      "/kaggle/input/emergency_vs_non-emergency_dataset/images/355.jpg\n",
      "/kaggle/input/emergency_vs_non-emergency_dataset/images/595.jpg\n",
      "/kaggle/input/emergency_vs_non-emergency_dataset/images/1924.jpg\n",
      "/kaggle/input/emergency_vs_non-emergency_dataset/images/793.jpg\n",
      "/kaggle/input/emergency_vs_non-emergency_dataset/images/521.jpg\n",
      "/kaggle/input/emergency_vs_non-emergency_dataset/images/1049.jpg\n",
      "/kaggle/input/emergency_vs_non-emergency_dataset/images/2046.jpg\n",
      "/kaggle/input/emergency_vs_non-emergency_dataset/images/322.jpg\n",
      "/kaggle/input/emergency_vs_non-emergency_dataset/images/1449.jpg\n",
      "/kaggle/input/emergency_vs_non-emergency_dataset/images/443.jpg\n",
      "/kaggle/input/emergency_vs_non-emergency_dataset/images/1644.jpg\n",
      "/kaggle/input/emergency_vs_non-emergency_dataset/images/2233.jpg\n",
      "/kaggle/input/emergency_vs_non-emergency_dataset/images/1011.jpg\n",
      "/kaggle/input/emergency_vs_non-emergency_dataset/images/602.jpg\n",
      "/kaggle/input/emergency_vs_non-emergency_dataset/images/1033.jpg\n",
      "/kaggle/input/emergency_vs_non-emergency_dataset/images/307.jpg\n",
      "/kaggle/input/emergency_vs_non-emergency_dataset/images/1216.jpg\n",
      "/kaggle/input/emergency_vs_non-emergency_dataset/images/773.jpg\n",
      "/kaggle/input/emergency_vs_non-emergency_dataset/images/499.jpg\n",
      "/kaggle/input/emergency_vs_non-emergency_dataset/images/2295.jpg\n",
      "/kaggle/input/emergency_vs_non-emergency_dataset/images/917.jpg\n",
      "/kaggle/input/emergency_vs_non-emergency_dataset/images/545.jpg\n",
      "/kaggle/input/emergency_vs_non-emergency_dataset/images/858.jpg\n",
      "/kaggle/input/emergency_vs_non-emergency_dataset/images/2191.jpg\n",
      "/kaggle/input/emergency_vs_non-emergency_dataset/images/622.jpg\n",
      "/kaggle/input/emergency_vs_non-emergency_dataset/images/1234.jpg\n",
      "/kaggle/input/emergency_vs_non-emergency_dataset/images/1312.jpg\n",
      "/kaggle/input/emergency_vs_non-emergency_dataset/images/2184.jpg\n",
      "/kaggle/input/emergency_vs_non-emergency_dataset/images/2034.jpg\n",
      "/kaggle/input/emergency_vs_non-emergency_dataset/images/2315.jpg\n",
      "/kaggle/input/emergency_vs_non-emergency_dataset/images/855.jpg\n",
      "/kaggle/input/emergency_vs_non-emergency_dataset/images/141.jpg\n",
      "/kaggle/input/emergency_vs_non-emergency_dataset/images/1662.jpg\n",
      "/kaggle/input/emergency_vs_non-emergency_dataset/images/1966.jpg\n",
      "/kaggle/input/emergency_vs_non-emergency_dataset/images/1010.jpg\n",
      "/kaggle/input/emergency_vs_non-emergency_dataset/images/759.jpg\n",
      "/kaggle/input/emergency_vs_non-emergency_dataset/images/2252.jpg\n",
      "/kaggle/input/emergency_vs_non-emergency_dataset/images/1579.jpg\n",
      "/kaggle/input/emergency_vs_non-emergency_dataset/images/1548.jpg\n",
      "/kaggle/input/emergency_vs_non-emergency_dataset/images/2159.jpg\n",
      "/kaggle/input/emergency_vs_non-emergency_dataset/images/283.jpg\n",
      "/kaggle/input/emergency_vs_non-emergency_dataset/images/2253.jpg\n",
      "/kaggle/input/emergency_vs_non-emergency_dataset/images/434.jpg\n",
      "/kaggle/input/emergency_vs_non-emergency_dataset/images/561.jpg\n",
      "/kaggle/input/emergency_vs_non-emergency_dataset/images/1122.jpg\n",
      "/kaggle/input/emergency_vs_non-emergency_dataset/images/90.jpg\n",
      "/kaggle/input/emergency_vs_non-emergency_dataset/images/1152.jpg\n",
      "/kaggle/input/emergency_vs_non-emergency_dataset/images/2300.jpg\n",
      "/kaggle/input/emergency_vs_non-emergency_dataset/images/1682.jpg\n",
      "/kaggle/input/emergency_vs_non-emergency_dataset/images/1383.jpg\n",
      "/kaggle/input/emergency_vs_non-emergency_dataset/images/1311.jpg\n",
      "/kaggle/input/emergency_vs_non-emergency_dataset/images/852.jpg\n",
      "/kaggle/input/emergency_vs_non-emergency_dataset/images/1457.jpg\n",
      "/kaggle/input/emergency_vs_non-emergency_dataset/images/247.jpg\n",
      "/kaggle/input/emergency_vs_non-emergency_dataset/images/1017.jpg\n",
      "/kaggle/input/emergency_vs_non-emergency_dataset/images/273.jpg\n",
      "/kaggle/input/emergency_vs_non-emergency_dataset/images/387.jpg\n",
      "/kaggle/input/emergency_vs_non-emergency_dataset/images/968.jpg\n",
      "/kaggle/input/emergency_vs_non-emergency_dataset/images/1024.jpg\n",
      "/kaggle/input/emergency_vs_non-emergency_dataset/images/408.jpg\n",
      "/kaggle/input/emergency_vs_non-emergency_dataset/images/1373.jpg\n",
      "/kaggle/input/emergency_vs_non-emergency_dataset/images/1382.jpg\n",
      "/kaggle/input/emergency_vs_non-emergency_dataset/images/420.jpg\n",
      "/kaggle/input/emergency_vs_non-emergency_dataset/images/2011.jpg\n",
      "/kaggle/input/emergency_vs_non-emergency_dataset/images/2047.jpg\n",
      "/kaggle/input/emergency_vs_non-emergency_dataset/images/361.jpg\n",
      "/kaggle/input/emergency_vs_non-emergency_dataset/images/1609.jpg\n",
      "/kaggle/input/emergency_vs_non-emergency_dataset/images/961.jpg\n",
      "/kaggle/input/emergency_vs_non-emergency_dataset/images/414.jpg\n",
      "/kaggle/input/emergency_vs_non-emergency_dataset/images/1716.jpg\n",
      "/kaggle/input/emergency_vs_non-emergency_dataset/images/1384.jpg\n",
      "/kaggle/input/emergency_vs_non-emergency_dataset/images/1746.jpg\n",
      "/kaggle/input/emergency_vs_non-emergency_dataset/images/1175.jpg\n",
      "/kaggle/input/emergency_vs_non-emergency_dataset/images/1267.jpg\n",
      "/kaggle/input/emergency_vs_non-emergency_dataset/images/222.jpg\n",
      "/kaggle/input/emergency_vs_non-emergency_dataset/images/1034.jpg\n",
      "/kaggle/input/emergency_vs_non-emergency_dataset/images/1997.jpg\n",
      "/kaggle/input/emergency_vs_non-emergency_dataset/images/474.jpg\n",
      "/kaggle/input/emergency_vs_non-emergency_dataset/images/2326.jpg\n",
      "/kaggle/input/emergency_vs_non-emergency_dataset/images/1258.jpg\n",
      "/kaggle/input/emergency_vs_non-emergency_dataset/images/1088.jpg\n",
      "/kaggle/input/emergency_vs_non-emergency_dataset/images/1844.jpg\n",
      "/kaggle/input/emergency_vs_non-emergency_dataset/images/1998.jpg\n",
      "/kaggle/input/emergency_vs_non-emergency_dataset/images/879.jpg\n",
      "/kaggle/input/emergency_vs_non-emergency_dataset/images/992.jpg\n",
      "/kaggle/input/emergency_vs_non-emergency_dataset/images/384.jpg\n",
      "/kaggle/input/emergency_vs_non-emergency_dataset/images/1348.jpg\n",
      "/kaggle/input/emergency_vs_non-emergency_dataset/images/700.jpg\n",
      "/kaggle/input/emergency_vs_non-emergency_dataset/images/150.jpg\n",
      "/kaggle/input/emergency_vs_non-emergency_dataset/images/1398.jpg\n",
      "/kaggle/input/emergency_vs_non-emergency_dataset/images/1012.jpg\n",
      "/kaggle/input/emergency_vs_non-emergency_dataset/images/1936.jpg\n",
      "/kaggle/input/emergency_vs_non-emergency_dataset/images/2345.jpg\n",
      "/kaggle/input/emergency_vs_non-emergency_dataset/images/836.jpg\n",
      "/kaggle/input/emergency_vs_non-emergency_dataset/images/1217.jpg\n",
      "/kaggle/input/emergency_vs_non-emergency_dataset/images/2284.jpg\n",
      "/kaggle/input/emergency_vs_non-emergency_dataset/images/790.jpg\n",
      "/kaggle/input/emergency_vs_non-emergency_dataset/images/810.jpg\n",
      "/kaggle/input/emergency_vs_non-emergency_dataset/images/1077.jpg\n",
      "/kaggle/input/emergency_vs_non-emergency_dataset/images/309.jpg\n",
      "/kaggle/input/emergency_vs_non-emergency_dataset/images/310.jpg\n",
      "/kaggle/input/emergency_vs_non-emergency_dataset/images/2348.jpg\n",
      "/kaggle/input/emergency_vs_non-emergency_dataset/images/139.jpg\n",
      "/kaggle/input/emergency_vs_non-emergency_dataset/images/1631.jpg\n",
      "/kaggle/input/emergency_vs_non-emergency_dataset/images/695.jpg\n",
      "/kaggle/input/emergency_vs_non-emergency_dataset/images/1390.jpg\n",
      "/kaggle/input/emergency_vs_non-emergency_dataset/images/156.jpg\n",
      "/kaggle/input/emergency_vs_non-emergency_dataset/images/1161.jpg\n",
      "/kaggle/input/emergency_vs_non-emergency_dataset/images/1701.jpg\n",
      "/kaggle/input/emergency_vs_non-emergency_dataset/images/227.jpg\n",
      "/kaggle/input/emergency_vs_non-emergency_dataset/images/1102.jpg\n",
      "/kaggle/input/emergency_vs_non-emergency_dataset/images/175.jpg\n",
      "/kaggle/input/emergency_vs_non-emergency_dataset/images/869.jpg\n",
      "/kaggle/input/emergency_vs_non-emergency_dataset/images/899.jpg\n",
      "/kaggle/input/emergency_vs_non-emergency_dataset/images/798.jpg\n",
      "/kaggle/input/emergency_vs_non-emergency_dataset/images/1213.jpg\n",
      "/kaggle/input/emergency_vs_non-emergency_dataset/images/1441.jpg\n",
      "/kaggle/input/emergency_vs_non-emergency_dataset/images/1858.jpg\n",
      "/kaggle/input/emergency_vs_non-emergency_dataset/images/915.jpg\n",
      "/kaggle/input/emergency_vs_non-emergency_dataset/images/1669.jpg\n",
      "/kaggle/input/emergency_vs_non-emergency_dataset/images/1338.jpg\n",
      "/kaggle/input/emergency_vs_non-emergency_dataset/images/801.jpg\n",
      "/kaggle/input/emergency_vs_non-emergency_dataset/images/172.jpg\n",
      "/kaggle/input/emergency_vs_non-emergency_dataset/images/691.jpg\n",
      "/kaggle/input/emergency_vs_non-emergency_dataset/images/2137.jpg\n",
      "/kaggle/input/emergency_vs_non-emergency_dataset/images/1046.jpg\n",
      "/kaggle/input/emergency_vs_non-emergency_dataset/images/943.jpg\n",
      "/kaggle/input/emergency_vs_non-emergency_dataset/images/258.jpg\n",
      "/kaggle/input/emergency_vs_non-emergency_dataset/images/2186.jpg\n",
      "/kaggle/input/emergency_vs_non-emergency_dataset/images/1705.jpg\n",
      "/kaggle/input/emergency_vs_non-emergency_dataset/images/1783.jpg\n",
      "/kaggle/input/emergency_vs_non-emergency_dataset/images/1074.jpg\n",
      "/kaggle/input/emergency_vs_non-emergency_dataset/images/86.jpg\n",
      "/kaggle/input/emergency_vs_non-emergency_dataset/images/1779.jpg\n",
      "/kaggle/input/emergency_vs_non-emergency_dataset/images/1604.jpg\n",
      "/kaggle/input/emergency_vs_non-emergency_dataset/images/1304.jpg\n",
      "/kaggle/input/emergency_vs_non-emergency_dataset/images/736.jpg\n",
      "/kaggle/input/emergency_vs_non-emergency_dataset/images/453.jpg\n",
      "/kaggle/input/emergency_vs_non-emergency_dataset/images/111.jpg\n",
      "/kaggle/input/emergency_vs_non-emergency_dataset/images/1942.jpg\n",
      "/kaggle/input/emergency_vs_non-emergency_dataset/images/494.jpg\n",
      "/kaggle/input/emergency_vs_non-emergency_dataset/images/1355.jpg\n",
      "/kaggle/input/emergency_vs_non-emergency_dataset/images/1396.jpg\n",
      "/kaggle/input/emergency_vs_non-emergency_dataset/images/2149.jpg\n",
      "/kaggle/input/emergency_vs_non-emergency_dataset/images/1767.jpg\n",
      "/kaggle/input/emergency_vs_non-emergency_dataset/images/1379.jpg\n",
      "/kaggle/input/emergency_vs_non-emergency_dataset/images/2154.jpg\n",
      "/kaggle/input/emergency_vs_non-emergency_dataset/images/1279.jpg\n",
      "/kaggle/input/emergency_vs_non-emergency_dataset/images/386.jpg\n",
      "/kaggle/input/emergency_vs_non-emergency_dataset/images/1655.jpg\n",
      "/kaggle/input/emergency_vs_non-emergency_dataset/images/348.jpg\n",
      "/kaggle/input/emergency_vs_non-emergency_dataset/images/1232.jpg\n",
      "/kaggle/input/emergency_vs_non-emergency_dataset/images/1026.jpg\n",
      "/kaggle/input/emergency_vs_non-emergency_dataset/images/1796.jpg\n",
      "/kaggle/input/emergency_vs_non-emergency_dataset/images/458.jpg\n",
      "/kaggle/input/emergency_vs_non-emergency_dataset/images/295.jpg\n",
      "/kaggle/input/emergency_vs_non-emergency_dataset/images/1553.jpg\n",
      "/kaggle/input/emergency_vs_non-emergency_dataset/images/1368.jpg\n",
      "/kaggle/input/emergency_vs_non-emergency_dataset/images/689.jpg\n",
      "/kaggle/input/emergency_vs_non-emergency_dataset/images/1676.jpg\n",
      "/kaggle/input/emergency_vs_non-emergency_dataset/images/1364.jpg\n",
      "/kaggle/input/emergency_vs_non-emergency_dataset/images/313.jpg\n",
      "/kaggle/input/emergency_vs_non-emergency_dataset/images/1456.jpg\n",
      "/kaggle/input/emergency_vs_non-emergency_dataset/images/788.jpg\n",
      "/kaggle/input/emergency_vs_non-emergency_dataset/images/1656.jpg\n",
      "/kaggle/input/emergency_vs_non-emergency_dataset/images/40.jpg\n",
      "/kaggle/input/emergency_vs_non-emergency_dataset/images/1399.jpg\n",
      "/kaggle/input/emergency_vs_non-emergency_dataset/images/1890.jpg\n",
      "/kaggle/input/emergency_vs_non-emergency_dataset/images/1409.jpg\n",
      "/kaggle/input/emergency_vs_non-emergency_dataset/images/682.jpg\n",
      "/kaggle/input/emergency_vs_non-emergency_dataset/images/149.jpg\n",
      "/kaggle/input/emergency_vs_non-emergency_dataset/images/1893.jpg\n",
      "/kaggle/input/emergency_vs_non-emergency_dataset/images/1891.jpg\n",
      "/kaggle/input/emergency_vs_non-emergency_dataset/images/1798.jpg\n",
      "/kaggle/input/emergency_vs_non-emergency_dataset/images/1395.jpg\n",
      "/kaggle/input/emergency_vs_non-emergency_dataset/images/643.jpg\n",
      "/kaggle/input/emergency_vs_non-emergency_dataset/images/232.jpg\n",
      "/kaggle/input/emergency_vs_non-emergency_dataset/images/2291.jpg\n",
      "/kaggle/input/emergency_vs_non-emergency_dataset/images/832.jpg\n",
      "/kaggle/input/emergency_vs_non-emergency_dataset/images/210.jpg\n",
      "/kaggle/input/emergency_vs_non-emergency_dataset/images/841.jpg\n",
      "/kaggle/input/emergency_vs_non-emergency_dataset/images/2100.jpg\n",
      "/kaggle/input/emergency_vs_non-emergency_dataset/images/1929.jpg\n",
      "/kaggle/input/emergency_vs_non-emergency_dataset/images/2087.jpg\n",
      "/kaggle/input/emergency_vs_non-emergency_dataset/images/1290.jpg\n",
      "/kaggle/input/emergency_vs_non-emergency_dataset/images/1670.jpg\n",
      "/kaggle/input/emergency_vs_non-emergency_dataset/images/588.jpg\n",
      "/kaggle/input/emergency_vs_non-emergency_dataset/images/2040.jpg\n",
      "/kaggle/input/emergency_vs_non-emergency_dataset/images/98.jpg\n",
      "/kaggle/input/emergency_vs_non-emergency_dataset/images/1665.jpg\n",
      "/kaggle/input/emergency_vs_non-emergency_dataset/images/831.jpg\n",
      "/kaggle/input/emergency_vs_non-emergency_dataset/images/1685.jpg\n",
      "/kaggle/input/emergency_vs_non-emergency_dataset/images/58.jpg\n",
      "/kaggle/input/emergency_vs_non-emergency_dataset/images/816.jpg\n",
      "/kaggle/input/emergency_vs_non-emergency_dataset/images/1428.jpg\n",
      "/kaggle/input/emergency_vs_non-emergency_dataset/images/1804.jpg\n",
      "/kaggle/input/emergency_vs_non-emergency_dataset/images/142.jpg\n",
      "/kaggle/input/emergency_vs_non-emergency_dataset/images/1897.jpg\n",
      "/kaggle/input/emergency_vs_non-emergency_dataset/images/462.jpg\n",
      "/kaggle/input/emergency_vs_non-emergency_dataset/images/2229.jpg\n",
      "/kaggle/input/emergency_vs_non-emergency_dataset/images/1683.jpg\n",
      "/kaggle/input/emergency_vs_non-emergency_dataset/images/2323.jpg\n",
      "/kaggle/input/emergency_vs_non-emergency_dataset/images/2049.jpg\n",
      "/kaggle/input/emergency_vs_non-emergency_dataset/images/1170.jpg\n",
      "/kaggle/input/emergency_vs_non-emergency_dataset/images/123.jpg\n",
      "/kaggle/input/emergency_vs_non-emergency_dataset/images/754.jpg\n",
      "/kaggle/input/emergency_vs_non-emergency_dataset/images/497.jpg\n",
      "/kaggle/input/emergency_vs_non-emergency_dataset/images/38.jpg\n",
      "/kaggle/input/emergency_vs_non-emergency_dataset/images/1572.jpg\n",
      "/kaggle/input/emergency_vs_non-emergency_dataset/images/830.jpg\n",
      "/kaggle/input/emergency_vs_non-emergency_dataset/images/1611.jpg\n",
      "/kaggle/input/emergency_vs_non-emergency_dataset/images/155.jpg\n",
      "/kaggle/input/emergency_vs_non-emergency_dataset/images/80.jpg\n",
      "/kaggle/input/emergency_vs_non-emergency_dataset/images/568.jpg\n",
      "/kaggle/input/emergency_vs_non-emergency_dataset/images/1160.jpg\n",
      "/kaggle/input/emergency_vs_non-emergency_dataset/images/730.jpg\n",
      "/kaggle/input/emergency_vs_non-emergency_dataset/images/467.jpg\n",
      "/kaggle/input/emergency_vs_non-emergency_dataset/images/1773.jpg\n",
      "/kaggle/input/emergency_vs_non-emergency_dataset/images/711.jpg\n",
      "/kaggle/input/emergency_vs_non-emergency_dataset/images/1487.jpg\n",
      "/kaggle/input/emergency_vs_non-emergency_dataset/images/367.jpg\n",
      "/kaggle/input/emergency_vs_non-emergency_dataset/images/612.jpg\n",
      "/kaggle/input/emergency_vs_non-emergency_dataset/images/1793.jpg\n",
      "/kaggle/input/emergency_vs_non-emergency_dataset/images/1421.jpg\n",
      "/kaggle/input/emergency_vs_non-emergency_dataset/images/2261.jpg\n",
      "/kaggle/input/emergency_vs_non-emergency_dataset/images/1552.jpg\n",
      "/kaggle/input/emergency_vs_non-emergency_dataset/images/1480.jpg\n",
      "/kaggle/input/emergency_vs_non-emergency_dataset/images/2032.jpg\n",
      "/kaggle/input/emergency_vs_non-emergency_dataset/images/1346.jpg\n",
      "/kaggle/input/emergency_vs_non-emergency_dataset/images/2019.jpg\n",
      "/kaggle/input/emergency_vs_non-emergency_dataset/images/1172.jpg\n",
      "/kaggle/input/emergency_vs_non-emergency_dataset/images/1708.jpg\n",
      "/kaggle/input/emergency_vs_non-emergency_dataset/images/315.jpg\n",
      "/kaggle/input/emergency_vs_non-emergency_dataset/images/1447.jpg\n",
      "/kaggle/input/emergency_vs_non-emergency_dataset/images/2096.jpg\n",
      "/kaggle/input/emergency_vs_non-emergency_dataset/images/349.jpg\n",
      "/kaggle/input/emergency_vs_non-emergency_dataset/images/1823.jpg\n",
      "/kaggle/input/emergency_vs_non-emergency_dataset/images/89.jpg\n",
      "/kaggle/input/emergency_vs_non-emergency_dataset/images/1852.jpg\n",
      "/kaggle/input/emergency_vs_non-emergency_dataset/images/567.jpg\n",
      "/kaggle/input/emergency_vs_non-emergency_dataset/images/572.jpg\n",
      "/kaggle/input/emergency_vs_non-emergency_dataset/images/1429.jpg\n",
      "/kaggle/input/emergency_vs_non-emergency_dataset/images/1995.jpg\n",
      "/kaggle/input/emergency_vs_non-emergency_dataset/images/206.jpg\n",
      "/kaggle/input/emergency_vs_non-emergency_dataset/images/1576.jpg\n",
      "/kaggle/input/emergency_vs_non-emergency_dataset/images/298.jpg\n",
      "/kaggle/input/emergency_vs_non-emergency_dataset/images/34.jpg\n",
      "/kaggle/input/emergency_vs_non-emergency_dataset/images/1313.jpg\n",
      "/kaggle/input/emergency_vs_non-emergency_dataset/images/1455.jpg\n",
      "/kaggle/input/emergency_vs_non-emergency_dataset/images/1933.jpg\n",
      "/kaggle/input/emergency_vs_non-emergency_dataset/images/2133.jpg\n",
      "/kaggle/input/emergency_vs_non-emergency_dataset/images/1114.jpg\n",
      "/kaggle/input/emergency_vs_non-emergency_dataset/images/1961.jpg\n",
      "/kaggle/input/emergency_vs_non-emergency_dataset/images/2273.jpg\n",
      "/kaggle/input/emergency_vs_non-emergency_dataset/images/881.jpg\n",
      "/kaggle/input/emergency_vs_non-emergency_dataset/images/1810.jpg\n",
      "/kaggle/input/emergency_vs_non-emergency_dataset/images/717.jpg\n",
      "/kaggle/input/emergency_vs_non-emergency_dataset/images/1919.jpg\n",
      "/kaggle/input/emergency_vs_non-emergency_dataset/images/818.jpg\n",
      "/kaggle/input/emergency_vs_non-emergency_dataset/images/1634.jpg\n",
      "/kaggle/input/emergency_vs_non-emergency_dataset/images/1340.jpg\n",
      "/kaggle/input/emergency_vs_non-emergency_dataset/images/1148.jpg\n",
      "/kaggle/input/emergency_vs_non-emergency_dataset/images/1019.jpg\n",
      "/kaggle/input/emergency_vs_non-emergency_dataset/images/2006.jpg\n",
      "/kaggle/input/emergency_vs_non-emergency_dataset/images/848.jpg\n",
      "/kaggle/input/emergency_vs_non-emergency_dataset/images/2079.jpg\n",
      "/kaggle/input/emergency_vs_non-emergency_dataset/images/2259.jpg\n",
      "/kaggle/input/emergency_vs_non-emergency_dataset/images/575.jpg\n",
      "/kaggle/input/emergency_vs_non-emergency_dataset/images/481.jpg\n",
      "/kaggle/input/emergency_vs_non-emergency_dataset/images/250.jpg\n",
      "/kaggle/input/emergency_vs_non-emergency_dataset/images/1296.jpg\n",
      "/kaggle/input/emergency_vs_non-emergency_dataset/images/2102.jpg\n",
      "/kaggle/input/emergency_vs_non-emergency_dataset/images/795.jpg\n",
      "/kaggle/input/emergency_vs_non-emergency_dataset/images/508.jpg\n",
      "/kaggle/input/emergency_vs_non-emergency_dataset/images/1141.jpg\n",
      "/kaggle/input/emergency_vs_non-emergency_dataset/images/92.jpg\n",
      "/kaggle/input/emergency_vs_non-emergency_dataset/images/2199.jpg\n",
      "/kaggle/input/emergency_vs_non-emergency_dataset/images/888.jpg\n",
      "/kaggle/input/emergency_vs_non-emergency_dataset/images/2221.jpg\n",
      "/kaggle/input/emergency_vs_non-emergency_dataset/images/2151.jpg\n",
      "/kaggle/input/emergency_vs_non-emergency_dataset/images/1654.jpg\n",
      "/kaggle/input/emergency_vs_non-emergency_dataset/images/2196.jpg\n",
      "/kaggle/input/emergency_vs_non-emergency_dataset/images/916.jpg\n",
      "/kaggle/input/emergency_vs_non-emergency_dataset/images/2285.jpg\n",
      "/kaggle/input/emergency_vs_non-emergency_dataset/images/1076.jpg\n",
      "/kaggle/input/emergency_vs_non-emergency_dataset/images/1827.jpg\n",
      "/kaggle/input/emergency_vs_non-emergency_dataset/images/1501.jpg\n",
      "/kaggle/input/emergency_vs_non-emergency_dataset/images/1768.jpg\n",
      "/kaggle/input/emergency_vs_non-emergency_dataset/images/2061.jpg\n",
      "/kaggle/input/emergency_vs_non-emergency_dataset/images/1023.jpg\n",
      "/kaggle/input/emergency_vs_non-emergency_dataset/images/85.jpg\n",
      "/kaggle/input/emergency_vs_non-emergency_dataset/images/598.jpg\n",
      "/kaggle/input/emergency_vs_non-emergency_dataset/images/806.jpg\n",
      "/kaggle/input/emergency_vs_non-emergency_dataset/images/2324.jpg\n",
      "/kaggle/input/emergency_vs_non-emergency_dataset/images/12.jpg\n",
      "/kaggle/input/emergency_vs_non-emergency_dataset/images/1855.jpg\n",
      "/kaggle/input/emergency_vs_non-emergency_dataset/images/2113.jpg\n",
      "/kaggle/input/emergency_vs_non-emergency_dataset/images/760.jpg\n",
      "/kaggle/input/emergency_vs_non-emergency_dataset/images/478.jpg\n",
      "/kaggle/input/emergency_vs_non-emergency_dataset/images/136.jpg\n",
      "/kaggle/input/emergency_vs_non-emergency_dataset/images/53.jpg\n",
      "/kaggle/input/emergency_vs_non-emergency_dataset/images/2051.jpg\n",
      "/kaggle/input/emergency_vs_non-emergency_dataset/images/346.jpg\n",
      "/kaggle/input/emergency_vs_non-emergency_dataset/images/1437.jpg\n",
      "/kaggle/input/emergency_vs_non-emergency_dataset/images/1316.jpg\n",
      "/kaggle/input/emergency_vs_non-emergency_dataset/images/1415.jpg\n",
      "/kaggle/input/emergency_vs_non-emergency_dataset/images/1938.jpg\n",
      "/kaggle/input/emergency_vs_non-emergency_dataset/images/1607.jpg\n",
      "/kaggle/input/emergency_vs_non-emergency_dataset/images/675.jpg\n",
      "/kaggle/input/emergency_vs_non-emergency_dataset/images/127.jpg\n",
      "/kaggle/input/emergency_vs_non-emergency_dataset/images/618.jpg\n",
      "/kaggle/input/emergency_vs_non-emergency_dataset/images/1192.jpg\n",
      "/kaggle/input/emergency_vs_non-emergency_dataset/images/2070.jpg\n",
      "/kaggle/input/emergency_vs_non-emergency_dataset/images/1157.jpg\n",
      "/kaggle/input/emergency_vs_non-emergency_dataset/images/2060.jpg\n",
      "/kaggle/input/emergency_vs_non-emergency_dataset/images/1238.jpg\n",
      "/kaggle/input/emergency_vs_non-emergency_dataset/images/970.jpg\n",
      "/kaggle/input/emergency_vs_non-emergency_dataset/images/486.jpg\n",
      "/kaggle/input/emergency_vs_non-emergency_dataset/images/289.jpg\n",
      "/kaggle/input/emergency_vs_non-emergency_dataset/images/1985.jpg\n",
      "/kaggle/input/emergency_vs_non-emergency_dataset/images/825.jpg\n",
      "/kaggle/input/emergency_vs_non-emergency_dataset/images/2119.jpg\n",
      "/kaggle/input/emergency_vs_non-emergency_dataset/images/1818.jpg\n",
      "/kaggle/input/emergency_vs_non-emergency_dataset/images/487.jpg\n",
      "/kaggle/input/emergency_vs_non-emergency_dataset/images/1566.jpg\n",
      "/kaggle/input/emergency_vs_non-emergency_dataset/images/0.jpg\n",
      "/kaggle/input/emergency_vs_non-emergency_dataset/images/2045.jpg\n",
      "/kaggle/input/emergency_vs_non-emergency_dataset/images/967.jpg\n",
      "/kaggle/input/emergency_vs_non-emergency_dataset/images/1725.jpg\n",
      "/kaggle/input/emergency_vs_non-emergency_dataset/images/358.jpg\n",
      "/kaggle/input/emergency_vs_non-emergency_dataset/images/642.jpg\n",
      "/kaggle/input/emergency_vs_non-emergency_dataset/images/1626.jpg\n",
      "/kaggle/input/emergency_vs_non-emergency_dataset/images/891.jpg\n",
      "/kaggle/input/emergency_vs_non-emergency_dataset/images/645.jpg\n",
      "/kaggle/input/emergency_vs_non-emergency_dataset/images/101.jpg\n",
      "/kaggle/input/emergency_vs_non-emergency_dataset/images/128.jpg\n",
      "/kaggle/input/emergency_vs_non-emergency_dataset/images/1763.jpg\n",
      "/kaggle/input/emergency_vs_non-emergency_dataset/images/1508.jpg\n",
      "/kaggle/input/emergency_vs_non-emergency_dataset/images/1600.jpg\n",
      "/kaggle/input/emergency_vs_non-emergency_dataset/images/735.jpg\n",
      "/kaggle/input/emergency_vs_non-emergency_dataset/images/1165.jpg\n",
      "/kaggle/input/emergency_vs_non-emergency_dataset/images/2093.jpg\n",
      "/kaggle/input/emergency_vs_non-emergency_dataset/images/1202.jpg\n",
      "/kaggle/input/emergency_vs_non-emergency_dataset/images/580.jpg\n",
      "/kaggle/input/emergency_vs_non-emergency_dataset/images/2050.jpg\n",
      "/kaggle/input/emergency_vs_non-emergency_dataset/images/78.jpg\n",
      "/kaggle/input/emergency_vs_non-emergency_dataset/images/2346.jpg\n",
      "/kaggle/input/emergency_vs_non-emergency_dataset/images/652.jpg\n",
      "/kaggle/input/emergency_vs_non-emergency_dataset/images/839.jpg\n",
      "/kaggle/input/emergency_vs_non-emergency_dataset/images/1778.jpg\n",
      "/kaggle/input/emergency_vs_non-emergency_dataset/images/694.jpg\n",
      "/kaggle/input/emergency_vs_non-emergency_dataset/images/767.jpg\n",
      "/kaggle/input/emergency_vs_non-emergency_dataset/images/1636.jpg\n",
      "/kaggle/input/emergency_vs_non-emergency_dataset/images/1860.jpg\n",
      "/kaggle/input/emergency_vs_non-emergency_dataset/images/2056.jpg\n",
      "/kaggle/input/emergency_vs_non-emergency_dataset/images/1460.jpg\n",
      "/kaggle/input/emergency_vs_non-emergency_dataset/images/1315.jpg\n",
      "/kaggle/input/emergency_vs_non-emergency_dataset/images/842.jpg\n",
      "/kaggle/input/emergency_vs_non-emergency_dataset/images/1391.jpg\n",
      "/kaggle/input/emergency_vs_non-emergency_dataset/images/1690.jpg\n",
      "/kaggle/input/emergency_vs_non-emergency_dataset/images/1758.jpg\n",
      "/kaggle/input/emergency_vs_non-emergency_dataset/images/1200.jpg\n",
      "/kaggle/input/emergency_vs_non-emergency_dataset/images/1064.jpg\n",
      "/kaggle/input/emergency_vs_non-emergency_dataset/images/2078.jpg\n",
      "/kaggle/input/emergency_vs_non-emergency_dataset/images/615.jpg\n",
      "/kaggle/input/emergency_vs_non-emergency_dataset/images/981.jpg\n",
      "/kaggle/input/emergency_vs_non-emergency_dataset/images/1082.jpg\n",
      "/kaggle/input/emergency_vs_non-emergency_dataset/images/1000.jpg\n",
      "/kaggle/input/emergency_vs_non-emergency_dataset/images/1610.jpg\n",
      "/kaggle/input/emergency_vs_non-emergency_dataset/images/1835.jpg\n",
      "/kaggle/input/emergency_vs_non-emergency_dataset/images/817.jpg\n",
      "/kaggle/input/emergency_vs_non-emergency_dataset/images/1471.jpg\n",
      "/kaggle/input/emergency_vs_non-emergency_dataset/images/946.jpg\n",
      "/kaggle/input/emergency_vs_non-emergency_dataset/images/1241.jpg\n",
      "/kaggle/input/emergency_vs_non-emergency_dataset/images/176.jpg\n",
      "/kaggle/input/emergency_vs_non-emergency_dataset/images/1850.jpg\n",
      "/kaggle/input/emergency_vs_non-emergency_dataset/images/2077.jpg\n",
      "/kaggle/input/emergency_vs_non-emergency_dataset/images/2023.jpg\n",
      "/kaggle/input/emergency_vs_non-emergency_dataset/images/596.jpg\n",
      "/kaggle/input/emergency_vs_non-emergency_dataset/images/911.jpg\n",
      "/kaggle/input/emergency_vs_non-emergency_dataset/images/472.jpg\n",
      "/kaggle/input/emergency_vs_non-emergency_dataset/images/2134.jpg\n",
      "/kaggle/input/emergency_vs_non-emergency_dataset/images/1300.jpg\n",
      "/kaggle/input/emergency_vs_non-emergency_dataset/images/1638.jpg\n",
      "/kaggle/input/emergency_vs_non-emergency_dataset/images/2057.jpg\n",
      "/kaggle/input/emergency_vs_non-emergency_dataset/images/2104.jpg\n",
      "/kaggle/input/emergency_vs_non-emergency_dataset/images/363.jpg\n",
      "/kaggle/input/emergency_vs_non-emergency_dataset/images/2116.jpg\n",
      "/kaggle/input/emergency_vs_non-emergency_dataset/images/2265.jpg\n",
      "/kaggle/input/emergency_vs_non-emergency_dataset/images/880.jpg\n",
      "/kaggle/input/emergency_vs_non-emergency_dataset/images/2202.jpg\n",
      "/kaggle/input/emergency_vs_non-emergency_dataset/images/1389.jpg\n",
      "/kaggle/input/emergency_vs_non-emergency_dataset/images/1231.jpg\n",
      "/kaggle/input/emergency_vs_non-emergency_dataset/images/995.jpg\n",
      "/kaggle/input/emergency_vs_non-emergency_dataset/images/2339.jpg\n",
      "/kaggle/input/emergency_vs_non-emergency_dataset/images/1414.jpg\n",
      "/kaggle/input/emergency_vs_non-emergency_dataset/images/699.jpg\n",
      "/kaggle/input/emergency_vs_non-emergency_dataset/images/873.jpg\n",
      "/kaggle/input/emergency_vs_non-emergency_dataset/images/1544.jpg\n",
      "/kaggle/input/emergency_vs_non-emergency_dataset/images/1189.jpg\n",
      "/kaggle/input/emergency_vs_non-emergency_dataset/images/1206.jpg\n",
      "/kaggle/input/emergency_vs_non-emergency_dataset/images/2066.jpg\n",
      "/kaggle/input/emergency_vs_non-emergency_dataset/images/317.jpg\n",
      "/kaggle/input/emergency_vs_non-emergency_dataset/images/395.jpg\n",
      "/kaggle/input/emergency_vs_non-emergency_dataset/images/2140.jpg\n",
      "/kaggle/input/emergency_vs_non-emergency_dataset/images/110.jpg\n",
      "/kaggle/input/emergency_vs_non-emergency_dataset/images/1436.jpg\n",
      "/kaggle/input/emergency_vs_non-emergency_dataset/images/907.jpg\n",
      "/kaggle/input/emergency_vs_non-emergency_dataset/images/471.jpg\n",
      "/kaggle/input/emergency_vs_non-emergency_dataset/images/2143.jpg\n",
      "/kaggle/input/emergency_vs_non-emergency_dataset/images/1806.jpg\n",
      "/kaggle/input/emergency_vs_non-emergency_dataset/images/1711.jpg\n",
      "/kaggle/input/emergency_vs_non-emergency_dataset/images/1063.jpg\n",
      "/kaggle/input/emergency_vs_non-emergency_dataset/images/1577.jpg\n",
      "/kaggle/input/emergency_vs_non-emergency_dataset/images/2117.jpg\n",
      "/kaggle/input/emergency_vs_non-emergency_dataset/images/937.jpg\n",
      "/kaggle/input/emergency_vs_non-emergency_dataset/images/893.jpg\n",
      "/kaggle/input/emergency_vs_non-emergency_dataset/images/64.jpg\n",
      "/kaggle/input/emergency_vs_non-emergency_dataset/images/983.jpg\n",
      "/kaggle/input/emergency_vs_non-emergency_dataset/images/720.jpg\n",
      "/kaggle/input/emergency_vs_non-emergency_dataset/images/154.jpg\n",
      "/kaggle/input/emergency_vs_non-emergency_dataset/images/1557.jpg\n",
      "/kaggle/input/emergency_vs_non-emergency_dataset/images/105.jpg\n",
      "/kaggle/input/emergency_vs_non-emergency_dataset/images/1247.jpg\n",
      "/kaggle/input/emergency_vs_non-emergency_dataset/images/1040.jpg\n",
      "/kaggle/input/emergency_vs_non-emergency_dataset/images/2021.jpg\n",
      "/kaggle/input/emergency_vs_non-emergency_dataset/images/112.jpg\n",
      "/kaggle/input/emergency_vs_non-emergency_dataset/images/1127.jpg\n",
      "/kaggle/input/emergency_vs_non-emergency_dataset/images/655.jpg\n",
      "/kaggle/input/emergency_vs_non-emergency_dataset/images/107.jpg\n",
      "/kaggle/input/emergency_vs_non-emergency_dataset/images/1054.jpg\n",
      "/kaggle/input/emergency_vs_non-emergency_dataset/images/2336.jpg\n",
      "/kaggle/input/emergency_vs_non-emergency_dataset/images/1881.jpg\n",
      "/kaggle/input/emergency_vs_non-emergency_dataset/images/791.jpg\n",
      "/kaggle/input/emergency_vs_non-emergency_dataset/images/546.jpg\n",
      "/kaggle/input/emergency_vs_non-emergency_dataset/images/1209.jpg\n",
      "/kaggle/input/emergency_vs_non-emergency_dataset/images/843.jpg\n",
      "/kaggle/input/emergency_vs_non-emergency_dataset/images/1849.jpg\n",
      "/kaggle/input/emergency_vs_non-emergency_dataset/images/1397.jpg\n",
      "/kaggle/input/emergency_vs_non-emergency_dataset/images/1970.jpg\n",
      "/kaggle/input/emergency_vs_non-emergency_dataset/images/687.jpg\n",
      "/kaggle/input/emergency_vs_non-emergency_dataset/images/209.jpg\n",
      "/kaggle/input/emergency_vs_non-emergency_dataset/images/397.jpg\n",
      "/kaggle/input/emergency_vs_non-emergency_dataset/images/2347.jpg\n",
      "/kaggle/input/emergency_vs_non-emergency_dataset/images/1417.jpg\n",
      "/kaggle/input/emergency_vs_non-emergency_dataset/images/856.jpg\n",
      "/kaggle/input/emergency_vs_non-emergency_dataset/images/1943.jpg\n",
      "/kaggle/input/emergency_vs_non-emergency_dataset/images/1037.jpg\n",
      "/kaggle/input/emergency_vs_non-emergency_dataset/images/865.jpg\n",
      "/kaggle/input/emergency_vs_non-emergency_dataset/images/948.jpg\n",
      "/kaggle/input/emergency_vs_non-emergency_dataset/images/886.jpg\n",
      "/kaggle/input/emergency_vs_non-emergency_dataset/images/753.jpg\n",
      "/kaggle/input/emergency_vs_non-emergency_dataset/images/582.jpg\n",
      "/kaggle/input/emergency_vs_non-emergency_dataset/images/1769.jpg\n",
      "/kaggle/input/emergency_vs_non-emergency_dataset/images/1794.jpg\n",
      "/kaggle/input/emergency_vs_non-emergency_dataset/images/751.jpg\n",
      "/kaggle/input/emergency_vs_non-emergency_dataset/images/887.jpg\n",
      "/kaggle/input/emergency_vs_non-emergency_dataset/images/709.jpg\n",
      "/kaggle/input/emergency_vs_non-emergency_dataset/images/1585.jpg\n",
      "/kaggle/input/emergency_vs_non-emergency_dataset/images/81.jpg\n",
      "/kaggle/input/emergency_vs_non-emergency_dataset/images/796.jpg\n",
      "/kaggle/input/emergency_vs_non-emergency_dataset/images/1826.jpg\n",
      "/kaggle/input/emergency_vs_non-emergency_dataset/images/1672.jpg\n",
      "/kaggle/input/emergency_vs_non-emergency_dataset/images/1673.jpg\n",
      "/kaggle/input/emergency_vs_non-emergency_dataset/images/2043.jpg\n",
      "/kaggle/input/emergency_vs_non-emergency_dataset/images/199.jpg\n",
      "/kaggle/input/emergency_vs_non-emergency_dataset/images/701.jpg\n",
      "/kaggle/input/emergency_vs_non-emergency_dataset/images/1103.jpg\n",
      "/kaggle/input/emergency_vs_non-emergency_dataset/images/300.jpg\n",
      "/kaggle/input/emergency_vs_non-emergency_dataset/images/800.jpg\n",
      "/kaggle/input/emergency_vs_non-emergency_dataset/images/533.jpg\n",
      "/kaggle/input/emergency_vs_non-emergency_dataset/images/477.jpg\n",
      "/kaggle/input/emergency_vs_non-emergency_dataset/images/233.jpg\n",
      "/kaggle/input/emergency_vs_non-emergency_dataset/images/226.jpg\n",
      "/kaggle/input/emergency_vs_non-emergency_dataset/images/900.jpg\n",
      "/kaggle/input/emergency_vs_non-emergency_dataset/images/1043.jpg\n",
      "/kaggle/input/emergency_vs_non-emergency_dataset/images/484.jpg\n",
      "/kaggle/input/emergency_vs_non-emergency_dataset/images/1073.jpg\n",
      "/kaggle/input/emergency_vs_non-emergency_dataset/images/1158.jpg\n",
      "/kaggle/input/emergency_vs_non-emergency_dataset/images/1225.jpg\n",
      "/kaggle/input/emergency_vs_non-emergency_dataset/images/2146.jpg\n",
      "/kaggle/input/emergency_vs_non-emergency_dataset/images/1930.jpg\n",
      "/kaggle/input/emergency_vs_non-emergency_dataset/images/1578.jpg\n",
      "/kaggle/input/emergency_vs_non-emergency_dataset/images/857.jpg\n",
      "/kaggle/input/emergency_vs_non-emergency_dataset/images/1831.jpg\n",
      "/kaggle/input/emergency_vs_non-emergency_dataset/images/17.jpg\n",
      "/kaggle/input/emergency_vs_non-emergency_dataset/images/1808.jpg\n",
      "/kaggle/input/emergency_vs_non-emergency_dataset/images/1791.jpg\n",
      "/kaggle/input/emergency_vs_non-emergency_dataset/images/373.jpg\n",
      "/kaggle/input/emergency_vs_non-emergency_dataset/images/1618.jpg\n",
      "/kaggle/input/emergency_vs_non-emergency_dataset/images/5.jpg\n",
      "/kaggle/input/emergency_vs_non-emergency_dataset/images/2072.jpg\n",
      "/kaggle/input/emergency_vs_non-emergency_dataset/images/1627.jpg\n",
      "/kaggle/input/emergency_vs_non-emergency_dataset/images/1366.jpg\n",
      "/kaggle/input/emergency_vs_non-emergency_dataset/images/11.jpg\n",
      "/kaggle/input/emergency_vs_non-emergency_dataset/images/927.jpg\n",
      "/kaggle/input/emergency_vs_non-emergency_dataset/images/605.jpg\n",
      "/kaggle/input/emergency_vs_non-emergency_dataset/images/1663.jpg\n",
      "/kaggle/input/emergency_vs_non-emergency_dataset/images/718.jpg\n",
      "/kaggle/input/emergency_vs_non-emergency_dataset/images/249.jpg\n",
      "/kaggle/input/emergency_vs_non-emergency_dataset/images/2242.jpg\n",
      "/kaggle/input/emergency_vs_non-emergency_dataset/images/2276.jpg\n",
      "/kaggle/input/emergency_vs_non-emergency_dataset/images/2106.jpg\n",
      "/kaggle/input/emergency_vs_non-emergency_dataset/images/463.jpg\n",
      "/kaggle/input/emergency_vs_non-emergency_dataset/images/1587.jpg\n",
      "/kaggle/input/emergency_vs_non-emergency_dataset/images/236.jpg\n",
      "/kaggle/input/emergency_vs_non-emergency_dataset/images/1499.jpg\n",
      "/kaggle/input/emergency_vs_non-emergency_dataset/images/2306.jpg\n",
      "/kaggle/input/emergency_vs_non-emergency_dataset/images/2124.jpg\n",
      "/kaggle/input/emergency_vs_non-emergency_dataset/images/704.jpg\n",
      "/kaggle/input/emergency_vs_non-emergency_dataset/images/1742.jpg\n",
      "/kaggle/input/emergency_vs_non-emergency_dataset/images/1358.jpg\n",
      "/kaggle/input/emergency_vs_non-emergency_dataset/images/1199.jpg\n",
      "/kaggle/input/emergency_vs_non-emergency_dataset/images/24.jpg\n",
      "/kaggle/input/emergency_vs_non-emergency_dataset/images/1658.jpg\n",
      "/kaggle/input/emergency_vs_non-emergency_dataset/images/1802.jpg\n",
      "/kaggle/input/emergency_vs_non-emergency_dataset/images/1760.jpg\n",
      "/kaggle/input/emergency_vs_non-emergency_dataset/images/771.jpg\n",
      "/kaggle/input/emergency_vs_non-emergency_dataset/images/1376.jpg\n",
      "/kaggle/input/emergency_vs_non-emergency_dataset/images/1125.jpg\n",
      "/kaggle/input/emergency_vs_non-emergency_dataset/images/547.jpg\n",
      "/kaggle/input/emergency_vs_non-emergency_dataset/images/48.jpg\n",
      "/kaggle/input/emergency_vs_non-emergency_dataset/images/2224.jpg\n",
      "/kaggle/input/emergency_vs_non-emergency_dataset/images/897.jpg\n",
      "/kaggle/input/emergency_vs_non-emergency_dataset/images/2005.jpg\n",
      "/kaggle/input/emergency_vs_non-emergency_dataset/images/712.jpg\n",
      "/kaggle/input/emergency_vs_non-emergency_dataset/images/644.jpg\n",
      "/kaggle/input/emergency_vs_non-emergency_dataset/images/2237.jpg\n",
      "/kaggle/input/emergency_vs_non-emergency_dataset/images/2029.jpg\n",
      "/kaggle/input/emergency_vs_non-emergency_dataset/images/2168.jpg\n",
      "/kaggle/input/emergency_vs_non-emergency_dataset/images/1426.jpg\n",
      "/kaggle/input/emergency_vs_non-emergency_dataset/images/2048.jpg\n",
      "/kaggle/input/emergency_vs_non-emergency_dataset/images/654.jpg\n",
      "/kaggle/input/emergency_vs_non-emergency_dataset/images/592.jpg\n",
      "/kaggle/input/emergency_vs_non-emergency_dataset/images/1085.jpg\n",
      "/kaggle/input/emergency_vs_non-emergency_dataset/images/1451.jpg\n",
      "/kaggle/input/emergency_vs_non-emergency_dataset/images/914.jpg\n",
      "/kaggle/input/emergency_vs_non-emergency_dataset/images/1503.jpg\n",
      "/kaggle/input/emergency_vs_non-emergency_dataset/images/2179.jpg\n",
      "/kaggle/input/emergency_vs_non-emergency_dataset/images/1992.jpg\n",
      "/kaggle/input/emergency_vs_non-emergency_dataset/images/76.jpg\n",
      "/kaggle/input/emergency_vs_non-emergency_dataset/images/1339.jpg\n",
      "/kaggle/input/emergency_vs_non-emergency_dataset/images/1032.jpg\n",
      "/kaggle/input/emergency_vs_non-emergency_dataset/images/326.jpg\n",
      "/kaggle/input/emergency_vs_non-emergency_dataset/images/1596.jpg\n",
      "/kaggle/input/emergency_vs_non-emergency_dataset/images/2203.jpg\n",
      "/kaggle/input/emergency_vs_non-emergency_dataset/images/1187.jpg\n",
      "/kaggle/input/emergency_vs_non-emergency_dataset/images/1268.jpg\n",
      "/kaggle/input/emergency_vs_non-emergency_dataset/images/560.jpg\n",
      "/kaggle/input/emergency_vs_non-emergency_dataset/images/507.jpg\n",
      "/kaggle/input/emergency_vs_non-emergency_dataset/images/1215.jpg\n",
      "/kaggle/input/emergency_vs_non-emergency_dataset/images/1167.jpg\n",
      "/kaggle/input/emergency_vs_non-emergency_dataset/images/748.jpg\n",
      "/kaggle/input/emergency_vs_non-emergency_dataset/images/1698.jpg\n",
      "/kaggle/input/emergency_vs_non-emergency_dataset/images/2227.jpg\n",
      "/kaggle/input/emergency_vs_non-emergency_dataset/images/2088.jpg\n",
      "/kaggle/input/emergency_vs_non-emergency_dataset/images/2246.jpg\n",
      "/kaggle/input/emergency_vs_non-emergency_dataset/images/1194.jpg\n",
      "/kaggle/input/emergency_vs_non-emergency_dataset/images/524.jpg\n",
      "/kaggle/input/emergency_vs_non-emergency_dataset/images/2153.jpg\n",
      "/kaggle/input/emergency_vs_non-emergency_dataset/images/1785.jpg\n",
      "/kaggle/input/emergency_vs_non-emergency_dataset/images/1446.jpg\n",
      "/kaggle/input/emergency_vs_non-emergency_dataset/images/1666.jpg\n",
      "/kaggle/input/emergency_vs_non-emergency_dataset/images/1923.jpg\n",
      "/kaggle/input/emergency_vs_non-emergency_dataset/images/1341.jpg\n",
      "/kaggle/input/emergency_vs_non-emergency_dataset/images/1739.jpg\n",
      "/kaggle/input/emergency_vs_non-emergency_dataset/images/2251.jpg\n",
      "/kaggle/input/emergency_vs_non-emergency_dataset/images/15.jpg\n",
      "/kaggle/input/emergency_vs_non-emergency_dataset/images/431.jpg\n",
      "/kaggle/input/emergency_vs_non-emergency_dataset/images/833.jpg\n",
      "/kaggle/input/emergency_vs_non-emergency_dataset/images/243.jpg\n",
      "/kaggle/input/emergency_vs_non-emergency_dataset/images/697.jpg\n",
      "/kaggle/input/emergency_vs_non-emergency_dataset/images/1593.jpg\n",
      "/kaggle/input/emergency_vs_non-emergency_dataset/images/789.jpg\n",
      "/kaggle/input/emergency_vs_non-emergency_dataset/images/2030.jpg\n",
      "/kaggle/input/emergency_vs_non-emergency_dataset/images/2136.jpg\n",
      "/kaggle/input/emergency_vs_non-emergency_dataset/images/2152.jpg\n",
      "/kaggle/input/emergency_vs_non-emergency_dataset/images/2123.jpg\n",
      "/kaggle/input/emergency_vs_non-emergency_dataset/images/1221.jpg\n",
      "/kaggle/input/emergency_vs_non-emergency_dataset/images/200.jpg\n",
      "/kaggle/input/emergency_vs_non-emergency_dataset/images/30.jpg\n",
      "/kaggle/input/emergency_vs_non-emergency_dataset/images/2298.jpg\n",
      "/kaggle/input/emergency_vs_non-emergency_dataset/images/544.jpg\n",
      "/kaggle/input/emergency_vs_non-emergency_dataset/images/208.jpg\n",
      "/kaggle/input/emergency_vs_non-emergency_dataset/images/56.jpg\n",
      "/kaggle/input/emergency_vs_non-emergency_dataset/images/1737.jpg\n",
      "/kaggle/input/emergency_vs_non-emergency_dataset/images/778.jpg\n",
      "/kaggle/input/emergency_vs_non-emergency_dataset/images/286.jpg\n",
      "/kaggle/input/emergency_vs_non-emergency_dataset/images/1352.jpg\n",
      "/kaggle/input/emergency_vs_non-emergency_dataset/images/1717.jpg\n",
      "/kaggle/input/emergency_vs_non-emergency_dataset/images/428.jpg\n",
      "/kaggle/input/emergency_vs_non-emergency_dataset/images/1756.jpg\n",
      "/kaggle/input/emergency_vs_non-emergency_dataset/images/2141.jpg\n",
      "/kaggle/input/emergency_vs_non-emergency_dataset/images/665.jpg\n",
      "/kaggle/input/emergency_vs_non-emergency_dataset/images/1066.jpg\n",
      "/kaggle/input/emergency_vs_non-emergency_dataset/images/1115.jpg\n",
      "/kaggle/input/emergency_vs_non-emergency_dataset/images/2094.jpg\n",
      "/kaggle/input/emergency_vs_non-emergency_dataset/images/455.jpg\n",
      "/kaggle/input/emergency_vs_non-emergency_dataset/images/1878.jpg\n",
      "/kaggle/input/emergency_vs_non-emergency_dataset/images/378.jpg\n",
      "/kaggle/input/emergency_vs_non-emergency_dataset/images/1848.jpg\n",
      "/kaggle/input/emergency_vs_non-emergency_dataset/images/1494.jpg\n",
      "/kaggle/input/emergency_vs_non-emergency_dataset/images/1028.jpg\n",
      "/kaggle/input/emergency_vs_non-emergency_dataset/images/2037.jpg\n",
      "/kaggle/input/emergency_vs_non-emergency_dataset/images/63.jpg\n",
      "/kaggle/input/emergency_vs_non-emergency_dataset/images/721.jpg\n",
      "/kaggle/input/emergency_vs_non-emergency_dataset/images/2209.jpg\n",
      "/kaggle/input/emergency_vs_non-emergency_dataset/images/944.jpg\n",
      "/kaggle/input/emergency_vs_non-emergency_dataset/images/639.jpg\n",
      "/kaggle/input/emergency_vs_non-emergency_dataset/images/1620.jpg\n",
      "/kaggle/input/emergency_vs_non-emergency_dataset/images/1474.jpg\n",
      "/kaggle/input/emergency_vs_non-emergency_dataset/images/138.jpg\n",
      "/kaggle/input/emergency_vs_non-emergency_dataset/images/333.jpg\n",
      "/kaggle/input/emergency_vs_non-emergency_dataset/images/2160.jpg\n",
      "/kaggle/input/emergency_vs_non-emergency_dataset/images/181.jpg\n",
      "/kaggle/input/emergency_vs_non-emergency_dataset/images/1055.jpg\n",
      "/kaggle/input/emergency_vs_non-emergency_dataset/images/2194.jpg\n",
      "/kaggle/input/emergency_vs_non-emergency_dataset/images/394.jpg\n",
      "/kaggle/input/emergency_vs_non-emergency_dataset/images/987.jpg\n",
      "/kaggle/input/emergency_vs_non-emergency_dataset/images/1699.jpg\n",
      "/kaggle/input/emergency_vs_non-emergency_dataset/images/2189.jpg\n",
      "/kaggle/input/emergency_vs_non-emergency_dataset/images/677.jpg\n",
      "/kaggle/input/emergency_vs_non-emergency_dataset/images/1624.jpg\n",
      "/kaggle/input/emergency_vs_non-emergency_dataset/images/201.jpg\n",
      "/kaggle/input/emergency_vs_non-emergency_dataset/images/1817.jpg\n",
      "/kaggle/input/emergency_vs_non-emergency_dataset/images/1803.jpg\n",
      "/kaggle/input/emergency_vs_non-emergency_dataset/images/1787.jpg\n",
      "/kaggle/input/emergency_vs_non-emergency_dataset/images/290.jpg\n",
      "/kaggle/input/emergency_vs_non-emergency_dataset/images/1070.jpg\n",
      "/kaggle/input/emergency_vs_non-emergency_dataset/images/1546.jpg\n",
      "/kaggle/input/emergency_vs_non-emergency_dataset/images/537.jpg\n",
      "/kaggle/input/emergency_vs_non-emergency_dataset/images/1816.jpg\n",
      "/kaggle/input/emergency_vs_non-emergency_dataset/images/1336.jpg\n",
      "/kaggle/input/emergency_vs_non-emergency_dataset/images/1036.jpg\n",
      "/kaggle/input/emergency_vs_non-emergency_dataset/images/1492.jpg\n",
      "/kaggle/input/emergency_vs_non-emergency_dataset/images/1902.jpg\n",
      "/kaggle/input/emergency_vs_non-emergency_dataset/images/2343.jpg\n",
      "/kaggle/input/emergency_vs_non-emergency_dataset/images/1762.jpg\n",
      "/kaggle/input/emergency_vs_non-emergency_dataset/images/1884.jpg\n",
      "/kaggle/input/emergency_vs_non-emergency_dataset/images/538.jpg\n",
      "/kaggle/input/emergency_vs_non-emergency_dataset/images/2130.jpg\n",
      "/kaggle/input/emergency_vs_non-emergency_dataset/images/1495.jpg\n",
      "/kaggle/input/emergency_vs_non-emergency_dataset/images/148.jpg\n",
      "/kaggle/input/emergency_vs_non-emergency_dataset/images/1280.jpg\n",
      "/kaggle/input/emergency_vs_non-emergency_dataset/images/2156.jpg\n",
      "/kaggle/input/emergency_vs_non-emergency_dataset/images/343.jpg\n",
      "/kaggle/input/emergency_vs_non-emergency_dataset/images/1468.jpg\n",
      "/kaggle/input/emergency_vs_non-emergency_dataset/images/2188.jpg\n",
      "/kaggle/input/emergency_vs_non-emergency_dataset/images/1014.jpg\n",
      "/kaggle/input/emergency_vs_non-emergency_dataset/images/959.jpg\n",
      "/kaggle/input/emergency_vs_non-emergency_dataset/images/100.jpg\n",
      "/kaggle/input/emergency_vs_non-emergency_dataset/images/1485.jpg\n",
      "/kaggle/input/emergency_vs_non-emergency_dataset/images/1106.jpg\n",
      "/kaggle/input/emergency_vs_non-emergency_dataset/images/134.jpg\n",
      "/kaggle/input/emergency_vs_non-emergency_dataset/images/2241.jpg\n",
      "/kaggle/input/emergency_vs_non-emergency_dataset/images/1120.jpg\n",
      "/kaggle/input/emergency_vs_non-emergency_dataset/images/1868.jpg\n",
      "/kaggle/input/emergency_vs_non-emergency_dataset/images/1334.jpg\n",
      "/kaggle/input/emergency_vs_non-emergency_dataset/images/1951.jpg\n",
      "/kaggle/input/emergency_vs_non-emergency_dataset/images/939.jpg\n",
      "/kaggle/input/emergency_vs_non-emergency_dataset/images/2320.jpg\n",
      "/kaggle/input/emergency_vs_non-emergency_dataset/images/1223.jpg\n",
      "/kaggle/input/emergency_vs_non-emergency_dataset/images/980.jpg\n",
      "/kaggle/input/emergency_vs_non-emergency_dataset/images/94.jpg\n",
      "/kaggle/input/emergency_vs_non-emergency_dataset/images/786.jpg\n",
      "/kaggle/input/emergency_vs_non-emergency_dataset/images/153.jpg\n",
      "/kaggle/input/emergency_vs_non-emergency_dataset/images/2299.jpg\n",
      "/kaggle/input/emergency_vs_non-emergency_dataset/images/2318.jpg\n",
      "/kaggle/input/emergency_vs_non-emergency_dataset/images/205.jpg\n",
      "/kaggle/input/emergency_vs_non-emergency_dataset/images/2158.jpg\n",
      "/kaggle/input/emergency_vs_non-emergency_dataset/images/278.jpg\n",
      "/kaggle/input/emergency_vs_non-emergency_dataset/images/480.jpg\n",
      "/kaggle/input/emergency_vs_non-emergency_dataset/images/1151.jpg\n",
      "/kaggle/input/emergency_vs_non-emergency_dataset/images/1748.jpg\n",
      "/kaggle/input/emergency_vs_non-emergency_dataset/images/1869.jpg\n",
      "/kaggle/input/emergency_vs_non-emergency_dataset/images/1284.jpg\n",
      "/kaggle/input/emergency_vs_non-emergency_dataset/images/637.jpg\n",
      "/kaggle/input/emergency_vs_non-emergency_dataset/images/1401.jpg\n",
      "/kaggle/input/emergency_vs_non-emergency_dataset/images/715.jpg\n",
      "/kaggle/input/emergency_vs_non-emergency_dataset/images/1354.jpg\n",
      "/kaggle/input/emergency_vs_non-emergency_dataset/images/1525.jpg\n",
      "/kaggle/input/emergency_vs_non-emergency_dataset/images/1749.jpg\n",
      "/kaggle/input/emergency_vs_non-emergency_dataset/images/824.jpg\n",
      "/kaggle/input/emergency_vs_non-emergency_dataset/images/282.jpg\n",
      "/kaggle/input/emergency_vs_non-emergency_dataset/images/610.jpg\n",
      "/kaggle/input/emergency_vs_non-emergency_dataset/images/1171.jpg\n",
      "/kaggle/input/emergency_vs_non-emergency_dataset/images/476.jpg\n",
      "/kaggle/input/emergency_vs_non-emergency_dataset/images/2308.jpg\n",
      "/kaggle/input/emergency_vs_non-emergency_dataset/images/417.jpg\n",
      "/kaggle/input/emergency_vs_non-emergency_dataset/images/1879.jpg\n",
      "/kaggle/input/emergency_vs_non-emergency_dataset/images/1442.jpg\n",
      "/kaggle/input/emergency_vs_non-emergency_dataset/images/345.jpg\n",
      "/kaggle/input/emergency_vs_non-emergency_dataset/images/1130.jpg\n",
      "/kaggle/input/emergency_vs_non-emergency_dataset/images/2169.jpg\n",
      "/kaggle/input/emergency_vs_non-emergency_dataset/images/510.jpg\n",
      "/kaggle/input/emergency_vs_non-emergency_dataset/images/2322.jpg\n",
      "/kaggle/input/emergency_vs_non-emergency_dataset/images/1899.jpg\n",
      "/kaggle/input/emergency_vs_non-emergency_dataset/images/1542.jpg\n",
      "/kaggle/input/emergency_vs_non-emergency_dataset/images/403.jpg\n",
      "/kaggle/input/emergency_vs_non-emergency_dataset/images/445.jpg\n",
      "/kaggle/input/emergency_vs_non-emergency_dataset/images/1692.jpg\n",
      "/kaggle/input/emergency_vs_non-emergency_dataset/images/1163.jpg\n",
      "/kaggle/input/emergency_vs_non-emergency_dataset/images/1146.jpg\n",
      "/kaggle/input/emergency_vs_non-emergency_dataset/images/2155.jpg\n",
      "/kaggle/input/emergency_vs_non-emergency_dataset/images/140.jpg\n",
      "/kaggle/input/emergency_vs_non-emergency_dataset/images/603.jpg\n",
      "/kaggle/input/emergency_vs_non-emergency_dataset/images/2083.jpg\n",
      "/kaggle/input/emergency_vs_non-emergency_dataset/images/1124.jpg\n",
      "/kaggle/input/emergency_vs_non-emergency_dataset/images/2112.jpg\n",
      "/kaggle/input/emergency_vs_non-emergency_dataset/images/2222.jpg\n",
      "/kaggle/input/emergency_vs_non-emergency_dataset/images/1957.jpg\n",
      "/kaggle/input/emergency_vs_non-emergency_dataset/images/69.jpg\n",
      "/kaggle/input/emergency_vs_non-emergency_dataset/images/826.jpg\n",
      "/kaggle/input/emergency_vs_non-emergency_dataset/images/1710.jpg\n",
      "/kaggle/input/emergency_vs_non-emergency_dataset/images/758.jpg\n",
      "/kaggle/input/emergency_vs_non-emergency_dataset/images/1369.jpg\n",
      "/kaggle/input/emergency_vs_non-emergency_dataset/images/18.jpg\n",
      "/kaggle/input/emergency_vs_non-emergency_dataset/images/1980.jpg\n",
      "/kaggle/input/emergency_vs_non-emergency_dataset/images/1302.jpg\n",
      "/kaggle/input/emergency_vs_non-emergency_dataset/images/1250.jpg\n",
      "/kaggle/input/emergency_vs_non-emergency_dataset/images/2012.jpg\n",
      "/kaggle/input/emergency_vs_non-emergency_dataset/images/1269.jpg\n",
      "/kaggle/input/emergency_vs_non-emergency_dataset/images/1335.jpg\n",
      "/kaggle/input/emergency_vs_non-emergency_dataset/images/377.jpg\n",
      "/kaggle/input/emergency_vs_non-emergency_dataset/images/978.jpg\n",
      "/kaggle/input/emergency_vs_non-emergency_dataset/images/2001.jpg\n",
      "/kaggle/input/emergency_vs_non-emergency_dataset/images/672.jpg\n",
      "/kaggle/input/emergency_vs_non-emergency_dataset/images/49.jpg\n",
      "/kaggle/input/emergency_vs_non-emergency_dataset/images/579.jpg\n",
      "/kaggle/input/emergency_vs_non-emergency_dataset/images/2275.jpg\n",
      "/kaggle/input/emergency_vs_non-emergency_dataset/images/284.jpg\n",
      "/kaggle/input/emergency_vs_non-emergency_dataset/images/522.jpg\n",
      "/kaggle/input/emergency_vs_non-emergency_dataset/images/1738.jpg\n",
      "/kaggle/input/emergency_vs_non-emergency_dataset/images/1134.jpg\n",
      "/kaggle/input/emergency_vs_non-emergency_dataset/images/1181.jpg\n",
      "/kaggle/input/emergency_vs_non-emergency_dataset/images/47.jpg\n",
      "/kaggle/input/emergency_vs_non-emergency_dataset/images/1795.jpg\n",
      "/kaggle/input/emergency_vs_non-emergency_dataset/images/365.jpg\n",
      "/kaggle/input/emergency_vs_non-emergency_dataset/images/913.jpg\n",
      "/kaggle/input/emergency_vs_non-emergency_dataset/images/2317.jpg\n",
      "/kaggle/input/emergency_vs_non-emergency_dataset/images/585.jpg\n",
      "/kaggle/input/emergency_vs_non-emergency_dataset/images/1677.jpg\n",
      "/kaggle/input/emergency_vs_non-emergency_dataset/images/1519.jpg\n",
      "/kaggle/input/emergency_vs_non-emergency_dataset/images/864.jpg\n",
      "/kaggle/input/emergency_vs_non-emergency_dataset/images/740.jpg\n",
      "/kaggle/input/emergency_vs_non-emergency_dataset/images/1512.jpg\n",
      "/kaggle/input/emergency_vs_non-emergency_dataset/images/1999.jpg\n",
      "/kaggle/input/emergency_vs_non-emergency_dataset/images/2256.jpg\n",
      "/kaggle/input/emergency_vs_non-emergency_dataset/images/8.jpg\n",
      "/kaggle/input/emergency_vs_non-emergency_dataset/images/1866.jpg\n",
      "/kaggle/input/emergency_vs_non-emergency_dataset/images/501.jpg\n",
      "/kaggle/input/emergency_vs_non-emergency_dataset/images/996.jpg\n",
      "/kaggle/input/emergency_vs_non-emergency_dataset/images/1.jpg\n",
      "/kaggle/input/emergency_vs_non-emergency_dataset/images/1625.jpg\n",
      "/kaggle/input/emergency_vs_non-emergency_dataset/images/2264.jpg\n",
      "/kaggle/input/emergency_vs_non-emergency_dataset/images/2248.jpg\n",
      "/kaggle/input/emergency_vs_non-emergency_dataset/images/1344.jpg\n",
      "/kaggle/input/emergency_vs_non-emergency_dataset/images/954.jpg\n",
      "/kaggle/input/emergency_vs_non-emergency_dataset/images/217.jpg\n",
      "/kaggle/input/emergency_vs_non-emergency_dataset/images/1185.jpg\n",
      "/kaggle/input/emergency_vs_non-emergency_dataset/images/67.jpg\n",
      "/kaggle/input/emergency_vs_non-emergency_dataset/images/406.jpg\n",
      "/kaggle/input/emergency_vs_non-emergency_dataset/images/2225.jpg\n",
      "/kaggle/input/emergency_vs_non-emergency_dataset/images/366.jpg\n",
      "/kaggle/input/emergency_vs_non-emergency_dataset/images/593.jpg\n",
      "/kaggle/input/emergency_vs_non-emergency_dataset/images/1671.jpg\n",
      "/kaggle/input/emergency_vs_non-emergency_dataset/images/1174.jpg\n",
      "/kaggle/input/emergency_vs_non-emergency_dataset/images/531.jpg\n",
      "/kaggle/input/emergency_vs_non-emergency_dataset/images/566.jpg\n",
      "/kaggle/input/emergency_vs_non-emergency_dataset/images/898.jpg\n",
      "/kaggle/input/emergency_vs_non-emergency_dataset/images/1353.jpg\n",
      "/kaggle/input/emergency_vs_non-emergency_dataset/images/448.jpg\n",
      "/kaggle/input/emergency_vs_non-emergency_dataset/images/1712.jpg\n",
      "/kaggle/input/emergency_vs_non-emergency_dataset/images/146.jpg\n",
      "/kaggle/input/emergency_vs_non-emergency_dataset/images/2190.jpg\n",
      "/kaggle/input/emergency_vs_non-emergency_dataset/images/164.jpg\n",
      "/kaggle/input/emergency_vs_non-emergency_dataset/images/1886.jpg\n",
      "/kaggle/input/emergency_vs_non-emergency_dataset/images/1116.jpg\n",
      "/kaggle/input/emergency_vs_non-emergency_dataset/images/1766.jpg\n",
      "/kaggle/input/emergency_vs_non-emergency_dataset/images/1333.jpg\n",
      "/kaggle/input/emergency_vs_non-emergency_dataset/images/541.jpg\n",
      "/kaggle/input/emergency_vs_non-emergency_dataset/images/159.jpg\n",
      "/kaggle/input/emergency_vs_non-emergency_dataset/images/1490.jpg\n",
      "/kaggle/input/emergency_vs_non-emergency_dataset/images/589.jpg\n",
      "/kaggle/input/emergency_vs_non-emergency_dataset/images/1079.jpg\n",
      "/kaggle/input/emergency_vs_non-emergency_dataset/images/1319.jpg\n",
      "/kaggle/input/emergency_vs_non-emergency_dataset/images/678.jpg\n",
      "/kaggle/input/emergency_vs_non-emergency_dataset/images/1435.jpg\n",
      "/kaggle/input/emergency_vs_non-emergency_dataset/images/451.jpg\n",
      "/kaggle/input/emergency_vs_non-emergency_dataset/images/875.jpg\n",
      "/kaggle/input/emergency_vs_non-emergency_dataset/images/1632.jpg\n",
      "/kaggle/input/emergency_vs_non-emergency_dataset/images/1404.jpg\n",
      "/kaggle/input/emergency_vs_non-emergency_dataset/images/276.jpg\n",
      "/kaggle/input/emergency_vs_non-emergency_dataset/images/368.jpg\n",
      "/kaggle/input/emergency_vs_non-emergency_dataset/images/416.jpg\n",
      "/kaggle/input/emergency_vs_non-emergency_dataset/images/1567.jpg\n",
      "/kaggle/input/emergency_vs_non-emergency_dataset/images/2075.jpg\n",
      "/kaggle/input/emergency_vs_non-emergency_dataset/images/2296.jpg\n",
      "/kaggle/input/emergency_vs_non-emergency_dataset/images/921.jpg\n",
      "/kaggle/input/emergency_vs_non-emergency_dataset/images/1608.jpg\n",
      "/kaggle/input/emergency_vs_non-emergency_dataset/images/2014.jpg\n",
      "/kaggle/input/emergency_vs_non-emergency_dataset/images/291.jpg\n",
      "/kaggle/input/emergency_vs_non-emergency_dataset/images/552.jpg\n",
      "/kaggle/input/emergency_vs_non-emergency_dataset/images/1752.jpg\n",
      "/kaggle/input/emergency_vs_non-emergency_dataset/images/1496.jpg\n",
      "/kaggle/input/emergency_vs_non-emergency_dataset/images/1684.jpg\n",
      "/kaggle/input/emergency_vs_non-emergency_dataset/images/1516.jpg\n",
      "/kaggle/input/emergency_vs_non-emergency_dataset/images/1318.jpg\n",
      "/kaggle/input/emergency_vs_non-emergency_dataset/images/1427.jpg\n",
      "/kaggle/input/emergency_vs_non-emergency_dataset/images/1277.jpg\n",
      "/kaggle/input/emergency_vs_non-emergency_dataset/images/1978.jpg\n",
      "/kaggle/input/emergency_vs_non-emergency_dataset/images/1149.jpg\n",
      "/kaggle/input/emergency_vs_non-emergency_dataset/images/2195.jpg\n",
      "/kaggle/input/emergency_vs_non-emergency_dataset/images/84.jpg\n",
      "/kaggle/input/emergency_vs_non-emergency_dataset/images/993.jpg\n",
      "/kaggle/input/emergency_vs_non-emergency_dataset/images/549.jpg\n",
      "/kaggle/input/emergency_vs_non-emergency_dataset/images/1911.jpg\n",
      "/kaggle/input/emergency_vs_non-emergency_dataset/images/246.jpg\n",
      "/kaggle/input/emergency_vs_non-emergency_dataset/images/669.jpg\n",
      "/kaggle/input/emergency_vs_non-emergency_dataset/images/72.jpg\n",
      "/kaggle/input/emergency_vs_non-emergency_dataset/images/1386.jpg\n",
      "/kaggle/input/emergency_vs_non-emergency_dataset/images/867.jpg\n",
      "/kaggle/input/emergency_vs_non-emergency_dataset/images/1965.jpg\n",
      "/kaggle/input/emergency_vs_non-emergency_dataset/images/320.jpg\n",
      "/kaggle/input/emergency_vs_non-emergency_dataset/images/424.jpg\n",
      "/kaggle/input/emergency_vs_non-emergency_dataset/images/564.jpg\n",
      "/kaggle/input/emergency_vs_non-emergency_dataset/images/1025.jpg\n",
      "/kaggle/input/emergency_vs_non-emergency_dataset/images/2007.jpg\n",
      "/kaggle/input/emergency_vs_non-emergency_dataset/images/457.jpg\n",
      "/kaggle/input/emergency_vs_non-emergency_dataset/images/2025.jpg\n",
      "/kaggle/input/emergency_vs_non-emergency_dataset/images/1430.jpg\n",
      "/kaggle/input/emergency_vs_non-emergency_dataset/images/1667.jpg\n",
      "/kaggle/input/emergency_vs_non-emergency_dataset/images/479.jpg\n",
      "/kaggle/input/emergency_vs_non-emergency_dataset/images/905.jpg\n",
      "/kaggle/input/emergency_vs_non-emergency_dataset/images/1968.jpg\n",
      "/kaggle/input/emergency_vs_non-emergency_dataset/images/1006.jpg\n",
      "/kaggle/input/emergency_vs_non-emergency_dataset/images/260.jpg\n",
      "/kaggle/input/emergency_vs_non-emergency_dataset/images/929.jpg\n",
      "/kaggle/input/emergency_vs_non-emergency_dataset/images/1372.jpg\n",
      "/kaggle/input/emergency_vs_non-emergency_dataset/images/1137.jpg\n",
      "/kaggle/input/emergency_vs_non-emergency_dataset/images/344.jpg\n",
      "/kaggle/input/emergency_vs_non-emergency_dataset/images/889.jpg\n",
      "/kaggle/input/emergency_vs_non-emergency_dataset/images/1790.jpg\n",
      "/kaggle/input/emergency_vs_non-emergency_dataset/images/1196.jpg\n",
      "/kaggle/input/emergency_vs_non-emergency_dataset/images/1370.jpg\n",
      "/kaggle/input/emergency_vs_non-emergency_dataset/images/1661.jpg\n",
      "/kaggle/input/emergency_vs_non-emergency_dataset/images/1905.jpg\n",
      "/kaggle/input/emergency_vs_non-emergency_dataset/images/2073.jpg\n",
      "/kaggle/input/emergency_vs_non-emergency_dataset/images/297.jpg\n",
      "/kaggle/input/emergency_vs_non-emergency_dataset/images/525.jpg\n",
      "/kaggle/input/emergency_vs_non-emergency_dataset/images/2131.jpg\n",
      "/kaggle/input/emergency_vs_non-emergency_dataset/images/703.jpg\n",
      "/kaggle/input/emergency_vs_non-emergency_dataset/images/231.jpg\n",
      "/kaggle/input/emergency_vs_non-emergency_dataset/images/821.jpg\n",
      "/kaggle/input/emergency_vs_non-emergency_dataset/images/584.jpg\n",
      "/kaggle/input/emergency_vs_non-emergency_dataset/images/262.jpg\n",
      "/kaggle/input/emergency_vs_non-emergency_dataset/images/812.jpg\n",
      "/kaggle/input/emergency_vs_non-emergency_dataset/images/411.jpg\n",
      "/kaggle/input/emergency_vs_non-emergency_dataset/images/2180.jpg\n",
      "/kaggle/input/emergency_vs_non-emergency_dataset/images/581.jpg\n",
      "/kaggle/input/emergency_vs_non-emergency_dataset/images/277.jpg\n",
      "/kaggle/input/emergency_vs_non-emergency_dataset/images/957.jpg\n",
      "/kaggle/input/emergency_vs_non-emergency_dataset/images/239.jpg\n",
      "/kaggle/input/emergency_vs_non-emergency_dataset/images/418.jpg\n",
      "/kaggle/input/emergency_vs_non-emergency_dataset/images/679.jpg\n",
      "/kaggle/input/emergency_vs_non-emergency_dataset/images/950.jpg\n",
      "/kaggle/input/emergency_vs_non-emergency_dataset/images/1244.jpg\n",
      "/kaggle/input/emergency_vs_non-emergency_dataset/images/1657.jpg\n",
      "/kaggle/input/emergency_vs_non-emergency_dataset/images/1005.jpg\n",
      "/kaggle/input/emergency_vs_non-emergency_dataset/images/36.jpg\n",
      "/kaggle/input/emergency_vs_non-emergency_dataset/images/144.jpg\n",
      "/kaggle/input/emergency_vs_non-emergency_dataset/images/2013.jpg\n",
      "/kaggle/input/emergency_vs_non-emergency_dataset/images/1186.jpg\n",
      "/kaggle/input/emergency_vs_non-emergency_dataset/images/1815.jpg\n",
      "/kaggle/input/emergency_vs_non-emergency_dataset/images/661.jpg\n",
      "/kaggle/input/emergency_vs_non-emergency_dataset/images/1894.jpg\n",
      "/kaggle/input/emergency_vs_non-emergency_dataset/images/673.jpg\n",
      "/kaggle/input/emergency_vs_non-emergency_dataset/images/1697.jpg\n",
      "/kaggle/input/emergency_vs_non-emergency_dataset/images/2053.jpg\n",
      "/kaggle/input/emergency_vs_non-emergency_dataset/images/1876.jpg\n",
      "/kaggle/input/emergency_vs_non-emergency_dataset/images/91.jpg\n",
      "/kaggle/input/emergency_vs_non-emergency_dataset/images/1547.jpg\n",
      "/kaggle/input/emergency_vs_non-emergency_dataset/images/421.jpg\n",
      "/kaggle/input/emergency_vs_non-emergency_dataset/images/1814.jpg\n",
      "/kaggle/input/emergency_vs_non-emergency_dataset/images/1465.jpg\n",
      "/kaggle/input/emergency_vs_non-emergency_dataset/images/1792.jpg\n",
      "/kaggle/input/emergency_vs_non-emergency_dataset/images/6.jpg\n",
      "/kaggle/input/emergency_vs_non-emergency_dataset/images/1021.jpg\n",
      "/kaggle/input/emergency_vs_non-emergency_dataset/images/446.jpg\n",
      "/kaggle/input/emergency_vs_non-emergency_dataset/images/391.jpg\n",
      "/kaggle/input/emergency_vs_non-emergency_dataset/images/304.jpg\n",
      "/kaggle/input/emergency_vs_non-emergency_dataset/images/626.jpg\n",
      "/kaggle/input/emergency_vs_non-emergency_dataset/images/577.jpg\n",
      "/kaggle/input/emergency_vs_non-emergency_dataset/images/1592.jpg\n",
      "/kaggle/input/emergency_vs_non-emergency_dataset/images/1686.jpg\n",
      "/kaggle/input/emergency_vs_non-emergency_dataset/images/1588.jpg\n",
      "/kaggle/input/emergency_vs_non-emergency_dataset/images/485.jpg\n",
      "/kaggle/input/emergency_vs_non-emergency_dataset/images/264.jpg\n",
      "/kaggle/input/emergency_vs_non-emergency_dataset/images/1387.jpg\n",
      "/kaggle/input/emergency_vs_non-emergency_dataset/images/2309.jpg\n",
      "/kaggle/input/emergency_vs_non-emergency_dataset/images/815.jpg\n",
      "/kaggle/input/emergency_vs_non-emergency_dataset/images/1071.jpg\n",
      "/kaggle/input/emergency_vs_non-emergency_dataset/images/819.jpg\n",
      "/kaggle/input/emergency_vs_non-emergency_dataset/images/1491.jpg\n",
      "/kaggle/input/emergency_vs_non-emergency_dataset/images/351.jpg\n",
      "/kaggle/input/emergency_vs_non-emergency_dataset/images/268.jpg\n",
      "/kaggle/input/emergency_vs_non-emergency_dataset/images/2173.jpg\n",
      "/kaggle/input/emergency_vs_non-emergency_dataset/images/465.jpg\n",
      "/kaggle/input/emergency_vs_non-emergency_dataset/images/663.jpg\n",
      "/kaggle/input/emergency_vs_non-emergency_dataset/images/2081.jpg\n",
      "/kaggle/input/emergency_vs_non-emergency_dataset/images/108.jpg\n",
      "/kaggle/input/emergency_vs_non-emergency_dataset/images/506.jpg\n",
      "/kaggle/input/emergency_vs_non-emergency_dataset/images/658.jpg\n",
      "/kaggle/input/emergency_vs_non-emergency_dataset/images/1075.jpg\n",
      "/kaggle/input/emergency_vs_non-emergency_dataset/images/1953.jpg\n",
      "/kaggle/input/emergency_vs_non-emergency_dataset/images/527.jpg\n",
      "/kaggle/input/emergency_vs_non-emergency_dataset/images/2164.jpg\n",
      "/kaggle/input/emergency_vs_non-emergency_dataset/images/1750.jpg\n",
      "/kaggle/input/emergency_vs_non-emergency_dataset/images/928.jpg\n",
      "/kaggle/input/emergency_vs_non-emergency_dataset/images/1948.jpg\n",
      "/kaggle/input/emergency_vs_non-emergency_dataset/images/1009.jpg\n",
      "/kaggle/input/emergency_vs_non-emergency_dataset/images/1837.jpg\n",
      "/kaggle/input/emergency_vs_non-emergency_dataset/images/1955.jpg\n",
      "/kaggle/input/emergency_vs_non-emergency_dataset/images/1734.jpg\n",
      "/kaggle/input/emergency_vs_non-emergency_dataset/images/303.jpg\n",
      "/kaggle/input/emergency_vs_non-emergency_dataset/images/2216.jpg\n",
      "/kaggle/input/emergency_vs_non-emergency_dataset/images/340.jpg\n",
      "/kaggle/input/emergency_vs_non-emergency_dataset/images/2215.jpg\n",
      "/kaggle/input/emergency_vs_non-emergency_dataset/images/895.jpg\n",
      "/kaggle/input/emergency_vs_non-emergency_dataset/images/1251.jpg\n",
      "/kaggle/input/emergency_vs_non-emergency_dataset/images/1922.jpg\n",
      "/kaggle/input/emergency_vs_non-emergency_dataset/images/878.jpg\n",
      "/kaggle/input/emergency_vs_non-emergency_dataset/images/1081.jpg\n",
      "/kaggle/input/emergency_vs_non-emergency_dataset/images/719.jpg\n",
      "/kaggle/input/emergency_vs_non-emergency_dataset/images/433.jpg\n",
      "/kaggle/input/emergency_vs_non-emergency_dataset/images/168.jpg\n",
      "/kaggle/input/emergency_vs_non-emergency_dataset/images/1099.jpg\n",
      "/kaggle/input/emergency_vs_non-emergency_dataset/images/103.jpg\n",
      "/kaggle/input/emergency_vs_non-emergency_dataset/images/738.jpg\n",
      "/kaggle/input/emergency_vs_non-emergency_dataset/images/496.jpg\n",
      "/kaggle/input/emergency_vs_non-emergency_dataset/images/1062.jpg\n",
      "/kaggle/input/emergency_vs_non-emergency_dataset/images/1613.jpg\n",
      "/kaggle/input/emergency_vs_non-emergency_dataset/images/726.jpg\n",
      "/kaggle/input/emergency_vs_non-emergency_dataset/images/1105.jpg\n",
      "/kaggle/input/emergency_vs_non-emergency_dataset/images/870.jpg\n",
      "/kaggle/input/emergency_vs_non-emergency_dataset/images/1832.jpg\n",
      "/kaggle/input/emergency_vs_non-emergency_dataset/images/372.jpg\n",
      "/kaggle/input/emergency_vs_non-emergency_dataset/images/1094.jpg\n",
      "/kaggle/input/emergency_vs_non-emergency_dataset/images/1688.jpg\n",
      "/kaggle/input/emergency_vs_non-emergency_dataset/images/14.jpg\n",
      "/kaggle/input/emergency_vs_non-emergency_dataset/images/2181.jpg\n",
      "/kaggle/input/emergency_vs_non-emergency_dataset/images/1502.jpg\n",
      "/kaggle/input/emergency_vs_non-emergency_dataset/images/2244.jpg\n",
      "/kaggle/input/emergency_vs_non-emergency_dataset/images/2091.jpg\n",
      "/kaggle/input/emergency_vs_non-emergency_dataset/images/559.jpg\n",
      "/kaggle/input/emergency_vs_non-emergency_dataset/images/780.jpg\n",
      "/kaggle/input/emergency_vs_non-emergency_dataset/images/1176.jpg\n",
      "/kaggle/input/emergency_vs_non-emergency_dataset/images/543.jpg\n",
      "/kaggle/input/emergency_vs_non-emergency_dataset/images/638.jpg\n",
      "/kaggle/input/emergency_vs_non-emergency_dataset/images/1154.jpg\n",
      "/kaggle/input/emergency_vs_non-emergency_dataset/images/1937.jpg\n",
      "/kaggle/input/emergency_vs_non-emergency_dataset/images/1983.jpg\n",
      "/kaggle/input/emergency_vs_non-emergency_dataset/images/66.jpg\n",
      "/kaggle/input/emergency_vs_non-emergency_dataset/images/2138.jpg\n",
      "/kaggle/input/emergency_vs_non-emergency_dataset/images/1925.jpg\n",
      "/kaggle/input/emergency_vs_non-emergency_dataset/images/207.jpg\n",
      "/kaggle/input/emergency_vs_non-emergency_dataset/images/1505.jpg\n",
      "/kaggle/input/emergency_vs_non-emergency_dataset/images/1981.jpg\n",
      "/kaggle/input/emergency_vs_non-emergency_dataset/images/1420.jpg\n",
      "/kaggle/input/emergency_vs_non-emergency_dataset/images/668.jpg\n",
      "/kaggle/input/emergency_vs_non-emergency_dataset/images/2067.jpg\n",
      "/kaggle/input/emergency_vs_non-emergency_dataset/images/1916.jpg\n",
      "/kaggle/input/emergency_vs_non-emergency_dataset/images/2109.jpg\n",
      "/kaggle/input/emergency_vs_non-emergency_dataset/images/1549.jpg\n",
      "/kaggle/input/emergency_vs_non-emergency_dataset/images/211.jpg\n",
      "/kaggle/input/emergency_vs_non-emergency_dataset/images/1299.jpg\n",
      "/kaggle/input/emergency_vs_non-emergency_dataset/images/186.jpg\n",
      "/kaggle/input/emergency_vs_non-emergency_dataset/images/1008.jpg\n",
      "/kaggle/input/emergency_vs_non-emergency_dataset/images/829.jpg\n",
      "/kaggle/input/emergency_vs_non-emergency_dataset/images/952.jpg\n",
      "/kaggle/input/emergency_vs_non-emergency_dataset/images/1976.jpg\n",
      "/kaggle/input/emergency_vs_non-emergency_dataset/images/1042.jpg\n",
      "/kaggle/input/emergency_vs_non-emergency_dataset/images/28.jpg\n",
      "/kaggle/input/emergency_vs_non-emergency_dataset/images/370.jpg\n",
      "/kaggle/input/emergency_vs_non-emergency_dataset/images/1418.jpg\n",
      "/kaggle/input/emergency_vs_non-emergency_dataset/images/803.jpg\n",
      "/kaggle/input/emergency_vs_non-emergency_dataset/images/241.jpg\n",
      "/kaggle/input/emergency_vs_non-emergency_dataset/images/514.jpg\n",
      "/kaggle/input/emergency_vs_non-emergency_dataset/images/1434.jpg\n",
      "/kaggle/input/emergency_vs_non-emergency_dataset/images/202.jpg\n",
      "/kaggle/input/emergency_vs_non-emergency_dataset/images/2099.jpg\n",
      "/kaggle/input/emergency_vs_non-emergency_dataset/images/1949.jpg\n",
      "/kaggle/input/emergency_vs_non-emergency_dataset/images/1108.jpg\n",
      "/kaggle/input/emergency_vs_non-emergency_dataset/images/1700.jpg\n",
      "/kaggle/input/emergency_vs_non-emergency_dataset/images/1015.jpg\n",
      "/kaggle/input/emergency_vs_non-emergency_dataset/images/1870.jpg\n",
      "/kaggle/input/emergency_vs_non-emergency_dataset/images/1659.jpg\n",
      "/kaggle/input/emergency_vs_non-emergency_dataset/images/1256.jpg\n",
      "/kaggle/input/emergency_vs_non-emergency_dataset/images/877.jpg\n",
      "/kaggle/input/emergency_vs_non-emergency_dataset/images/1289.jpg\n",
      "/kaggle/input/emergency_vs_non-emergency_dataset/images/1463.jpg\n",
      "/kaggle/input/emergency_vs_non-emergency_dataset/images/2335.jpg\n",
      "/kaggle/input/emergency_vs_non-emergency_dataset/images/1836.jpg\n",
      "/kaggle/input/emergency_vs_non-emergency_dataset/images/651.jpg\n",
      "/kaggle/input/emergency_vs_non-emergency_dataset/images/171.jpg\n",
      "/kaggle/input/emergency_vs_non-emergency_dataset/images/1630.jpg\n",
      "/kaggle/input/emergency_vs_non-emergency_dataset/images/182.jpg\n",
      "/kaggle/input/emergency_vs_non-emergency_dataset/images/82.jpg\n",
      "/kaggle/input/emergency_vs_non-emergency_dataset/images/680.jpg\n",
      "/kaggle/input/emergency_vs_non-emergency_dataset/images/956.jpg\n",
      "/kaggle/input/emergency_vs_non-emergency_dataset/images/1896.jpg\n",
      "/kaggle/input/emergency_vs_non-emergency_dataset/images/764.jpg\n",
      "/kaggle/input/emergency_vs_non-emergency_dataset/images/2334.jpg\n",
      "/kaggle/input/emergency_vs_non-emergency_dataset/images/305.jpg\n",
      "/kaggle/input/emergency_vs_non-emergency_dataset/images/799.jpg\n",
      "/kaggle/input/emergency_vs_non-emergency_dataset/images/1545.jpg\n",
      "/kaggle/input/emergency_vs_non-emergency_dataset/images/1722.jpg\n",
      "/kaggle/input/emergency_vs_non-emergency_dataset/images/1320.jpg\n",
      "/kaggle/input/emergency_vs_non-emergency_dataset/images/1208.jpg\n",
      "/kaggle/input/emergency_vs_non-emergency_dataset/images/1412.jpg\n",
      "/kaggle/input/emergency_vs_non-emergency_dataset/images/1257.jpg\n",
      "/kaggle/input/emergency_vs_non-emergency_dataset/images/1453.jpg\n",
      "/kaggle/input/emergency_vs_non-emergency_dataset/images/410.jpg\n",
      "/kaggle/input/emergency_vs_non-emergency_dataset/images/997.jpg\n",
      "/kaggle/input/emergency_vs_non-emergency_dataset/images/1558.jpg\n",
      "/kaggle/input/emergency_vs_non-emergency_dataset/images/2247.jpg\n",
      "/kaggle/input/emergency_vs_non-emergency_dataset/images/1027.jpg\n",
      "/kaggle/input/emergency_vs_non-emergency_dataset/images/2302.jpg\n",
      "/kaggle/input/emergency_vs_non-emergency_dataset/images/1059.jpg\n",
      "/kaggle/input/emergency_vs_non-emergency_dataset/images/558.jpg\n",
      "/kaggle/input/emergency_vs_non-emergency_dataset/images/2150.jpg\n",
      "/kaggle/input/emergency_vs_non-emergency_dataset/images/158.jpg\n",
      "/kaggle/input/emergency_vs_non-emergency_dataset/images/1413.jpg\n",
      "/kaggle/input/emergency_vs_non-emergency_dataset/images/1326.jpg\n",
      "/kaggle/input/emergency_vs_non-emergency_dataset/images/601.jpg\n",
      "/kaggle/input/emergency_vs_non-emergency_dataset/images/1524.jpg\n",
      "/kaggle/input/emergency_vs_non-emergency_dataset/images/1433.jpg\n",
      "/kaggle/input/emergency_vs_non-emergency_dataset/images/137.jpg\n",
      "/kaggle/input/emergency_vs_non-emergency_dataset/images/2144.jpg\n",
      "/kaggle/input/emergency_vs_non-emergency_dataset/images/1765.jpg\n",
      "/kaggle/input/emergency_vs_non-emergency_dataset/images/2157.jpg\n",
      "/kaggle/input/emergency_vs_non-emergency_dataset/images/2035.jpg\n",
      "/kaggle/input/emergency_vs_non-emergency_dataset/images/1179.jpg\n",
      "/kaggle/input/emergency_vs_non-emergency_dataset/images/32.jpg\n",
      "/kaggle/input/emergency_vs_non-emergency_dataset/images/1541.jpg\n",
      "/kaggle/input/emergency_vs_non-emergency_dataset/images/1283.jpg\n",
      "/kaggle/input/emergency_vs_non-emergency_dataset/images/752.jpg\n",
      "/kaggle/input/emergency_vs_non-emergency_dataset/images/1991.jpg\n",
      "/kaggle/input/emergency_vs_non-emergency_dataset/images/2054.jpg\n",
      "/kaggle/input/emergency_vs_non-emergency_dataset/images/1517.jpg\n",
      "/kaggle/input/emergency_vs_non-emergency_dataset/images/1554.jpg\n",
      "/kaggle/input/emergency_vs_non-emergency_dataset/images/22.jpg\n",
      "/kaggle/input/emergency_vs_non-emergency_dataset/images/1454.jpg\n",
      "/kaggle/input/emergency_vs_non-emergency_dataset/images/1248.jpg\n",
      "/kaggle/input/emergency_vs_non-emergency_dataset/images/823.jpg\n",
      "/kaggle/input/emergency_vs_non-emergency_dataset/images/1361.jpg\n",
      "/kaggle/input/emergency_vs_non-emergency_dataset/images/604.jpg\n",
      "/kaggle/input/emergency_vs_non-emergency_dataset/images/883.jpg\n",
      "/kaggle/input/emergency_vs_non-emergency_dataset/images/781.jpg\n",
      "/kaggle/input/emergency_vs_non-emergency_dataset/images/2076.jpg\n",
      "/kaggle/input/emergency_vs_non-emergency_dataset/images/265.jpg\n",
      "/kaggle/input/emergency_vs_non-emergency_dataset/images/2170.jpg\n",
      "/kaggle/input/emergency_vs_non-emergency_dataset/images/46.jpg\n",
      "/kaggle/input/emergency_vs_non-emergency_dataset/images/847.jpg\n",
      "/kaggle/input/emergency_vs_non-emergency_dataset/images/2139.jpg\n",
      "/kaggle/input/emergency_vs_non-emergency_dataset/images/68.jpg\n",
      "/kaggle/input/emergency_vs_non-emergency_dataset/images/573.jpg\n",
      "/kaggle/input/emergency_vs_non-emergency_dataset/images/725.jpg\n",
      "/kaggle/input/emergency_vs_non-emergency_dataset/images/1956.jpg\n",
      "/kaggle/input/emergency_vs_non-emergency_dataset/images/1297.jpg\n",
      "/kaggle/input/emergency_vs_non-emergency_dataset/images/74.jpg\n",
      "/kaggle/input/emergency_vs_non-emergency_dataset/images/3.jpg\n",
      "/kaggle/input/emergency_vs_non-emergency_dataset/images/87.jpg\n",
      "/kaggle/input/emergency_vs_non-emergency_dataset/images/1854.jpg\n",
      "/kaggle/input/emergency_vs_non-emergency_dataset/images/2223.jpg\n",
      "/kaggle/input/emergency_vs_non-emergency_dataset/images/419.jpg\n",
      "/kaggle/input/emergency_vs_non-emergency_dataset/images/381.jpg\n",
      "/kaggle/input/emergency_vs_non-emergency_dataset/images/221.jpg\n",
      "/kaggle/input/emergency_vs_non-emergency_dataset/images/2327.jpg\n",
      "/kaggle/input/emergency_vs_non-emergency_dataset/images/945.jpg\n",
      "/kaggle/input/emergency_vs_non-emergency_dataset/images/1755.jpg\n",
      "/kaggle/input/emergency_vs_non-emergency_dataset/images/807.jpg\n",
      "/kaggle/input/emergency_vs_non-emergency_dataset/images/174.jpg\n",
      "/kaggle/input/emergency_vs_non-emergency_dataset/images/2325.jpg\n",
      "/kaggle/input/emergency_vs_non-emergency_dataset/images/1735.jpg\n",
      "/kaggle/input/emergency_vs_non-emergency_dataset/images/1195.jpg\n",
      "/kaggle/input/emergency_vs_non-emergency_dataset/images/1531.jpg\n",
      "/kaggle/input/emergency_vs_non-emergency_dataset/images/608.jpg\n",
      "/kaggle/input/emergency_vs_non-emergency_dataset/images/2074.jpg\n",
      "/kaggle/input/emergency_vs_non-emergency_dataset/images/1702.jpg\n",
      "/kaggle/input/emergency_vs_non-emergency_dataset/images/1591.jpg\n",
      "/kaggle/input/emergency_vs_non-emergency_dataset/images/555.jpg\n",
      "/kaggle/input/emergency_vs_non-emergency_dataset/images/690.jpg\n",
      "/kaggle/input/emergency_vs_non-emergency_dataset/images/1367.jpg\n",
      "/kaggle/input/emergency_vs_non-emergency_dataset/images/229.jpg\n",
      "/kaggle/input/emergency_vs_non-emergency_dataset/images/1633.jpg\n",
      "/kaggle/input/emergency_vs_non-emergency_dataset/images/1089.jpg\n",
      "/kaggle/input/emergency_vs_non-emergency_dataset/images/1986.jpg\n",
      "/kaggle/input/emergency_vs_non-emergency_dataset/images/1347.jpg\n",
      "/kaggle/input/emergency_vs_non-emergency_dataset/images/2110.jpg\n",
      "/kaggle/input/emergency_vs_non-emergency_dataset/images/1210.jpg\n",
      "/kaggle/input/emergency_vs_non-emergency_dataset/images/1974.jpg\n",
      "/kaggle/input/emergency_vs_non-emergency_dataset/images/1294.jpg\n",
      "/kaggle/input/emergency_vs_non-emergency_dataset/images/1317.jpg\n",
      "/kaggle/input/emergency_vs_non-emergency_dataset/images/1262.jpg\n",
      "/kaggle/input/emergency_vs_non-emergency_dataset/images/244.jpg\n",
      "/kaggle/input/emergency_vs_non-emergency_dataset/images/1640.jpg\n",
      "/kaggle/input/emergency_vs_non-emergency_dataset/images/1637.jpg\n",
      "/kaggle/input/emergency_vs_non-emergency_dataset/images/885.jpg\n",
      "/kaggle/input/emergency_vs_non-emergency_dataset/images/2125.jpg\n",
      "/kaggle/input/emergency_vs_non-emergency_dataset/images/204.jpg\n",
      "/kaggle/input/emergency_vs_non-emergency_dataset/images/1744.jpg\n",
      "/kaggle/input/emergency_vs_non-emergency_dataset/images/714.jpg\n",
      "/kaggle/input/emergency_vs_non-emergency_dataset/images/1249.jpg\n",
      "/kaggle/input/emergency_vs_non-emergency_dataset/images/328.jpg\n",
      "/kaggle/input/emergency_vs_non-emergency_dataset/images/722.jpg\n",
      "/kaggle/input/emergency_vs_non-emergency_dataset/images/1271.jpg\n",
      "/kaggle/input/emergency_vs_non-emergency_dataset/images/1259.jpg\n",
      "/kaggle/input/emergency_vs_non-emergency_dataset/images/1595.jpg\n",
      "/kaggle/input/emergency_vs_non-emergency_dataset/images/776.jpg\n",
      "/kaggle/input/emergency_vs_non-emergency_dataset/images/1873.jpg\n",
      "/kaggle/input/emergency_vs_non-emergency_dataset/images/784.jpg\n",
      "/kaggle/input/emergency_vs_non-emergency_dataset/images/1799.jpg\n",
      "/kaggle/input/emergency_vs_non-emergency_dataset/images/859.jpg\n",
      "/kaggle/input/emergency_vs_non-emergency_dataset/images/906.jpg\n",
      "/kaggle/input/emergency_vs_non-emergency_dataset/images/1506.jpg\n",
      "/kaggle/input/emergency_vs_non-emergency_dataset/images/1728.jpg\n",
      "/kaggle/input/emergency_vs_non-emergency_dataset/images/1811.jpg\n",
      "/kaggle/input/emergency_vs_non-emergency_dataset/images/1275.jpg\n",
      "/kaggle/input/emergency_vs_non-emergency_dataset/images/62.jpg\n",
      "/kaggle/input/emergency_vs_non-emergency_dataset/images/2307.jpg\n",
      "/kaggle/input/emergency_vs_non-emergency_dataset/images/860.jpg\n",
      "/kaggle/input/emergency_vs_non-emergency_dataset/images/426.jpg\n",
      "/kaggle/input/emergency_vs_non-emergency_dataset/images/308.jpg\n",
      "/kaggle/input/emergency_vs_non-emergency_dataset/images/1184.jpg\n",
      "/kaggle/input/emergency_vs_non-emergency_dataset/images/1410.jpg\n",
      "/kaggle/input/emergency_vs_non-emergency_dataset/images/96.jpg\n",
      "/kaggle/input/emergency_vs_non-emergency_dataset/images/135.jpg\n",
      "/kaggle/input/emergency_vs_non-emergency_dataset/images/1829.jpg\n",
      "/kaggle/input/emergency_vs_non-emergency_dataset/images/923.jpg\n",
      "/kaggle/input/emergency_vs_non-emergency_dataset/images/1563.jpg\n",
      "/kaggle/input/emergency_vs_non-emergency_dataset/images/1101.jpg\n",
      "/kaggle/input/emergency_vs_non-emergency_dataset/images/79.jpg\n",
      "/kaggle/input/emergency_vs_non-emergency_dataset/images/1888.jpg\n",
      "/kaggle/input/emergency_vs_non-emergency_dataset/images/1242.jpg\n",
      "/kaggle/input/emergency_vs_non-emergency_dataset/images/1276.jpg\n",
      "/kaggle/input/emergency_vs_non-emergency_dataset/images/1142.jpg\n",
      "/kaggle/input/emergency_vs_non-emergency_dataset/images/2278.jpg\n",
      "/kaggle/input/emergency_vs_non-emergency_dataset/images/93.jpg\n",
      "/kaggle/input/emergency_vs_non-emergency_dataset/images/442.jpg\n",
      "/kaggle/input/emergency_vs_non-emergency_dataset/images/1203.jpg\n",
      "/kaggle/input/emergency_vs_non-emergency_dataset/images/257.jpg\n",
      "/kaggle/input/emergency_vs_non-emergency_dataset/images/705.jpg\n",
      "/kaggle/input/emergency_vs_non-emergency_dataset/images/341.jpg\n",
      "/kaggle/input/emergency_vs_non-emergency_dataset/images/1871.jpg\n",
      "/kaggle/input/emergency_vs_non-emergency_dataset/images/131.jpg\n",
      "/kaggle/input/emergency_vs_non-emergency_dataset/images/594.jpg\n",
      "/kaggle/input/emergency_vs_non-emergency_dataset/images/1800.jpg\n",
      "/kaggle/input/emergency_vs_non-emergency_dataset/images/1649.jpg\n",
      "/kaggle/input/emergency_vs_non-emergency_dataset/images/1072.jpg\n",
      "/kaggle/input/emergency_vs_non-emergency_dataset/images/219.jpg\n",
      "/kaggle/input/emergency_vs_non-emergency_dataset/images/1402.jpg\n",
      "/kaggle/input/emergency_vs_non-emergency_dataset/images/170.jpg\n",
      "/kaggle/input/emergency_vs_non-emergency_dataset/images/519.jpg\n",
      "/kaggle/input/emergency_vs_non-emergency_dataset/images/294.jpg\n",
      "/kaggle/input/emergency_vs_non-emergency_dataset/images/1621.jpg\n",
      "/kaggle/input/emergency_vs_non-emergency_dataset/images/70.jpg\n",
      "/kaggle/input/emergency_vs_non-emergency_dataset/images/1443.jpg\n",
      "/kaggle/input/emergency_vs_non-emergency_dataset/images/1598.jpg\n",
      "/kaggle/input/emergency_vs_non-emergency_dataset/images/1781.jpg\n",
      "/kaggle/input/emergency_vs_non-emergency_dataset/images/16.jpg\n",
      "/kaggle/input/emergency_vs_non-emergency_dataset/images/275.jpg\n",
      "/kaggle/input/emergency_vs_non-emergency_dataset/images/334.jpg\n",
      "/kaggle/input/emergency_vs_non-emergency_dataset/images/288.jpg\n",
      "/kaggle/input/emergency_vs_non-emergency_dataset/images/768.jpg\n",
      "/kaggle/input/emergency_vs_non-emergency_dataset/images/1473.jpg\n",
      "/kaggle/input/emergency_vs_non-emergency_dataset/images/312.jpg\n",
      "/kaggle/input/emergency_vs_non-emergency_dataset/images/306.jpg\n",
      "/kaggle/input/emergency_vs_non-emergency_dataset/images/702.jpg\n",
      "/kaggle/input/emergency_vs_non-emergency_dataset/images/840.jpg\n",
      "/kaggle/input/emergency_vs_non-emergency_dataset/images/1874.jpg\n",
      "/kaggle/input/emergency_vs_non-emergency_dataset/images/1061.jpg\n",
      "/kaggle/input/emergency_vs_non-emergency_dataset/images/1087.jpg\n",
      "/kaggle/input/emergency_vs_non-emergency_dataset/images/1853.jpg\n",
      "/kaggle/input/emergency_vs_non-emergency_dataset/images/189.jpg\n",
      "/kaggle/input/emergency_vs_non-emergency_dataset/images/1476.jpg\n",
      "/kaggle/input/emergency_vs_non-emergency_dataset/images/1360.jpg\n",
      "/kaggle/input/emergency_vs_non-emergency_dataset/images/215.jpg\n",
      "/kaggle/input/emergency_vs_non-emergency_dataset/images/1078.jpg\n",
      "/kaggle/input/emergency_vs_non-emergency_dataset/images/401.jpg\n",
      "/kaggle/input/emergency_vs_non-emergency_dataset/images/1513.jpg\n",
      "/kaggle/input/emergency_vs_non-emergency_dataset/images/1211.jpg\n",
      "/kaggle/input/emergency_vs_non-emergency_dataset/images/811.jpg\n",
      "/kaggle/input/emergency_vs_non-emergency_dataset/images/271.jpg\n",
      "/kaggle/input/emergency_vs_non-emergency_dataset/images/1645.jpg\n",
      "/kaggle/input/emergency_vs_non-emergency_dataset/images/733.jpg\n",
      "/kaggle/input/emergency_vs_non-emergency_dataset/images/1731.jpg\n",
      "/kaggle/input/emergency_vs_non-emergency_dataset/images/999.jpg\n",
      "/kaggle/input/emergency_vs_non-emergency_dataset/images/1086.jpg\n",
      "/kaggle/input/emergency_vs_non-emergency_dataset/images/109.jpg\n",
      "/kaggle/input/emergency_vs_non-emergency_dataset/images/904.jpg\n",
      "/kaggle/input/emergency_vs_non-emergency_dataset/images/88.jpg\n",
      "/kaggle/input/emergency_vs_non-emergency_dataset/images/1291.jpg\n",
      "/kaggle/input/emergency_vs_non-emergency_dataset/images/1530.jpg\n",
      "/kaggle/input/emergency_vs_non-emergency_dataset/images/2092.jpg\n",
      "/kaggle/input/emergency_vs_non-emergency_dataset/images/1343.jpg\n",
      "/kaggle/input/emergency_vs_non-emergency_dataset/images/1580.jpg\n",
      "/kaggle/input/emergency_vs_non-emergency_dataset/images/2167.jpg\n",
      "/kaggle/input/emergency_vs_non-emergency_dataset/images/1695.jpg\n",
      "/kaggle/input/emergency_vs_non-emergency_dataset/images/270.jpg\n",
      "/kaggle/input/emergency_vs_non-emergency_dataset/images/1619.jpg\n",
      "/kaggle/input/emergency_vs_non-emergency_dataset/images/556.jpg\n",
      "/kaggle/input/emergency_vs_non-emergency_dataset/images/742.jpg\n",
      "/kaggle/input/emergency_vs_non-emergency_dataset/images/2245.jpg\n",
      "/kaggle/input/emergency_vs_non-emergency_dataset/images/2115.jpg\n",
      "/kaggle/input/emergency_vs_non-emergency_dataset/images/797.jpg\n",
      "/kaggle/input/emergency_vs_non-emergency_dataset/images/708.jpg\n",
      "/kaggle/input/emergency_vs_non-emergency_dataset/images/785.jpg\n",
      "/kaggle/input/emergency_vs_non-emergency_dataset/images/509.jpg\n",
      "/kaggle/input/emergency_vs_non-emergency_dataset/images/1145.jpg\n",
      "/kaggle/input/emergency_vs_non-emergency_dataset/images/763.jpg\n",
      "/kaggle/input/emergency_vs_non-emergency_dataset/images/332.jpg\n",
      "/kaggle/input/emergency_vs_non-emergency_dataset/images/1840.jpg\n",
      "/kaggle/input/emergency_vs_non-emergency_dataset/images/1301.jpg\n",
      "/kaggle/input/emergency_vs_non-emergency_dataset/images/13.jpg\n",
      "/kaggle/input/emergency_vs_non-emergency_dataset/images/1726.jpg\n",
      "/kaggle/input/emergency_vs_non-emergency_dataset/images/779.jpg\n",
      "/kaggle/input/emergency_vs_non-emergency_dataset/images/1782.jpg\n",
      "/kaggle/input/emergency_vs_non-emergency_dataset/images/1732.jpg\n",
      "/kaggle/input/emergency_vs_non-emergency_dataset/images/195.jpg\n",
      "/kaggle/input/emergency_vs_non-emergency_dataset/images/2331.jpg\n",
      "/kaggle/input/emergency_vs_non-emergency_dataset/images/976.jpg\n",
      "/kaggle/input/emergency_vs_non-emergency_dataset/images/2.jpg\n",
      "/kaggle/input/emergency_vs_non-emergency_dataset/images/2282.jpg\n",
      "/kaggle/input/emergency_vs_non-emergency_dataset/images/2063.jpg\n",
      "/kaggle/input/emergency_vs_non-emergency_dataset/images/468.jpg\n",
      "/kaggle/input/emergency_vs_non-emergency_dataset/images/1484.jpg\n",
      "/kaggle/input/emergency_vs_non-emergency_dataset/images/517.jpg\n",
      "/kaggle/input/emergency_vs_non-emergency_dataset/images/335.jpg\n",
      "/kaggle/input/emergency_vs_non-emergency_dataset/images/1359.jpg\n",
      "/kaggle/input/emergency_vs_non-emergency_dataset/images/2187.jpg\n",
      "/kaggle/input/emergency_vs_non-emergency_dataset/images/761.jpg\n",
      "/kaggle/input/emergency_vs_non-emergency_dataset/images/1060.jpg\n",
      "/kaggle/input/emergency_vs_non-emergency_dataset/images/2314.jpg\n",
      "/kaggle/input/emergency_vs_non-emergency_dataset/images/1590.jpg\n",
      "/kaggle/input/emergency_vs_non-emergency_dataset/images/1407.jpg\n",
      "/kaggle/input/emergency_vs_non-emergency_dataset/images/727.jpg\n",
      "/kaggle/input/emergency_vs_non-emergency_dataset/images/935.jpg\n",
      "/kaggle/input/emergency_vs_non-emergency_dataset/images/641.jpg\n",
      "/kaggle/input/emergency_vs_non-emergency_dataset/images/1394.jpg\n",
      "/kaggle/input/emergency_vs_non-emergency_dataset/images/894.jpg\n",
      "/kaggle/input/emergency_vs_non-emergency_dataset/images/1245.jpg\n",
      "/kaggle/input/emergency_vs_non-emergency_dataset/images/2174.jpg\n",
      "/kaggle/input/emergency_vs_non-emergency_dataset/images/1084.jpg\n",
      "/kaggle/input/emergency_vs_non-emergency_dataset/images/452.jpg\n",
      "/kaggle/input/emergency_vs_non-emergency_dataset/images/2003.jpg\n",
      "/kaggle/input/emergency_vs_non-emergency_dataset/images/245.jpg\n",
      "/kaggle/input/emergency_vs_non-emergency_dataset/images/1057.jpg\n",
      "/kaggle/input/emergency_vs_non-emergency_dataset/images/45.jpg\n",
      "/kaggle/input/emergency_vs_non-emergency_dataset/images/197.jpg\n",
      "/kaggle/input/emergency_vs_non-emergency_dataset/images/116.jpg\n",
      "/kaggle/input/emergency_vs_non-emergency_dataset/images/1594.jpg\n",
      "/kaggle/input/emergency_vs_non-emergency_dataset/images/1533.jpg\n",
      "/kaggle/input/emergency_vs_non-emergency_dataset/images/1483.jpg\n",
      "/kaggle/input/emergency_vs_non-emergency_dataset/images/1646.jpg\n",
      "/kaggle/input/emergency_vs_non-emergency_dataset/images/2036.jpg\n",
      "/kaggle/input/emergency_vs_non-emergency_dataset/images/924.jpg\n",
      "/kaggle/input/emergency_vs_non-emergency_dataset/images/1801.jpg\n",
      "/kaggle/input/emergency_vs_non-emergency_dataset/images/488.jpg\n",
      "/kaggle/input/emergency_vs_non-emergency_dataset/images/1104.jpg\n",
      "/kaggle/input/emergency_vs_non-emergency_dataset/images/958.jpg\n",
      "/kaggle/input/emergency_vs_non-emergency_dataset/images/542.jpg\n",
      "/kaggle/input/emergency_vs_non-emergency_dataset/images/161.jpg\n",
      "/kaggle/input/emergency_vs_non-emergency_dataset/images/607.jpg\n",
      "/kaggle/input/emergency_vs_non-emergency_dataset/images/949.jpg\n",
      "/kaggle/input/emergency_vs_non-emergency_dataset/images/2260.jpg\n",
      "/kaggle/input/emergency_vs_non-emergency_dataset/images/1159.jpg\n",
      "/kaggle/input/emergency_vs_non-emergency_dataset/images/1601.jpg\n",
      "/kaggle/input/emergency_vs_non-emergency_dataset/images/2286.jpg\n",
      "/kaggle/input/emergency_vs_non-emergency_dataset/images/1029.jpg\n",
      "/kaggle/input/emergency_vs_non-emergency_dataset/images/356.jpg\n",
      "/kaggle/input/emergency_vs_non-emergency_dataset/images/1329.jpg\n",
      "/kaggle/input/emergency_vs_non-emergency_dataset/images/1282.jpg\n",
      "/kaggle/input/emergency_vs_non-emergency_dataset/images/120.jpg\n",
      "/kaggle/input/emergency_vs_non-emergency_dataset/images/1729.jpg\n",
      "/kaggle/input/emergency_vs_non-emergency_dataset/images/1573.jpg\n",
      "/kaggle/input/emergency_vs_non-emergency_dataset/images/121.jpg\n",
      "/kaggle/input/emergency_vs_non-emergency_dataset/images/1156.jpg\n",
      "/kaggle/input/emergency_vs_non-emergency_dataset/images/2197.jpg\n",
      "/kaggle/input/emergency_vs_non-emergency_dataset/images/1337.jpg\n",
      "/kaggle/input/emergency_vs_non-emergency_dataset/images/132.jpg\n",
      "/kaggle/input/emergency_vs_non-emergency_dataset/images/1534.jpg\n",
      "/kaggle/input/emergency_vs_non-emergency_dataset/images/1522.jpg\n",
      "/kaggle/input/emergency_vs_non-emergency_dataset/images/1989.jpg\n",
      "/kaggle/input/emergency_vs_non-emergency_dataset/images/769.jpg\n",
      "/kaggle/input/emergency_vs_non-emergency_dataset/images/926.jpg\n",
      "/kaggle/input/emergency_vs_non-emergency_dataset/images/1003.jpg\n",
      "/kaggle/input/emergency_vs_non-emergency_dataset/images/1652.jpg\n",
      "/kaggle/input/emergency_vs_non-emergency_dataset/images/632.jpg\n",
      "/kaggle/input/emergency_vs_non-emergency_dataset/images/483.jpg\n",
      "/kaggle/input/emergency_vs_non-emergency_dataset/images/574.jpg\n",
      "/kaggle/input/emergency_vs_non-emergency_dataset/images/620.jpg\n",
      "/kaggle/input/emergency_vs_non-emergency_dataset/images/1285.jpg\n",
      "/kaggle/input/emergency_vs_non-emergency_dataset/images/1131.jpg\n",
      "/kaggle/input/emergency_vs_non-emergency_dataset/images/1839.jpg\n",
      "/kaggle/input/emergency_vs_non-emergency_dataset/images/224.jpg\n",
      "/kaggle/input/emergency_vs_non-emergency_dataset/images/1709.jpg\n",
      "/kaggle/input/emergency_vs_non-emergency_dataset/images/955.jpg\n",
      "/kaggle/input/emergency_vs_non-emergency_dataset/images/2010.jpg\n",
      "/kaggle/input/emergency_vs_non-emergency_dataset/images/1812.jpg\n",
      "/kaggle/input/emergency_vs_non-emergency_dataset/images/676.jpg\n",
      "/kaggle/input/emergency_vs_non-emergency_dataset/images/26.jpg\n",
      "/kaggle/input/emergency_vs_non-emergency_dataset/images/2024.jpg\n",
      "/kaggle/input/emergency_vs_non-emergency_dataset/images/2193.jpg\n",
      "/kaggle/input/emergency_vs_non-emergency_dataset/images/557.jpg\n",
      "/kaggle/input/emergency_vs_non-emergency_dataset/images/782.jpg\n",
      "/kaggle/input/emergency_vs_non-emergency_dataset/images/379.jpg\n",
      "/kaggle/input/emergency_vs_non-emergency_dataset/images/1928.jpg\n",
      "/kaggle/input/emergency_vs_non-emergency_dataset/images/609.jpg\n",
      "/kaggle/input/emergency_vs_non-emergency_dataset/images/466.jpg\n",
      "/kaggle/input/emergency_vs_non-emergency_dataset/images/2269.jpg\n",
      "/kaggle/input/emergency_vs_non-emergency_dataset/images/908.jpg\n",
      "/kaggle/input/emergency_vs_non-emergency_dataset/images/1098.jpg\n",
      "/kaggle/input/emergency_vs_non-emergency_dataset/images/934.jpg\n",
      "/kaggle/input/emergency_vs_non-emergency_dataset/images/464.jpg\n",
      "/kaggle/input/emergency_vs_non-emergency_dataset/images/617.jpg\n",
      "/kaggle/input/emergency_vs_non-emergency_dataset/images/422.jpg\n",
      "/kaggle/input/emergency_vs_non-emergency_dataset/images/1947.jpg\n",
      "/kaggle/input/emergency_vs_non-emergency_dataset/images/1107.jpg\n",
      "/kaggle/input/emergency_vs_non-emergency_dataset/images/1119.jpg\n",
      "/kaggle/input/emergency_vs_non-emergency_dataset/images/772.jpg\n",
      "/kaggle/input/emergency_vs_non-emergency_dataset/images/1821.jpg\n",
      "/kaggle/input/emergency_vs_non-emergency_dataset/images/696.jpg\n",
      "/kaggle/input/emergency_vs_non-emergency_dataset/images/1327.jpg\n",
      "/kaggle/input/emergency_vs_non-emergency_dataset/images/1730.jpg\n",
      "/kaggle/input/emergency_vs_non-emergency_dataset/images/2162.jpg\n",
      "/kaggle/input/emergency_vs_non-emergency_dataset/images/192.jpg\n",
      "/kaggle/input/emergency_vs_non-emergency_dataset/images/2185.jpg\n",
      "/kaggle/input/emergency_vs_non-emergency_dataset/images/613.jpg\n",
      "/kaggle/input/emergency_vs_non-emergency_dataset/images/2279.jpg\n",
      "/kaggle/input/emergency_vs_non-emergency_dataset/images/974.jpg\n",
      "/kaggle/input/emergency_vs_non-emergency_dataset/images/203.jpg\n",
      "/kaggle/input/emergency_vs_non-emergency_dataset/images/1586.jpg\n",
      "/kaggle/input/emergency_vs_non-emergency_dataset/images/1118.jpg\n",
      "/kaggle/input/emergency_vs_non-emergency_dataset/images/1164.jpg\n",
      "/kaggle/input/emergency_vs_non-emergency_dataset/images/1321.jpg\n",
      "/kaggle/input/emergency_vs_non-emergency_dataset/images/42.jpg\n",
      "/kaggle/input/emergency_vs_non-emergency_dataset/images/248.jpg\n",
      "/kaggle/input/emergency_vs_non-emergency_dataset/images/868.jpg\n",
      "/kaggle/input/emergency_vs_non-emergency_dataset/images/178.jpg\n",
      "/kaggle/input/emergency_vs_non-emergency_dataset/images/1584.jpg\n",
      "/kaggle/input/emergency_vs_non-emergency_dataset/images/1809.jpg\n",
      "/kaggle/input/emergency_vs_non-emergency_dataset/images/1375.jpg\n",
      "/kaggle/input/emergency_vs_non-emergency_dataset/images/331.jpg\n",
      "/kaggle/input/emergency_vs_non-emergency_dataset/images/2009.jpg\n",
      "/kaggle/input/emergency_vs_non-emergency_dataset/images/804.jpg\n",
      "/kaggle/input/emergency_vs_non-emergency_dataset/images/1356.jpg\n",
      "/kaggle/input/emergency_vs_non-emergency_dataset/images/1681.jpg\n",
      "/kaggle/input/emergency_vs_non-emergency_dataset/images/2257.jpg\n",
      "/kaggle/input/emergency_vs_non-emergency_dataset/images/762.jpg\n",
      "/kaggle/input/emergency_vs_non-emergency_dataset/images/963.jpg\n",
      "/kaggle/input/emergency_vs_non-emergency_dataset/images/2287.jpg\n",
      "/kaggle/input/emergency_vs_non-emergency_dataset/images/565.jpg\n",
      "/kaggle/input/emergency_vs_non-emergency_dataset/images/371.jpg\n",
      "/kaggle/input/emergency_vs_non-emergency_dataset/images/1606.jpg\n",
      "/kaggle/input/emergency_vs_non-emergency_dataset/images/947.jpg\n",
      "/kaggle/input/emergency_vs_non-emergency_dataset/images/984.jpg\n",
      "/kaggle/input/emergency_vs_non-emergency_dataset/images/1306.jpg\n",
      "/kaggle/input/emergency_vs_non-emergency_dataset/images/1510.jpg\n",
      "/kaggle/input/emergency_vs_non-emergency_dataset/images/2082.jpg\n",
      "/kaggle/input/emergency_vs_non-emergency_dataset/images/635.jpg\n",
      "/kaggle/input/emergency_vs_non-emergency_dataset/images/2235.jpg\n",
      "/kaggle/input/emergency_vs_non-emergency_dataset/images/657.jpg\n",
      "/kaggle/input/emergency_vs_non-emergency_dataset/images/1188.jpg\n",
      "/kaggle/input/emergency_vs_non-emergency_dataset/images/755.jpg\n",
      "/kaggle/input/emergency_vs_non-emergency_dataset/images/1932.jpg\n",
      "/kaggle/input/emergency_vs_non-emergency_dataset/images/2340.jpg\n",
      "/kaggle/input/emergency_vs_non-emergency_dataset/images/1757.jpg\n",
      "/kaggle/input/emergency_vs_non-emergency_dataset/images/2330.jpg\n",
      "/kaggle/input/emergency_vs_non-emergency_dataset/images/1575.jpg\n",
      "/kaggle/input/emergency_vs_non-emergency_dataset/images/2129.jpg\n",
      "/kaggle/input/emergency_vs_non-emergency_dataset/images/460.jpg\n",
      "/kaggle/input/emergency_vs_non-emergency_dataset/images/237.jpg\n",
      "/kaggle/input/emergency_vs_non-emergency_dataset/images/2268.jpg\n",
      "/kaggle/input/emergency_vs_non-emergency_dataset/images/160.jpg\n",
      "/kaggle/input/emergency_vs_non-emergency_dataset/images/1229.jpg\n",
      "/kaggle/input/emergency_vs_non-emergency_dataset/images/1489.jpg\n",
      "/kaggle/input/emergency_vs_non-emergency_dataset/images/1851.jpg\n",
      "/kaggle/input/emergency_vs_non-emergency_dataset/images/597.jpg\n",
      "/kaggle/input/emergency_vs_non-emergency_dataset/images/1254.jpg\n",
      "/kaggle/input/emergency_vs_non-emergency_dataset/images/1039.jpg\n",
      "/kaggle/input/emergency_vs_non-emergency_dataset/images/409.jpg\n",
      "/kaggle/input/emergency_vs_non-emergency_dataset/images/1207.jpg\n",
      "/kaggle/input/emergency_vs_non-emergency_dataset/images/1233.jpg\n",
      "/kaggle/input/emergency_vs_non-emergency_dataset/images/2228.jpg\n",
      "/kaggle/input/emergency_vs_non-emergency_dataset/images/114.jpg\n",
      "/kaggle/input/emergency_vs_non-emergency_dataset/images/2198.jpg\n",
      "/kaggle/input/emergency_vs_non-emergency_dataset/images/1643.jpg\n",
      "/kaggle/input/emergency_vs_non-emergency_dataset/images/2103.jpg\n",
      "/kaggle/input/emergency_vs_non-emergency_dataset/images/439.jpg\n",
      "/kaggle/input/emergency_vs_non-emergency_dataset/images/1833.jpg\n",
      "/kaggle/input/emergency_vs_non-emergency_dataset/images/578.jpg\n",
      "/kaggle/input/emergency_vs_non-emergency_dataset/images/670.jpg\n",
      "/kaggle/input/emergency_vs_non-emergency_dataset/images/1993.jpg\n",
      "/kaggle/input/emergency_vs_non-emergency_dataset/images/2310.jpg\n",
      "/kaggle/input/emergency_vs_non-emergency_dataset/images/1253.jpg\n",
      "/kaggle/input/emergency_vs_non-emergency_dataset/images/169.jpg\n",
      "/kaggle/input/emergency_vs_non-emergency_dataset/images/844.jpg\n",
      "/kaggle/input/emergency_vs_non-emergency_dataset/images/2028.jpg\n",
      "/kaggle/input/emergency_vs_non-emergency_dataset/images/1236.jpg\n",
      "/kaggle/input/emergency_vs_non-emergency_dataset/images/301.jpg\n",
      "/kaggle/input/emergency_vs_non-emergency_dataset/images/666.jpg\n",
      "/kaggle/input/emergency_vs_non-emergency_dataset/images/157.jpg\n",
      "/kaggle/input/emergency_vs_non-emergency_dataset/images/862.jpg\n",
      "/kaggle/input/emergency_vs_non-emergency_dataset/images/234.jpg\n",
      "/kaggle/input/emergency_vs_non-emergency_dataset/images/280.jpg\n",
      "/kaggle/input/emergency_vs_non-emergency_dataset/images/1740.jpg\n",
      "/kaggle/input/emergency_vs_non-emergency_dataset/images/1013.jpg\n",
      "/kaggle/input/emergency_vs_non-emergency_dataset/images/2263.jpg\n",
      "/kaggle/input/emergency_vs_non-emergency_dataset/images/1273.jpg\n",
      "/kaggle/input/emergency_vs_non-emergency_dataset/images/1470.jpg\n",
      "/kaggle/input/emergency_vs_non-emergency_dataset/images/749.jpg\n",
      "/kaggle/input/emergency_vs_non-emergency_dataset/images/1903.jpg\n",
      "/kaggle/input/emergency_vs_non-emergency_dataset/images/1295.jpg\n",
      "/kaggle/input/emergency_vs_non-emergency_dataset/images/1406.jpg\n",
      "/kaggle/input/emergency_vs_non-emergency_dataset/images/456.jpg\n",
      "/kaggle/input/emergency_vs_non-emergency_dataset/images/1693.jpg\n",
      "/kaggle/input/emergency_vs_non-emergency_dataset/images/2127.jpg\n",
      "/kaggle/input/emergency_vs_non-emergency_dataset/images/1400.jpg\n",
      "/kaggle/input/emergency_vs_non-emergency_dataset/images/2175.jpg\n",
      "/kaggle/input/emergency_vs_non-emergency_dataset/images/1004.jpg\n",
      "/kaggle/input/emergency_vs_non-emergency_dataset/images/636.jpg\n",
      "/kaggle/input/emergency_vs_non-emergency_dataset/images/1906.jpg\n",
      "/kaggle/input/emergency_vs_non-emergency_dataset/images/2004.jpg\n",
      "/kaggle/input/emergency_vs_non-emergency_dataset/images/1228.jpg\n",
      "/kaggle/input/emergency_vs_non-emergency_dataset/images/353.jpg\n",
      "/kaggle/input/emergency_vs_non-emergency_dataset/images/75.jpg\n",
      "/kaggle/input/emergency_vs_non-emergency_dataset/images/1990.jpg\n",
      "/kaggle/input/emergency_vs_non-emergency_dataset/images/194.jpg\n",
      "/kaggle/input/emergency_vs_non-emergency_dataset/images/662.jpg\n",
      "/kaggle/input/emergency_vs_non-emergency_dataset/images/2062.jpg\n",
      "/kaggle/input/emergency_vs_non-emergency_dataset/images/1287.jpg\n",
      "/kaggle/input/emergency_vs_non-emergency_dataset/images/31.jpg\n",
      "/kaggle/input/emergency_vs_non-emergency_dataset/images/1927.jpg\n",
      "/kaggle/input/emergency_vs_non-emergency_dataset/images/2176.jpg\n",
      "/kaggle/input/emergency_vs_non-emergency_dataset/images/529.jpg\n",
      "/kaggle/input/emergency_vs_non-emergency_dataset/images/1056.jpg\n",
      "/kaggle/input/emergency_vs_non-emergency_dataset/images/936.jpg\n",
      "/kaggle/input/emergency_vs_non-emergency_dataset/images/129.jpg\n",
      "/kaggle/input/emergency_vs_non-emergency_dataset/images/1859.jpg\n",
      "/kaggle/input/emergency_vs_non-emergency_dataset/images/1357.jpg\n",
      "/kaggle/input/emergency_vs_non-emergency_dataset/images/2086.jpg\n",
      "/kaggle/input/emergency_vs_non-emergency_dataset/images/1635.jpg\n",
      "/kaggle/input/emergency_vs_non-emergency_dataset/images/393.jpg\n",
      "/kaggle/input/emergency_vs_non-emergency_dataset/images/2163.jpg\n",
      "/kaggle/input/emergency_vs_non-emergency_dataset/images/1629.jpg\n",
      "/kaggle/input/emergency_vs_non-emergency_dataset/images/65.jpg\n",
      "/kaggle/input/emergency_vs_non-emergency_dataset/images/1892.jpg\n",
      "/kaggle/input/emergency_vs_non-emergency_dataset/images/548.jpg\n",
      "/kaggle/input/emergency_vs_non-emergency_dataset/images/469.jpg\n",
      "/kaggle/input/emergency_vs_non-emergency_dataset/images/1035.jpg\n",
      "/kaggle/input/emergency_vs_non-emergency_dataset/images/1741.jpg\n",
      "/kaggle/input/emergency_vs_non-emergency_dataset/images/2328.jpg\n",
      "/kaggle/input/emergency_vs_non-emergency_dataset/images/190.jpg\n",
      "/kaggle/input/emergency_vs_non-emergency_dataset/images/2098.jpg\n",
      "/kaggle/input/emergency_vs_non-emergency_dataset/images/1464.jpg\n",
      "/kaggle/input/emergency_vs_non-emergency_dataset/images/1237.jpg\n",
      "/kaggle/input/emergency_vs_non-emergency_dataset/images/1047.jpg\n",
      "/kaggle/input/emergency_vs_non-emergency_dataset/images/2145.jpg\n",
      "/kaggle/input/emergency_vs_non-emergency_dataset/images/187.jpg\n",
      "/kaggle/input/emergency_vs_non-emergency_dataset/images/1828.jpg\n",
      "/kaggle/input/emergency_vs_non-emergency_dataset/images/515.jpg\n",
      "/kaggle/input/emergency_vs_non-emergency_dataset/images/1581.jpg\n",
      "/kaggle/input/emergency_vs_non-emergency_dataset/images/1772.jpg\n",
      "/kaggle/input/emergency_vs_non-emergency_dataset/images/113.jpg\n",
      "/kaggle/input/emergency_vs_non-emergency_dataset/images/2351.jpg\n",
      "/kaggle/input/emergency_vs_non-emergency_dataset/images/892.jpg\n",
      "/kaggle/input/emergency_vs_non-emergency_dataset/images/1201.jpg\n",
      "/kaggle/input/emergency_vs_non-emergency_dataset/images/2038.jpg\n",
      "/kaggle/input/emergency_vs_non-emergency_dataset/images/1535.jpg\n",
      "/kaggle/input/emergency_vs_non-emergency_dataset/images/2272.jpg\n",
      "/kaggle/input/emergency_vs_non-emergency_dataset/images/716.jpg\n",
      "/kaggle/input/emergency_vs_non-emergency_dataset/images/2135.jpg\n",
      "/kaggle/input/emergency_vs_non-emergency_dataset/images/2183.jpg\n",
      "/kaggle/input/emergency_vs_non-emergency_dataset/images/1895.jpg\n",
      "/kaggle/input/emergency_vs_non-emergency_dataset/images/1664.jpg\n",
      "/kaggle/input/emergency_vs_non-emergency_dataset/images/1288.jpg\n",
      "/kaggle/input/emergency_vs_non-emergency_dataset/images/2128.jpg\n",
      "/kaggle/input/emergency_vs_non-emergency_dataset/images/1764.jpg\n",
      "/kaggle/input/emergency_vs_non-emergency_dataset/images/1913.jpg\n",
      "/kaggle/input/emergency_vs_non-emergency_dataset/images/2294.jpg\n",
      "/kaggle/input/emergency_vs_non-emergency_dataset/images/25.jpg\n",
      "/kaggle/input/emergency_vs_non-emergency_dataset/images/1820.jpg\n",
      "/kaggle/input/emergency_vs_non-emergency_dataset/images/2148.jpg\n",
      "/kaggle/input/emergency_vs_non-emergency_dataset/images/583.jpg\n",
      "/kaggle/input/emergency_vs_non-emergency_dataset/images/212.jpg\n",
      "/kaggle/input/emergency_vs_non-emergency_dataset/images/10.jpg\n",
      "/kaggle/input/emergency_vs_non-emergency_dataset/images/2058.jpg\n",
      "/kaggle/input/emergency_vs_non-emergency_dataset/images/975.jpg\n",
      "/kaggle/input/emergency_vs_non-emergency_dataset/images/429.jpg\n",
      "/kaggle/input/emergency_vs_non-emergency_dataset/images/1053.jpg\n",
      "/kaggle/input/emergency_vs_non-emergency_dataset/images/932.jpg\n",
      "/kaggle/input/emergency_vs_non-emergency_dataset/images/1733.jpg\n",
      "/kaggle/input/emergency_vs_non-emergency_dataset/images/1197.jpg\n",
      "/kaggle/input/emergency_vs_non-emergency_dataset/images/1227.jpg\n",
      "/kaggle/input/emergency_vs_non-emergency_dataset/images/493.jpg\n",
      "/kaggle/input/emergency_vs_non-emergency_dataset/images/989.jpg\n",
      "/kaggle/input/emergency_vs_non-emergency_dataset/images/2020.jpg\n",
      "/kaggle/input/emergency_vs_non-emergency_dataset/images/1915.jpg\n",
      "/kaggle/input/emergency_vs_non-emergency_dataset/images/1448.jpg\n",
      "/kaggle/input/emergency_vs_non-emergency_dataset/images/321.jpg\n",
      "/kaggle/input/emergency_vs_non-emergency_dataset/images/1562.jpg\n",
      "/kaggle/input/emergency_vs_non-emergency_dataset/images/1150.jpg\n",
      "/kaggle/input/emergency_vs_non-emergency_dataset/images/1031.jpg\n",
      "/kaggle/input/emergency_vs_non-emergency_dataset/images/259.jpg\n",
      "/kaggle/input/emergency_vs_non-emergency_dataset/images/1205.jpg\n",
      "/kaggle/input/emergency_vs_non-emergency_dataset/images/2207.jpg\n",
      "/kaggle/input/emergency_vs_non-emergency_dataset/images/2097.jpg\n",
      "/kaggle/input/emergency_vs_non-emergency_dataset/images/1680.jpg\n",
      "/kaggle/input/emergency_vs_non-emergency_dataset/images/1222.jpg\n",
      "/kaggle/input/emergency_vs_non-emergency_dataset/images/1959.jpg\n",
      "/kaggle/input/emergency_vs_non-emergency_dataset/images/1385.jpg\n",
      "/kaggle/input/emergency_vs_non-emergency_dataset/images/44.jpg\n",
      "/kaggle/input/emergency_vs_non-emergency_dataset/images/861.jpg\n",
      "/kaggle/input/emergency_vs_non-emergency_dataset/images/399.jpg\n",
      "/kaggle/input/emergency_vs_non-emergency_dataset/images/1917.jpg\n",
      "/kaggle/input/emergency_vs_non-emergency_dataset/images/2249.jpg\n",
      "/kaggle/input/emergency_vs_non-emergency_dataset/images/774.jpg\n",
      "/kaggle/input/emergency_vs_non-emergency_dataset/images/489.jpg\n",
      "/kaggle/input/emergency_vs_non-emergency_dataset/images/1789.jpg\n",
      "/kaggle/input/emergency_vs_non-emergency_dataset/images/118.jpg\n",
      "/kaggle/input/emergency_vs_non-emergency_dataset/images/220.jpg\n",
      "/kaggle/input/emergency_vs_non-emergency_dataset/images/1920.jpg\n",
      "/kaggle/input/emergency_vs_non-emergency_dataset/images/1589.jpg\n",
      "/kaggle/input/emergency_vs_non-emergency_dataset/images/1408.jpg\n",
      "/kaggle/input/emergency_vs_non-emergency_dataset/images/1307.jpg\n",
      "/kaggle/input/emergency_vs_non-emergency_dataset/images/1614.jpg\n",
      "/kaggle/input/emergency_vs_non-emergency_dataset/images/1642.jpg\n",
      "/kaggle/input/emergency_vs_non-emergency_dataset/images/376.jpg\n",
      "/kaggle/input/emergency_vs_non-emergency_dataset/images/813.jpg\n",
      "/kaggle/input/emergency_vs_non-emergency_dataset/images/1350.jpg\n",
      "/kaggle/input/emergency_vs_non-emergency_dataset/images/1863.jpg\n",
      "/kaggle/input/emergency_vs_non-emergency_dataset/images/1565.jpg\n",
      "/kaggle/input/emergency_vs_non-emergency_dataset/images/2250.jpg\n",
      "/kaggle/input/emergency_vs_non-emergency_dataset/images/2329.jpg\n",
      "/kaggle/input/emergency_vs_non-emergency_dataset/images/2069.jpg\n",
      "/kaggle/input/emergency_vs_non-emergency_dataset/images/1872.jpg\n",
      "/kaggle/input/emergency_vs_non-emergency_dataset/images/1058.jpg\n",
      "/kaggle/input/emergency_vs_non-emergency_dataset/images/2305.jpg\n",
      "/kaggle/input/emergency_vs_non-emergency_dataset/images/396.jpg\n",
      "/kaggle/input/emergency_vs_non-emergency_dataset/images/2002.jpg\n",
      "/kaggle/input/emergency_vs_non-emergency_dataset/images/95.jpg\n",
      "/kaggle/input/emergency_vs_non-emergency_dataset/images/964.jpg\n",
      "/kaggle/input/emergency_vs_non-emergency_dataset/images/590.jpg\n",
      "/kaggle/input/emergency_vs_non-emergency_dataset/images/972.jpg\n",
      "/kaggle/input/emergency_vs_non-emergency_dataset/images/1883.jpg\n",
      "/kaggle/input/emergency_vs_non-emergency_dataset/images/1198.jpg\n",
      "/kaggle/input/emergency_vs_non-emergency_dataset/images/1691.jpg\n",
      "/kaggle/input/emergency_vs_non-emergency_dataset/images/492.jpg\n",
      "/kaggle/input/emergency_vs_non-emergency_dataset/images/115.jpg\n",
      "/kaggle/input/emergency_vs_non-emergency_dataset/images/1109.jpg\n",
      "/kaggle/input/emergency_vs_non-emergency_dataset/images/1051.jpg\n",
      "/kaggle/input/emergency_vs_non-emergency_dataset/images/2031.jpg\n",
      "/kaggle/input/emergency_vs_non-emergency_dataset/images/490.jpg\n",
      "/kaggle/input/emergency_vs_non-emergency_dataset/images/1857.jpg\n",
      "/kaggle/input/emergency_vs_non-emergency_dataset/images/1707.jpg\n",
      "/kaggle/input/emergency_vs_non-emergency_dataset/images/962.jpg\n",
      "/kaggle/input/emergency_vs_non-emergency_dataset/images/667.jpg\n",
      "/kaggle/input/emergency_vs_non-emergency_dataset/images/498.jpg\n",
      "/kaggle/input/emergency_vs_non-emergency_dataset/images/1380.jpg\n",
      "/kaggle/input/emergency_vs_non-emergency_dataset/images/1048.jpg\n",
      "/kaggle/input/emergency_vs_non-emergency_dataset/images/535.jpg\n",
      "/kaggle/input/emergency_vs_non-emergency_dataset/images/1647.jpg\n",
      "/kaggle/input/emergency_vs_non-emergency_dataset/images/910.jpg\n",
      "/kaggle/input/emergency_vs_non-emergency_dataset/images/2338.jpg\n",
      "/kaggle/input/emergency_vs_non-emergency_dataset/images/706.jpg\n",
      "/kaggle/input/emergency_vs_non-emergency_dataset/images/185.jpg\n",
      "/kaggle/input/emergency_vs_non-emergency_dataset/images/2283.jpg\n",
      "/kaggle/input/emergency_vs_non-emergency_dataset/images/133.jpg\n",
      "/kaggle/input/emergency_vs_non-emergency_dataset/images/330.jpg\n",
      "/kaggle/input/emergency_vs_non-emergency_dataset/images/1111.jpg\n",
      "/kaggle/input/emergency_vs_non-emergency_dataset/images/1862.jpg\n",
      "/kaggle/input/emergency_vs_non-emergency_dataset/images/1819.jpg\n",
      "/kaggle/input/emergency_vs_non-emergency_dataset/images/1478.jpg\n",
      "/kaggle/input/emergency_vs_non-emergency_dataset/images/1727.jpg\n",
      "/kaggle/input/emergency_vs_non-emergency_dataset/images/2220.jpg\n",
      "/kaggle/input/emergency_vs_non-emergency_dataset/images/1597.jpg\n",
      "/kaggle/input/emergency_vs_non-emergency_dataset/images/920.jpg\n",
      "/kaggle/input/emergency_vs_non-emergency_dataset/images/683.jpg\n",
      "/kaggle/input/emergency_vs_non-emergency_dataset/images/1377.jpg\n",
      "/kaggle/input/emergency_vs_non-emergency_dataset/images/369.jpg\n",
      "/kaggle/input/emergency_vs_non-emergency_dataset/images/1639.jpg\n",
      "/kaggle/input/emergency_vs_non-emergency_dataset/images/1052.jpg\n",
      "/kaggle/input/emergency_vs_non-emergency_dataset/images/1405.jpg\n",
      "/kaggle/input/emergency_vs_non-emergency_dataset/images/1132.jpg\n",
      "/kaggle/input/emergency_vs_non-emergency_dataset/images/2281.jpg\n",
      "/kaggle/input/emergency_vs_non-emergency_dataset/images/1466.jpg\n",
      "/kaggle/input/emergency_vs_non-emergency_dataset/images/1776.jpg\n",
      "/kaggle/input/emergency_vs_non-emergency_dataset/images/1616.jpg\n",
      "/kaggle/input/emergency_vs_non-emergency_dataset/images/130.jpg\n",
      "/kaggle/input/emergency_vs_non-emergency_dataset/images/314.jpg\n",
      "/kaggle/input/emergency_vs_non-emergency_dataset/images/1128.jpg\n",
      "/kaggle/input/emergency_vs_non-emergency_dataset/images/240.jpg\n",
      "/kaggle/input/emergency_vs_non-emergency_dataset/images/173.jpg\n",
      "/kaggle/input/emergency_vs_non-emergency_dataset/images/1962.jpg\n",
      "/kaggle/input/emergency_vs_non-emergency_dataset/images/2288.jpg\n",
      "/kaggle/input/emergency_vs_non-emergency_dataset/images/1900.jpg\n",
      "/kaggle/input/emergency_vs_non-emergency_dataset/images/99.jpg\n",
      "/kaggle/input/emergency_vs_non-emergency_dataset/images/1475.jpg\n",
      "/kaggle/input/emergency_vs_non-emergency_dataset/images/1147.jpg\n",
      "/kaggle/input/emergency_vs_non-emergency_dataset/images/1841.jpg\n",
      "/kaggle/input/emergency_vs_non-emergency_dataset/images/2204.jpg\n",
      "/kaggle/input/emergency_vs_non-emergency_dataset/images/1660.jpg\n",
      "/kaggle/input/emergency_vs_non-emergency_dataset/images/1323.jpg\n",
      "/kaggle/input/emergency_vs_non-emergency_dataset/images/571.jpg\n",
      "/kaggle/input/emergency_vs_non-emergency_dataset/images/649.jpg\n",
      "/kaggle/input/emergency_vs_non-emergency_dataset/images/1425.jpg\n",
      "/kaggle/input/emergency_vs_non-emergency_dataset/images/1439.jpg\n",
      "/kaggle/input/emergency_vs_non-emergency_dataset/images/374.jpg\n",
      "/kaggle/input/emergency_vs_non-emergency_dataset/images/2080.jpg\n",
      "/kaggle/input/emergency_vs_non-emergency_dataset/images/1272.jpg\n",
      "/kaggle/input/emergency_vs_non-emergency_dataset/images/285.jpg\n",
      "/kaggle/input/emergency_vs_non-emergency_dataset/images/2166.jpg\n",
      "/kaggle/input/emergency_vs_non-emergency_dataset/images/2280.jpg\n",
      "/kaggle/input/emergency_vs_non-emergency_dataset/images/302.jpg\n",
      "/kaggle/input/emergency_vs_non-emergency_dataset/images/650.jpg\n",
      "/kaggle/input/emergency_vs_non-emergency_dataset/images/263.jpg\n",
      "/kaggle/input/emergency_vs_non-emergency_dataset/images/470.jpg\n",
      "/kaggle/input/emergency_vs_non-emergency_dataset/images/502.jpg\n",
      "/kaggle/input/emergency_vs_non-emergency_dataset/images/319.jpg\n",
      "/kaggle/input/emergency_vs_non-emergency_dataset/images/166.jpg\n",
      "/kaggle/input/emergency_vs_non-emergency_dataset/images/1173.jpg\n",
      "/kaggle/input/emergency_vs_non-emergency_dataset/images/2142.jpg\n",
      "/kaggle/input/emergency_vs_non-emergency_dataset/images/614.jpg\n",
      "/kaggle/input/emergency_vs_non-emergency_dataset/images/1996.jpg\n",
      "/kaggle/input/emergency_vs_non-emergency_dataset/images/692.jpg\n",
      "/kaggle/input/emergency_vs_non-emergency_dataset/images/1153.jpg\n",
      "/kaggle/input/emergency_vs_non-emergency_dataset/images/1050.jpg\n",
      "/kaggle/input/emergency_vs_non-emergency_dataset/images/1751.jpg\n",
      "/kaggle/input/emergency_vs_non-emergency_dataset/images/896.jpg\n",
      "/kaggle/input/emergency_vs_non-emergency_dataset/images/805.jpg\n",
      "/kaggle/input/emergency_vs_non-emergency_dataset/images/1022.jpg\n",
      "/kaggle/input/emergency_vs_non-emergency_dataset/images/2039.jpg\n",
      "/kaggle/input/emergency_vs_non-emergency_dataset/images/1622.jpg\n",
      "/kaggle/input/emergency_vs_non-emergency_dataset/images/39.jpg\n",
      "/kaggle/input/emergency_vs_non-emergency_dataset/images/938.jpg\n",
      "/kaggle/input/emergency_vs_non-emergency_dataset/images/985.jpg\n",
      "/kaggle/input/emergency_vs_non-emergency_dataset/images/337.jpg\n",
      "/kaggle/input/emergency_vs_non-emergency_dataset/images/1219.jpg\n",
      "/kaggle/input/emergency_vs_non-emergency_dataset/images/1537.jpg\n",
      "/kaggle/input/emergency_vs_non-emergency_dataset/images/196.jpg\n",
      "/kaggle/input/emergency_vs_non-emergency_dataset/images/2304.jpg\n",
      "/kaggle/input/emergency_vs_non-emergency_dataset/images/1775.jpg\n",
      "/kaggle/input/emergency_vs_non-emergency_dataset/images/475.jpg\n",
      "/kaggle/input/emergency_vs_non-emergency_dataset/images/1583.jpg\n",
      "/kaggle/input/emergency_vs_non-emergency_dataset/images/461.jpg\n",
      "/kaggle/input/emergency_vs_non-emergency_dataset/images/1834.jpg\n",
      "/kaggle/input/emergency_vs_non-emergency_dataset/images/951.jpg\n",
      "/kaggle/input/emergency_vs_non-emergency_dataset/images/253.jpg\n",
      "/kaggle/input/emergency_vs_non-emergency_dataset/images/994.jpg\n",
      "/kaggle/input/emergency_vs_non-emergency_dataset/images/2008.jpg\n",
      "/kaggle/input/emergency_vs_non-emergency_dataset/images/2319.jpg\n",
      "/kaggle/input/emergency_vs_non-emergency_dataset/images/1110.jpg\n",
      "/kaggle/input/emergency_vs_non-emergency_dataset/images/2303.jpg\n",
      "/kaggle/input/emergency_vs_non-emergency_dataset/images/1653.jpg\n",
      "/kaggle/input/emergency_vs_non-emergency_dataset/images/966.jpg\n",
      "/kaggle/input/emergency_vs_non-emergency_dataset/images/732.jpg\n",
      "/kaggle/input/emergency_vs_non-emergency_dataset/images/1979.jpg\n",
      "/kaggle/input/emergency_vs_non-emergency_dataset/images/1885.jpg\n",
      "/kaggle/input/emergency_vs_non-emergency_dataset/images/1330.jpg\n",
      "/kaggle/input/emergency_vs_non-emergency_dataset/images/971.jpg\n",
      "/kaggle/input/emergency_vs_non-emergency_dataset/images/2337.jpg\n",
      "/kaggle/input/emergency_vs_non-emergency_dataset/images/1363.jpg\n",
      "/kaggle/input/emergency_vs_non-emergency_dataset/images/1018.jpg\n",
      "/kaggle/input/emergency_vs_non-emergency_dataset/images/1226.jpg\n",
      "/kaggle/input/emergency_vs_non-emergency_dataset/images/1461.jpg\n",
      "/kaggle/input/emergency_vs_non-emergency_dataset/images/688.jpg\n",
      "/kaggle/input/emergency_vs_non-emergency_dataset/images/656.jpg\n",
      "/kaggle/input/emergency_vs_non-emergency_dataset/images/2182.jpg\n",
      "/kaggle/input/emergency_vs_non-emergency_dataset/images/647.jpg\n",
      "/kaggle/input/emergency_vs_non-emergency_dataset/images/1935.jpg\n",
      "/kaggle/input/emergency_vs_non-emergency_dataset/images/1825.jpg\n",
      "/kaggle/input/emergency_vs_non-emergency_dataset/images/1096.jpg\n",
      "/kaggle/input/emergency_vs_non-emergency_dataset/images/342.jpg\n",
      "/kaggle/input/emergency_vs_non-emergency_dataset/images/1521.jpg\n",
      "/kaggle/input/emergency_vs_non-emergency_dataset/images/2101.jpg\n",
      "/kaggle/input/emergency_vs_non-emergency_dataset/images/415.jpg\n",
      "/kaggle/input/emergency_vs_non-emergency_dataset/images/1777.jpg\n",
      "/kaggle/input/emergency_vs_non-emergency_dataset/images/54.jpg\n",
      "/kaggle/input/emergency_vs_non-emergency_dataset/images/1230.jpg\n",
      "/kaggle/input/emergency_vs_non-emergency_dataset/images/1568.jpg\n",
      "/kaggle/input/emergency_vs_non-emergency_dataset/images/1719.jpg\n",
      "/kaggle/input/emergency_vs_non-emergency_dataset/images/2289.jpg\n",
      "/kaggle/input/emergency_vs_non-emergency_dataset/images/1504.jpg\n",
      "/kaggle/input/emergency_vs_non-emergency_dataset/images/163.jpg\n",
      "/kaggle/input/emergency_vs_non-emergency_dataset/images/828.jpg\n",
      "/kaggle/input/emergency_vs_non-emergency_dataset/images/2270.jpg\n",
      "/kaggle/input/emergency_vs_non-emergency_dataset/images/1440.jpg\n",
      "/kaggle/input/emergency_vs_non-emergency_dataset/images/2033.jpg\n",
      "/kaggle/input/emergency_vs_non-emergency_dataset/images/430.jpg\n",
      "/kaggle/input/emergency_vs_non-emergency_dataset/images/338.jpg\n",
      "/kaggle/input/emergency_vs_non-emergency_dataset/images/382.jpg\n",
      "/kaggle/input/emergency_vs_non-emergency_dataset/images/1371.jpg\n",
      "/kaggle/input/emergency_vs_non-emergency_dataset/images/2212.jpg\n",
      "/kaggle/input/emergency_vs_non-emergency_dataset/images/505.jpg\n",
      "/kaggle/input/emergency_vs_non-emergency_dataset/images/624.jpg\n",
      "/kaggle/input/emergency_vs_non-emergency_dataset/images/2219.jpg\n",
      "/kaggle/input/emergency_vs_non-emergency_dataset/images/1497.jpg\n",
      "/kaggle/input/emergency_vs_non-emergency_dataset/images/2312.jpg\n",
      "/kaggle/input/emergency_vs_non-emergency_dataset/images/33.jpg\n",
      "/kaggle/input/emergency_vs_non-emergency_dataset/images/1038.jpg\n",
      "/kaggle/input/emergency_vs_non-emergency_dataset/images/1097.jpg\n",
      "/kaggle/input/emergency_vs_non-emergency_dataset/images/822.jpg\n",
      "/kaggle/input/emergency_vs_non-emergency_dataset/images/2041.jpg\n",
      "/kaggle/input/emergency_vs_non-emergency_dataset/images/1239.jpg\n",
      "/kaggle/input/emergency_vs_non-emergency_dataset/images/1305.jpg\n",
      "/kaggle/input/emergency_vs_non-emergency_dataset/images/1784.jpg\n",
      "/kaggle/input/emergency_vs_non-emergency_dataset/images/2277.jpg\n",
      "/kaggle/input/emergency_vs_non-emergency_dataset/images/1423.jpg\n",
      "/kaggle/input/emergency_vs_non-emergency_dataset/images/723.jpg\n",
      "/kaggle/input/emergency_vs_non-emergency_dataset/images/299.jpg\n",
      "/kaggle/input/emergency_vs_non-emergency_dataset/images/850.jpg\n",
      "/kaggle/input/emergency_vs_non-emergency_dataset/images/390.jpg\n",
      "/kaggle/input/emergency_vs_non-emergency_dataset/images/783.jpg\n",
      "/kaggle/input/emergency_vs_non-emergency_dataset/images/60.jpg\n",
      "/kaggle/input/emergency_vs_non-emergency_dataset/images/503.jpg\n",
      "/kaggle/input/emergency_vs_non-emergency_dataset/images/427.jpg\n",
      "/kaggle/input/emergency_vs_non-emergency_dataset/images/540.jpg\n",
      "/kaggle/input/emergency_vs_non-emergency_dataset/images/1121.jpg\n",
      "/kaggle/input/emergency_vs_non-emergency_dataset/images/973.jpg\n",
      "/kaggle/input/emergency_vs_non-emergency_dataset/images/750.jpg\n",
      "/kaggle/input/emergency_vs_non-emergency_dataset/images/293.jpg\n",
      "/kaggle/input/emergency_vs_non-emergency_dataset/images/1498.jpg\n",
      "/kaggle/input/emergency_vs_non-emergency_dataset/images/218.jpg\n",
      "/kaggle/input/emergency_vs_non-emergency_dataset/images/152.jpg\n",
      "/kaggle/input/emergency_vs_non-emergency_dataset/images/1332.jpg\n",
      "/kaggle/input/emergency_vs_non-emergency_dataset/images/2344.jpg\n",
      "/kaggle/input/emergency_vs_non-emergency_dataset/images/1092.jpg\n",
      "/kaggle/input/emergency_vs_non-emergency_dataset/images/1696.jpg\n",
      "/kaggle/input/emergency_vs_non-emergency_dataset/images/1113.jpg\n",
      "/kaggle/input/emergency_vs_non-emergency_dataset/images/59.jpg\n",
      "/kaggle/input/emergency_vs_non-emergency_dataset/images/787.jpg\n",
      "/kaggle/input/emergency_vs_non-emergency_dataset/images/1617.jpg\n",
      "/kaggle/input/emergency_vs_non-emergency_dataset/images/554.jpg\n",
      "/kaggle/input/emergency_vs_non-emergency_dataset/images/504.jpg\n",
      "/kaggle/input/emergency_vs_non-emergency_dataset/images/1112.jpg\n",
      "/kaggle/input/emergency_vs_non-emergency_dataset/images/563.jpg\n",
      "/kaggle/input/emergency_vs_non-emergency_dataset/images/1444.jpg\n",
      "/kaggle/input/emergency_vs_non-emergency_dataset/images/1570.jpg\n",
      "/kaggle/input/emergency_vs_non-emergency_dataset/images/1445.jpg\n",
      "/kaggle/input/emergency_vs_non-emergency_dataset/images/392.jpg\n",
      "/kaggle/input/emergency_vs_non-emergency_dataset/images/1452.jpg\n",
      "/kaggle/input/emergency_vs_non-emergency_dataset/images/1867.jpg\n",
      "/kaggle/input/emergency_vs_non-emergency_dataset/images/1214.jpg\n",
      "/kaggle/input/emergency_vs_non-emergency_dataset/images/664.jpg\n",
      "/kaggle/input/emergency_vs_non-emergency_dataset/images/1007.jpg\n",
      "/kaggle/input/emergency_vs_non-emergency_dataset/images/1532.jpg\n",
      "/kaggle/input/emergency_vs_non-emergency_dataset/images/1651.jpg\n",
      "/kaggle/input/emergency_vs_non-emergency_dataset/images/1603.jpg\n",
      "/kaggle/input/emergency_vs_non-emergency_dataset/images/1432.jpg\n",
      "/kaggle/input/emergency_vs_non-emergency_dataset/images/1261.jpg\n",
      "/kaggle/input/emergency_vs_non-emergency_dataset/images/2232.jpg\n",
      "/kaggle/input/emergency_vs_non-emergency_dataset/images/1308.jpg\n",
      "/kaggle/input/emergency_vs_non-emergency_dataset/images/223.jpg\n",
      "/kaggle/input/emergency_vs_non-emergency_dataset/images/814.jpg\n",
      "/kaggle/input/emergency_vs_non-emergency_dataset/images/2064.jpg\n",
      "/kaggle/input/emergency_vs_non-emergency_dataset/images/988.jpg\n",
      "/kaggle/input/emergency_vs_non-emergency_dataset/images/1770.jpg\n",
      "/kaggle/input/emergency_vs_non-emergency_dataset/images/2177.jpg\n",
      "/kaggle/input/emergency_vs_non-emergency_dataset/images/235.jpg\n",
      "/kaggle/input/emergency_vs_non-emergency_dataset/images/1718.jpg\n",
      "/kaggle/input/emergency_vs_non-emergency_dataset/images/876.jpg\n",
      "/kaggle/input/emergency_vs_non-emergency_dataset/images/1515.jpg\n",
      "/kaggle/input/emergency_vs_non-emergency_dataset/images/884.jpg\n",
      "/kaggle/input/emergency_vs_non-emergency_dataset/images/536.jpg\n",
      "/kaggle/input/emergency_vs_non-emergency_dataset/images/1880.jpg\n",
      "/kaggle/input/emergency_vs_non-emergency_dataset/images/1564.jpg\n",
      "/kaggle/input/emergency_vs_non-emergency_dataset/images/979.jpg\n",
      "/kaggle/input/emergency_vs_non-emergency_dataset/images/296.jpg\n",
      "/kaggle/input/emergency_vs_non-emergency_dataset/images/126.jpg\n",
      "/kaggle/input/emergency_vs_non-emergency_dataset/images/1704.jpg\n",
      "/kaggle/input/emergency_vs_non-emergency_dataset/images/1743.jpg\n",
      "/kaggle/input/emergency_vs_non-emergency_dataset/images/1747.jpg\n",
      "/kaggle/input/emergency_vs_non-emergency_dataset/images/512.jpg\n",
      "/kaggle/input/emergency_vs_non-emergency_dataset/images/1345.jpg\n",
      "/kaggle/input/emergency_vs_non-emergency_dataset/images/1278.jpg\n",
      "/kaggle/input/emergency_vs_non-emergency_dataset/images/1140.jpg\n",
      "/kaggle/input/emergency_vs_non-emergency_dataset/images/441.jpg\n",
      "/kaggle/input/emergency_vs_non-emergency_dataset/images/930.jpg\n",
      "/kaggle/input/emergency_vs_non-emergency_dataset/images/256.jpg\n",
      "/kaggle/input/emergency_vs_non-emergency_dataset/images/2239.jpg\n",
      "/kaggle/input/emergency_vs_non-emergency_dataset/images/516.jpg\n",
      "/kaggle/input/emergency_vs_non-emergency_dataset/images/2022.jpg\n",
      "/kaggle/input/emergency_vs_non-emergency_dataset/images/1569.jpg\n",
      "/kaggle/input/emergency_vs_non-emergency_dataset/images/106.jpg\n",
      "/kaggle/input/emergency_vs_non-emergency_dataset/images/1602.jpg\n",
      "/kaggle/input/emergency_vs_non-emergency_dataset/images/539.jpg\n",
      "/kaggle/input/emergency_vs_non-emergency_dataset/images/1129.jpg\n",
      "/kaggle/input/emergency_vs_non-emergency_dataset/images/1177.jpg\n",
      "/kaggle/input/emergency_vs_non-emergency_dataset/images/611.jpg\n",
      "/kaggle/input/emergency_vs_non-emergency_dataset/images/2254.jpg\n",
      "/kaggle/input/emergency_vs_non-emergency_dataset/images/242.jpg\n",
      "/kaggle/input/emergency_vs_non-emergency_dataset/images/837.jpg\n",
      "/kaggle/input/emergency_vs_non-emergency_dataset/images/2230.jpg\n",
      "/kaggle/input/emergency_vs_non-emergency_dataset/images/724.jpg\n",
      "/kaggle/input/emergency_vs_non-emergency_dataset/images/941.jpg\n",
      "/kaggle/input/emergency_vs_non-emergency_dataset/images/216.jpg\n",
      "/kaggle/input/emergency_vs_non-emergency_dataset/images/1392.jpg\n",
      "/kaggle/input/emergency_vs_non-emergency_dataset/images/1328.jpg\n",
      "/kaggle/input/emergency_vs_non-emergency_dataset/images/1838.jpg\n",
      "/kaggle/input/emergency_vs_non-emergency_dataset/images/1901.jpg\n",
      "/kaggle/input/emergency_vs_non-emergency_dataset/images/1582.jpg\n",
      "/kaggle/input/emergency_vs_non-emergency_dataset/images/20.jpg\n",
      "/kaggle/input/emergency_vs_non-emergency_dataset/images/329.jpg\n",
      "/kaggle/input/emergency_vs_non-emergency_dataset/images/766.jpg\n",
      "/kaggle/input/emergency_vs_non-emergency_dataset/images/1536.jpg\n",
      "/kaggle/input/emergency_vs_non-emergency_dataset/images/404.jpg\n",
      "/kaggle/input/emergency_vs_non-emergency_dataset/images/2017.jpg\n",
      "/kaggle/input/emergency_vs_non-emergency_dataset/images/323.jpg\n",
      "/kaggle/input/emergency_vs_non-emergency_dataset/images/1561.jpg\n",
      "/kaggle/input/emergency_vs_non-emergency_dataset/images/2121.jpg\n",
      "/kaggle/input/emergency_vs_non-emergency_dataset/images/1482.jpg\n",
      "/kaggle/input/emergency_vs_non-emergency_dataset/images/991.jpg\n",
      "/kaggle/input/emergency_vs_non-emergency_dataset/images/1083.jpg\n",
      "/kaggle/input/emergency_vs_non-emergency_dataset/images/918.jpg\n",
      "/kaggle/input/emergency_vs_non-emergency_dataset/images/473.jpg\n",
      "/kaggle/input/emergency_vs_non-emergency_dataset/images/405.jpg\n",
      "/kaggle/input/emergency_vs_non-emergency_dataset/images/2274.jpg\n",
      "/kaggle/input/emergency_vs_non-emergency_dataset/images/2332.jpg\n",
      "/kaggle/input/emergency_vs_non-emergency_dataset/images/2258.jpg\n",
      "/kaggle/input/emergency_vs_non-emergency_dataset/images/866.jpg\n",
      "/kaggle/input/emergency_vs_non-emergency_dataset/images/729.jpg\n",
      "/kaggle/input/emergency_vs_non-emergency_dataset/images/713.jpg\n",
      "/kaggle/input/emergency_vs_non-emergency_dataset/images/1714.jpg\n",
      "/kaggle/input/emergency_vs_non-emergency_dataset/images/2213.jpg\n",
      "/kaggle/input/emergency_vs_non-emergency_dataset/images/1944.jpg\n",
      "/kaggle/input/emergency_vs_non-emergency_dataset/images/671.jpg\n",
      "/kaggle/input/emergency_vs_non-emergency_dataset/images/1921.jpg\n",
      "/kaggle/input/emergency_vs_non-emergency_dataset/images/623.jpg\n",
      "/kaggle/input/emergency_vs_non-emergency_dataset/images/1774.jpg\n",
      "/kaggle/input/emergency_vs_non-emergency_dataset/images/437.jpg\n",
      "/kaggle/input/emergency_vs_non-emergency_dataset/images/179.jpg\n",
      "/kaggle/input/emergency_vs_non-emergency_dataset/images/1543.jpg\n",
      "/kaggle/input/emergency_vs_non-emergency_dataset/images/1293.jpg\n",
      "/kaggle/input/emergency_vs_non-emergency_dataset/images/1723.jpg\n",
      "/kaggle/input/emergency_vs_non-emergency_dataset/images/627.jpg\n",
      "/kaggle/input/emergency_vs_non-emergency_dataset/images/1875.jpg\n",
      "/kaggle/input/emergency_vs_non-emergency_dataset/images/570.jpg\n",
      "/kaggle/input/emergency_vs_non-emergency_dataset/images/1864.jpg\n",
      "/kaggle/input/emergency_vs_non-emergency_dataset/images/1975.jpg\n",
      "/kaggle/input/emergency_vs_non-emergency_dataset/images/269.jpg\n",
      "/kaggle/input/emergency_vs_non-emergency_dataset/images/1987.jpg\n",
      "/kaggle/input/emergency_vs_non-emergency_dataset/images/1988.jpg\n",
      "/kaggle/input/emergency_vs_non-emergency_dataset/images/653.jpg\n",
      "/kaggle/input/emergency_vs_non-emergency_dataset/images/2085.jpg\n",
      "/kaggle/input/emergency_vs_non-emergency_dataset/images/7.jpg\n",
      "/kaggle/input/emergency_vs_non-emergency_dataset/images/2118.jpg\n",
      "/kaggle/input/emergency_vs_non-emergency_dataset/images/1388.jpg\n",
      "/kaggle/input/emergency_vs_non-emergency_dataset/images/188.jpg\n",
      "/kaggle/input/emergency_vs_non-emergency_dataset/images/2114.jpg\n",
      "/kaggle/input/emergency_vs_non-emergency_dataset/images/511.jpg\n",
      "/kaggle/input/emergency_vs_non-emergency_dataset/images/882.jpg\n",
      "/kaggle/input/emergency_vs_non-emergency_dataset/images/863.jpg\n",
      "/kaggle/input/emergency_vs_non-emergency_dataset/images/2205.jpg\n",
      "/kaggle/input/emergency_vs_non-emergency_dataset/images/616.jpg\n",
      "/kaggle/input/emergency_vs_non-emergency_dataset/images/1411.jpg\n",
      "/kaggle/input/emergency_vs_non-emergency_dataset/images/447.jpg\n",
      "/kaggle/input/emergency_vs_non-emergency_dataset/images/629.jpg\n",
      "/kaggle/input/emergency_vs_non-emergency_dataset/images/731.jpg\n",
      "/kaggle/input/emergency_vs_non-emergency_dataset/images/2044.jpg\n",
      "/kaggle/input/emergency_vs_non-emergency_dataset/images/1314.jpg\n",
      "/kaggle/input/emergency_vs_non-emergency_dataset/images/586.jpg\n",
      "/kaggle/input/emergency_vs_non-emergency_dataset/images/364.jpg\n",
      "/kaggle/input/emergency_vs_non-emergency_dataset/images/1674.jpg\n",
      "/kaggle/input/emergency_vs_non-emergency_dataset/images/1520.jpg\n",
      "/kaggle/input/emergency_vs_non-emergency_dataset/images/1771.jpg\n",
      "/kaggle/input/emergency_vs_non-emergency_dataset/images/1381.jpg\n",
      "/kaggle/input/emergency_vs_non-emergency_dataset/images/1403.jpg\n",
      "/kaggle/input/emergency_vs_non-emergency_dataset/images/2132.jpg\n",
      "/kaggle/input/emergency_vs_non-emergency_dataset/images/659.jpg\n",
      "/kaggle/input/emergency_vs_non-emergency_dataset/images/770.jpg\n",
      "/kaggle/input/emergency_vs_non-emergency_dataset/images/375.jpg\n",
      "/kaggle/input/emergency_vs_non-emergency_dataset/images/1675.jpg\n",
      "/kaggle/input/emergency_vs_non-emergency_dataset/images/1967.jpg\n",
      "/kaggle/input/emergency_vs_non-emergency_dataset/images/2262.jpg\n",
      "/kaggle/input/emergency_vs_non-emergency_dataset/images/674.jpg\n",
      "/kaggle/input/emergency_vs_non-emergency_dataset/images/520.jpg\n",
      "/kaggle/input/emergency_vs_non-emergency_dataset/images/2071.jpg\n",
      "/kaggle/input/emergency_vs_non-emergency_dataset/images/2236.jpg\n",
      "/kaggle/input/emergency_vs_non-emergency_dataset/images/327.jpg\n",
      "/kaggle/input/emergency_vs_non-emergency_dataset/images/2192.jpg\n",
      "/kaggle/input/emergency_vs_non-emergency_dataset/images/1941.jpg\n",
      "/kaggle/input/emergency_vs_non-emergency_dataset/images/1246.jpg\n",
      "/kaggle/input/emergency_vs_non-emergency_dataset/images/1469.jpg\n",
      "/kaggle/input/emergency_vs_non-emergency_dataset/images/225.jpg\n",
      "/kaggle/input/emergency_vs_non-emergency_dataset/images/851.jpg\n",
      "/kaggle/input/emergency_vs_non-emergency_dataset/images/1138.jpg\n",
      "/kaggle/input/emergency_vs_non-emergency_dataset/images/482.jpg\n",
      "/kaggle/input/emergency_vs_non-emergency_dataset/images/2255.jpg\n",
      "/kaggle/input/emergency_vs_non-emergency_dataset/images/1263.jpg\n",
      "/kaggle/input/emergency_vs_non-emergency_dataset/images/2290.jpg\n",
      "/kaggle/input/emergency_vs_non-emergency_dataset/images/1982.jpg\n",
      "/kaggle/input/emergency_vs_non-emergency_dataset/images/982.jpg\n",
      "/kaggle/input/emergency_vs_non-emergency_dataset/images/530.jpg\n",
      "/kaggle/input/emergency_vs_non-emergency_dataset/images/794.jpg\n",
      "/kaggle/input/emergency_vs_non-emergency_dataset/images/2206.jpg\n",
      "/kaggle/input/emergency_vs_non-emergency_dataset/images/1166.jpg\n",
      "/kaggle/input/emergency_vs_non-emergency_dataset/images/871.jpg\n",
      "/kaggle/input/emergency_vs_non-emergency_dataset/images/1887.jpg\n",
      "/kaggle/input/emergency_vs_non-emergency_dataset/images/1479.jpg\n",
      "/kaggle/input/emergency_vs_non-emergency_dataset/images/388.jpg\n",
      "/kaggle/input/emergency_vs_non-emergency_dataset/images/413.jpg\n",
      "/kaggle/input/emergency_vs_non-emergency_dataset/images/1178.jpg\n",
      "/kaggle/input/emergency_vs_non-emergency_dataset/images/435.jpg\n",
      "/kaggle/input/emergency_vs_non-emergency_dataset/images/903.jpg\n",
      "/kaggle/input/emergency_vs_non-emergency_dataset/images/2016.jpg\n",
      "/kaggle/input/emergency_vs_non-emergency_dataset/images/1687.jpg\n",
      "/kaggle/input/emergency_vs_non-emergency_dataset/images/1486.jpg\n",
      "/kaggle/input/emergency_vs_non-emergency_dataset/images/1067.jpg\n",
      "/kaggle/input/emergency_vs_non-emergency_dataset/images/143.jpg\n",
      "/kaggle/input/emergency_vs_non-emergency_dataset/images/986.jpg\n",
      "/kaggle/input/emergency_vs_non-emergency_dataset/images/9.jpg\n",
      "/kaggle/input/emergency_vs_non-emergency_dataset/images/1481.jpg\n",
      "/kaggle/input/emergency_vs_non-emergency_dataset/images/316.jpg\n",
      "/kaggle/input/emergency_vs_non-emergency_dataset/images/1904.jpg\n",
      "/kaggle/input/emergency_vs_non-emergency_dataset/images/2211.jpg\n",
      "/kaggle/input/emergency_vs_non-emergency_dataset/images/1973.jpg\n",
      "/kaggle/input/emergency_vs_non-emergency_dataset/images/1550.jpg\n",
      "/kaggle/input/emergency_vs_non-emergency_dataset/images/1001.jpg\n",
      "/kaggle/input/emergency_vs_non-emergency_dataset/images/124.jpg\n",
      "/kaggle/input/emergency_vs_non-emergency_dataset/images/1507.jpg\n",
      "/kaggle/input/emergency_vs_non-emergency_dataset/images/1909.jpg\n",
      "/kaggle/input/emergency_vs_non-emergency_dataset/images/454.jpg\n",
      "/kaggle/input/emergency_vs_non-emergency_dataset/images/2349.jpg\n",
      "/kaggle/input/emergency_vs_non-emergency_dataset/images/1977.jpg\n",
      "/kaggle/input/emergency_vs_non-emergency_dataset/images/1574.jpg\n",
      "/kaggle/input/emergency_vs_non-emergency_dataset/images/757.jpg\n",
      "/kaggle/input/emergency_vs_non-emergency_dataset/images/2165.jpg\n",
      "/kaggle/input/emergency_vs_non-emergency_dataset/images/693.jpg\n",
      "/kaggle/input/emergency_vs_non-emergency_dataset/images/792.jpg\n",
      "/kaggle/input/emergency_vs_non-emergency_dataset/images/183.jpg\n",
      "/kaggle/input/emergency_vs_non-emergency_dataset/images/359.jpg\n",
      "/kaggle/input/emergency_vs_non-emergency_dataset/images/450.jpg\n",
      "/kaggle/input/emergency_vs_non-emergency_dataset/images/2210.jpg\n",
      "/kaggle/input/emergency_vs_non-emergency_dataset/images/1365.jpg\n",
      "/kaggle/input/emergency_vs_non-emergency_dataset/images/1599.jpg\n",
      "/kaggle/input/emergency_vs_non-emergency_dataset/images/1910.jpg\n",
      "/kaggle/input/emergency_vs_non-emergency_dataset/images/1030.jpg\n",
      "/kaggle/input/emergency_vs_non-emergency_dataset/images/775.jpg\n",
      "/kaggle/input/emergency_vs_non-emergency_dataset/images/162.jpg\n",
      "/kaggle/input/emergency_vs_non-emergency_dataset/images/1628.jpg\n",
      "/kaggle/input/emergency_vs_non-emergency_dataset/images/71.jpg\n",
      "/kaggle/input/emergency_vs_non-emergency_dataset/images/57.jpg\n",
      "/kaggle/input/emergency_vs_non-emergency_dataset/images/1523.jpg\n",
      "/kaggle/input/emergency_vs_non-emergency_dataset/images/1374.jpg\n",
      "/kaggle/input/emergency_vs_non-emergency_dataset/images/2122.jpg\n",
      "/kaggle/input/emergency_vs_non-emergency_dataset/images/523.jpg\n",
      "/kaggle/input/emergency_vs_non-emergency_dataset/images/849.jpg\n",
      "/kaggle/input/emergency_vs_non-emergency_dataset/images/35.jpg\n",
      "/kaggle/input/emergency_vs_non-emergency_dataset/images/1650.jpg\n",
      "/kaggle/input/emergency_vs_non-emergency_dataset/images/2172.jpg\n",
      "/kaggle/input/emergency_vs_non-emergency_dataset/images/102.jpg\n",
      "/kaggle/input/emergency_vs_non-emergency_dataset/images/1331.jpg\n",
      "/kaggle/input/emergency_vs_non-emergency_dataset/images/1180.jpg\n",
      "/kaggle/input/emergency_vs_non-emergency_dataset/images/389.jpg\n",
      "/kaggle/input/emergency_vs_non-emergency_dataset/images/977.jpg\n",
      "/kaggle/input/emergency_vs_non-emergency_dataset/images/292.jpg\n",
      "/kaggle/input/emergency_vs_non-emergency_dataset/images/739.jpg\n",
      "/kaggle/input/emergency_vs_non-emergency_dataset/images/737.jpg\n",
      "/kaggle/input/emergency_vs_non-emergency_dataset/images/354.jpg\n",
      "/kaggle/input/emergency_vs_non-emergency_dataset/images/1068.jpg\n",
      "/kaggle/input/emergency_vs_non-emergency_dataset/images/1703.jpg\n",
      "/kaggle/input/emergency_vs_non-emergency_dataset/images/55.jpg\n",
      "/kaggle/input/emergency_vs_non-emergency_dataset/images/846.jpg\n",
      "/kaggle/input/emergency_vs_non-emergency_dataset/images/1713.jpg\n",
      "/kaggle/input/emergency_vs_non-emergency_dataset/images/1847.jpg\n",
      "/kaggle/input/emergency_vs_non-emergency_dataset/images/2065.jpg\n",
      "/kaggle/input/emergency_vs_non-emergency_dataset/images/2089.jpg\n",
      "/kaggle/input/emergency_vs_non-emergency_dataset/images/940.jpg\n",
      "/kaggle/input/emergency_vs_non-emergency_dataset/images/1945.jpg\n",
      "/kaggle/input/emergency_vs_non-emergency_dataset/images/2147.jpg\n",
      "/kaggle/input/emergency_vs_non-emergency_dataset/images/1322.jpg\n",
      "/kaggle/input/emergency_vs_non-emergency_dataset/images/1960.jpg\n",
      "/kaggle/input/emergency_vs_non-emergency_dataset/images/1780.jpg\n",
      "/kaggle/input/emergency_vs_non-emergency_dataset/images/1091.jpg\n",
      "/kaggle/input/emergency_vs_non-emergency_dataset/images/698.jpg\n",
      "/kaggle/input/emergency_vs_non-emergency_dataset/images/925.jpg\n",
      "/kaggle/input/emergency_vs_non-emergency_dataset/images/425.jpg\n",
      "/kaggle/input/emergency_vs_non-emergency_dataset/images/591.jpg\n",
      "/kaggle/input/emergency_vs_non-emergency_dataset/images/551.jpg\n",
      "/kaggle/input/emergency_vs_non-emergency_dataset/images/1488.jpg\n",
      "/kaggle/input/emergency_vs_non-emergency_dataset/images/255.jpg\n",
      "/kaggle/input/emergency_vs_non-emergency_dataset/images/380.jpg\n",
      "/kaggle/input/emergency_vs_non-emergency_dataset/images/707.jpg\n",
      "/kaggle/input/emergency_vs_non-emergency_dataset/images/318.jpg\n",
      "/kaggle/input/emergency_vs_non-emergency_dataset/images/808.jpg\n",
      "/kaggle/input/emergency_vs_non-emergency_dataset/images/214.jpg\n",
      "/kaggle/input/emergency_vs_non-emergency_dataset/images/1877.jpg\n",
      "/kaggle/input/emergency_vs_non-emergency_dataset/images/802.jpg\n",
      "/kaggle/input/emergency_vs_non-emergency_dataset/images/746.jpg\n",
      "/kaggle/input/emergency_vs_non-emergency_dataset/images/2234.jpg\n",
      "/kaggle/input/emergency_vs_non-emergency_dataset/images/710.jpg\n",
      "/kaggle/input/emergency_vs_non-emergency_dataset/images/21.jpg\n",
      "/kaggle/input/emergency_vs_non-emergency_dataset/images/1813.jpg\n",
      "/kaggle/input/emergency_vs_non-emergency_dataset/images/1865.jpg\n",
      "/kaggle/input/emergency_vs_non-emergency_dataset/images/640.jpg\n",
      "/kaggle/input/emergency_vs_non-emergency_dataset/images/1393.jpg\n",
      "/kaggle/input/emergency_vs_non-emergency_dataset/images/1950.jpg\n",
      "/kaggle/input/emergency_vs_non-emergency_dataset/images/931.jpg\n",
      "/kaggle/input/emergency_vs_non-emergency_dataset/images/360.jpg\n",
      "/kaggle/input/emergency_vs_non-emergency_dataset/images/1518.jpg\n",
      "/kaggle/input/emergency_vs_non-emergency_dataset/images/1168.jpg\n",
      "/kaggle/input/emergency_vs_non-emergency_dataset/images/1641.jpg\n",
      "/kaggle/input/emergency_vs_non-emergency_dataset/images/1351.jpg\n",
      "/kaggle/input/emergency_vs_non-emergency_dataset/images/1500.jpg\n",
      "/kaggle/input/emergency_vs_non-emergency_dataset/images/500.jpg\n",
      "/kaggle/input/emergency_vs_non-emergency_dataset/images/2342.jpg\n",
      "/kaggle/input/emergency_vs_non-emergency_dataset/images/1020.jpg\n",
      "/kaggle/input/emergency_vs_non-emergency_dataset/images/2059.jpg\n",
      "/kaggle/input/emergency_vs_non-emergency_dataset/images/942.jpg\n",
      "/kaggle/input/emergency_vs_non-emergency_dataset/images/1845.jpg\n",
      "/kaggle/input/emergency_vs_non-emergency_dataset/images/1212.jpg\n",
      "/kaggle/input/emergency_vs_non-emergency_dataset/images/339.jpg\n",
      "/kaggle/input/emergency_vs_non-emergency_dataset/images/1724.jpg\n",
      "/kaggle/input/emergency_vs_non-emergency_dataset/images/872.jpg\n",
      "/kaggle/input/emergency_vs_non-emergency_dataset/images/1459.jpg\n",
      "/kaggle/input/emergency_vs_non-emergency_dataset/images/23.jpg\n",
      "/kaggle/input/emergency_vs_non-emergency_dataset/images/19.jpg\n",
      "/kaggle/input/emergency_vs_non-emergency_dataset/images/1759.jpg\n",
      "/kaggle/input/emergency_vs_non-emergency_dataset/images/2042.jpg\n",
      "/kaggle/input/emergency_vs_non-emergency_dataset/images/1265.jpg\n",
      "/kaggle/input/emergency_vs_non-emergency_dataset/images/909.jpg\n",
      "/kaggle/input/emergency_vs_non-emergency_dataset/images/648.jpg\n",
      "/kaggle/input/emergency_vs_non-emergency_dataset/images/1135.jpg\n",
      "/kaggle/input/emergency_vs_non-emergency_dataset/images/912.jpg\n",
      "/kaggle/input/emergency_vs_non-emergency_dataset/images/1856.jpg\n",
      "/kaggle/input/emergency_vs_non-emergency_dataset/images/1378.jpg\n",
      "/kaggle/input/emergency_vs_non-emergency_dataset/images/1914.jpg\n",
      "/kaggle/input/emergency_vs_non-emergency_dataset/images/2027.jpg\n",
      "/kaggle/input/emergency_vs_non-emergency_dataset/images/2301.jpg\n",
      "/kaggle/input/emergency_vs_non-emergency_dataset/images/1362.jpg\n",
      "/kaggle/input/emergency_vs_non-emergency_dataset/images/440.jpg\n",
      "/kaggle/input/emergency_vs_non-emergency_dataset/images/1526.jpg\n",
      "/kaggle/input/emergency_vs_non-emergency_dataset/images/1538.jpg\n",
      "/kaggle/input/emergency_vs_non-emergency_dataset/images/1889.jpg\n",
      "/kaggle/input/emergency_vs_non-emergency_dataset/images/279.jpg\n",
      "/kaggle/input/emergency_vs_non-emergency_dataset/images/407.jpg\n",
      "/kaggle/input/emergency_vs_non-emergency_dataset/images/1964.jpg\n",
      "/kaggle/input/emergency_vs_non-emergency_dataset/images/1309.jpg\n",
      "/kaggle/input/emergency_vs_non-emergency_dataset/images/352.jpg\n",
      "/kaggle/input/emergency_vs_non-emergency_dataset/images/1281.jpg\n",
      "/kaggle/input/emergency_vs_non-emergency_dataset/images/1720.jpg\n",
      "/kaggle/input/emergency_vs_non-emergency_dataset/images/254.jpg\n",
      "/kaggle/input/emergency_vs_non-emergency_dataset/images/2226.jpg\n",
      "/kaggle/input/emergency_vs_non-emergency_dataset/images/562.jpg\n",
      "/kaggle/input/emergency_vs_non-emergency_dataset/images/2105.jpg\n",
      "/kaggle/input/emergency_vs_non-emergency_dataset/images/77.jpg\n",
      "/kaggle/input/emergency_vs_non-emergency_dataset/images/2243.jpg\n",
      "/kaggle/input/emergency_vs_non-emergency_dataset/images/685.jpg\n",
      "/kaggle/input/emergency_vs_non-emergency_dataset/images/125.jpg\n",
      "/kaggle/input/emergency_vs_non-emergency_dataset/images/587.jpg\n",
      "/kaggle/input/emergency_vs_non-emergency_dataset/images/1162.jpg\n",
      "/kaggle/input/emergency_vs_non-emergency_dataset/images/1715.jpg\n",
      "/kaggle/input/emergency_vs_non-emergency_dataset/images/97.jpg\n",
      "/kaggle/input/emergency_vs_non-emergency_dataset/images/1218.jpg\n",
      "/kaggle/input/emergency_vs_non-emergency_dataset/images/1240.jpg\n",
      "/kaggle/input/emergency_vs_non-emergency_dataset/images/1182.jpg\n",
      "/kaggle/input/emergency_vs_non-emergency_dataset/images/1045.jpg\n",
      "/kaggle/input/emergency_vs_non-emergency_dataset/images/686.jpg\n",
      "/kaggle/input/emergency_vs_non-emergency_dataset/images/990.jpg\n",
      "/kaggle/input/emergency_vs_non-emergency_dataset/images/998.jpg\n",
      "/kaggle/input/emergency_vs_non-emergency_dataset/images/1527.jpg\n",
      "/kaggle/input/emergency_vs_non-emergency_dataset/images/177.jpg\n",
      "/kaggle/input/emergency_vs_non-emergency_dataset/images/1424.jpg\n",
      "/kaggle/input/emergency_vs_non-emergency_dataset/images/1842.jpg\n",
      "/kaggle/input/emergency_vs_non-emergency_dataset/images/1324.jpg\n",
      "/kaggle/input/emergency_vs_non-emergency_dataset/images/1133.jpg\n",
      "/kaggle/input/emergency_vs_non-emergency_dataset/images/765.jpg\n",
      "/kaggle/input/emergency_vs_non-emergency_dataset/images/2090.jpg\n",
      "/kaggle/input/emergency_vs_non-emergency_dataset/images/1144.jpg\n",
      "/kaggle/input/emergency_vs_non-emergency_dataset/images/1745.jpg\n",
      "/kaggle/input/emergency_vs_non-emergency_dataset/images/2293.jpg\n",
      "/kaggle/input/emergency_vs_non-emergency_dataset/images/449.jpg\n",
      "/kaggle/input/emergency_vs_non-emergency_dataset/images/1940.jpg\n",
      "/kaggle/input/emergency_vs_non-emergency_dataset/images/1416.jpg\n",
      "/kaggle/input/emergency_vs_non-emergency_dataset/images/432.jpg\n",
      "/kaggle/input/emergency_vs_non-emergency_dataset/images/2178.jpg\n",
      "/kaggle/input/emergency_vs_non-emergency_dataset/images/1648.jpg\n",
      "/kaggle/input/emergency_vs_non-emergency_dataset/images/2095.jpg\n",
      "/kaggle/input/emergency_vs_non-emergency_dataset/images/1926.jpg\n",
      "/kaggle/input/emergency_vs_non-emergency_dataset/images/495.jpg\n",
      "/kaggle/input/emergency_vs_non-emergency_dataset/images/1310.jpg\n",
      "/kaggle/input/emergency_vs_non-emergency_dataset/images/1754.jpg\n",
      "/kaggle/input/emergency_vs_non-emergency_dataset/images/1477.jpg\n",
      "/kaggle/input/emergency_vs_non-emergency_dataset/images/960.jpg\n",
      "/kaggle/input/emergency_vs_non-emergency_dataset/images/1260.jpg\n",
      "/kaggle/input/emergency_vs_non-emergency_dataset/images/29.jpg\n",
      "/kaggle/input/emergency_vs_non-emergency_dataset/images/1861.jpg\n",
      "/kaggle/input/emergency_vs_non-emergency_dataset/images/1963.jpg\n",
      "/kaggle/input/emergency_vs_non-emergency_dataset/images/820.jpg\n",
      "/kaggle/input/emergency_vs_non-emergency_dataset/images/1438.jpg\n",
      "/kaggle/input/emergency_vs_non-emergency_dataset/images/2311.jpg\n",
      "/kaggle/input/emergency_vs_non-emergency_dataset/images/2341.jpg\n",
      "/kaggle/input/emergency_vs_non-emergency_dataset/images/1954.jpg\n",
      "/kaggle/input/emergency_vs_non-emergency_dataset/images/193.jpg\n",
      "/kaggle/input/emergency_vs_non-emergency_dataset/images/1419.jpg\n",
      "/kaggle/input/emergency_vs_non-emergency_dataset/images/838.jpg\n",
      "/kaggle/input/emergency_vs_non-emergency_dataset/images/336.jpg\n",
      "/kaggle/input/emergency_vs_non-emergency_dataset/images/1123.jpg\n",
      "/kaggle/input/emergency_vs_non-emergency_dataset/images/1193.jpg\n",
      "/kaggle/input/emergency_vs_non-emergency_dataset/images/385.jpg\n",
      "/kaggle/input/emergency_vs_non-emergency_dataset/images/1298.jpg\n"
     ]
    }
   ],
   "source": [
    "# This Python 3 environment comes with many helpful analytics libraries installed\n",
    "# It is defined by the kaggle/python docker image: https://github.com/kaggle/docker-python\n",
    "# For example, here's several helpful packages to load in \n",
    "\n",
    "import numpy as np # linear algebra\n",
    "import pandas as pd # data processing, CSV file I/O (e.g. pd.read_csv)\n",
    "\n",
    "# Input data files are available in the \"../input/\" directory.\n",
    "# For example, running this (by clicking run or pressing Shift+Enter) will list all files under the input directory\n",
    "\n",
    "import os\n",
    "for dirname, _, filenames in os.walk('/kaggle/input'):\n",
    "    for filename in filenames:\n",
    "        print(os.path.join(dirname, filename))\n",
    "\n",
    "# Any results you write to the current directory are saved as output."
   ]
  },
  {
   "cell_type": "markdown",
   "metadata": {},
   "source": [
    "# The aim here is to classify the images of vehicles as emergency or non-emergency."
   ]
  },
  {
   "cell_type": "code",
   "execution_count": 2,
   "metadata": {
    "_cell_guid": "79c7e3d0-c299-4dcb-8224-4455121ee9b0",
    "_uuid": "d629ff2d2480ee46fbb7e2d37f6b5fab8052498a"
   },
   "outputs": [],
   "source": [
    "from tqdm import tqdm # tqdm is a progress bar library with good support for nested loops and jupyter notebooks\n",
    "\n",
    "# for reading and displaying image\n",
    "from skimage.io import imread\n",
    "from skimage.transform import resize\n",
    "import matplotlib.pyplot as plt\n",
    "%matplotlib inline"
   ]
  },
  {
   "cell_type": "code",
   "execution_count": 3,
   "metadata": {},
   "outputs": [],
   "source": [
    "# for creating validation set\n",
    "from sklearn.model_selection import train_test_split\n",
    "\n",
    "# for evaluating the model \n",
    "from sklearn.metrics import accuracy_score\n",
    "\n",
    "# Pytorch libraries and modules \n",
    "import torch\n",
    "from torch.autograd import Variable\n",
    "from torch.nn import Linear, ReLU, CrossEntropyLoss, Sequential, Conv2d, MaxPool2d, Module, Softmax, BatchNorm2d, Dropout\n",
    "from torch.optim import Adam, SGD\n",
    "\n",
    "# torchvision for pre trained models\n",
    "from torchvision import models"
   ]
  },
  {
   "cell_type": "markdown",
   "metadata": {},
   "source": [
    "# Loading Dataset"
   ]
  },
  {
   "cell_type": "code",
   "execution_count": 4,
   "metadata": {},
   "outputs": [
    {
     "data": {
      "text/html": [
       "<div>\n",
       "<style scoped>\n",
       "    .dataframe tbody tr th:only-of-type {\n",
       "        vertical-align: middle;\n",
       "    }\n",
       "\n",
       "    .dataframe tbody tr th {\n",
       "        vertical-align: top;\n",
       "    }\n",
       "\n",
       "    .dataframe thead th {\n",
       "        text-align: right;\n",
       "    }\n",
       "</style>\n",
       "<table border=\"1\" class=\"dataframe\">\n",
       "  <thead>\n",
       "    <tr style=\"text-align: right;\">\n",
       "      <th></th>\n",
       "      <th>image_names</th>\n",
       "      <th>emergency_or_not</th>\n",
       "    </tr>\n",
       "  </thead>\n",
       "  <tbody>\n",
       "    <tr>\n",
       "      <th>0</th>\n",
       "      <td>1503.jpg</td>\n",
       "      <td>0</td>\n",
       "    </tr>\n",
       "    <tr>\n",
       "      <th>1</th>\n",
       "      <td>1420.jpg</td>\n",
       "      <td>0</td>\n",
       "    </tr>\n",
       "    <tr>\n",
       "      <th>2</th>\n",
       "      <td>1764.jpg</td>\n",
       "      <td>0</td>\n",
       "    </tr>\n",
       "    <tr>\n",
       "      <th>3</th>\n",
       "      <td>1356.jpg</td>\n",
       "      <td>0</td>\n",
       "    </tr>\n",
       "    <tr>\n",
       "      <th>4</th>\n",
       "      <td>1117.jpg</td>\n",
       "      <td>0</td>\n",
       "    </tr>\n",
       "  </tbody>\n",
       "</table>\n",
       "</div>"
      ],
      "text/plain": [
       "  image_names  emergency_or_not\n",
       "0    1503.jpg                 0\n",
       "1    1420.jpg                 0\n",
       "2    1764.jpg                 0\n",
       "3    1356.jpg                 0\n",
       "4    1117.jpg                 0"
      ]
     },
     "execution_count": 4,
     "metadata": {},
     "output_type": "execute_result"
    }
   ],
   "source": [
    "# loading dataset\n",
    "\n",
    "train = pd.read_csv(\"/kaggle/input/emergency_vs_non-emergency_dataset/emergency_train.csv\")\n",
    "train.head()"
   ]
  },
  {
   "cell_type": "code",
   "execution_count": 5,
   "metadata": {},
   "outputs": [
    {
     "name": "stderr",
     "output_type": "stream",
     "text": [
      "100%|██████████| 1646/1646 [00:19<00:00, 84.97it/s] \n"
     ]
    },
    {
     "data": {
      "text/plain": [
       "(1646, 224, 224, 3)"
      ]
     },
     "execution_count": 5,
     "metadata": {},
     "output_type": "execute_result"
    }
   ],
   "source": [
    "# loading training images\n",
    "train_img = []\n",
    "for img_name in tqdm(train['image_names']):\n",
    "    #print(img_name)\n",
    "    \n",
    "    # defining the image path\n",
    "    image_path='/kaggle/input/emergency_vs_non-emergency_dataset/images/' + img_name\n",
    "    #print(image_path)\n",
    "    \n",
    "    # reading the image\n",
    "    img = imread(image_path)\n",
    "    #print(img)\n",
    "    \n",
    "    # normalizing the pixel values \n",
    "    img = img/255\n",
    "    #print(img)\n",
    "    \n",
    "    # resizing the image to (224,224,3)\n",
    "    img = resize(img, output_shape=(224,224,3), mode='constant', anti_aliasing=True)\n",
    "    #print(img)\n",
    "    \n",
    "    #coverting the type of pixel to float 32\n",
    "    img = img.astype('float32')\n",
    "    \n",
    "    # appending the image into the list\n",
    "    train_img.append(img)\n",
    "    #print(train_img)\n",
    "    \n",
    "# converting the list to numpy array\n",
    "train_x = np.array(train_img)\n",
    "train_x.shape  "
   ]
  },
  {
   "cell_type": "markdown",
   "metadata": {},
   "source": [
    "# Creating training and validation set"
   ]
  },
  {
   "cell_type": "code",
   "execution_count": 6,
   "metadata": {},
   "outputs": [
    {
     "data": {
      "text/plain": [
       "(((1481, 224, 224, 3), (1481,)), ((165, 224, 224, 3), (165,)))"
      ]
     },
     "execution_count": 6,
     "metadata": {},
     "output_type": "execute_result"
    }
   ],
   "source": [
    "# defining the target\n",
    "train_y = train['emergency_or_not'].values\n",
    "\n",
    "# create validation set\n",
    "train_x, val_x, train_y, val_y = train_test_split(train_x, train_y, test_size = 0.1, random_state = 13, stratify=train_y)\n",
    "(train_x.shape, train_y.shape), (val_x.shape, val_y.shape)"
   ]
  },
  {
   "cell_type": "markdown",
   "metadata": {},
   "source": [
    "# Converting Images To Torch Format"
   ]
  },
  {
   "cell_type": "code",
   "execution_count": 7,
   "metadata": {},
   "outputs": [
    {
     "name": "stdout",
     "output_type": "stream",
     "text": [
      "<class 'torch.Tensor'> torch.Size([1481, 3, 224, 224])\n"
     ]
    }
   ],
   "source": [
    "# converting training images into torch format\n",
    "train_x = train_x.reshape(1481, 3, 224, 224)\n",
    "train_x  = torch.from_numpy(train_x)\n",
    "print(type(train_x), train_x.size())"
   ]
  },
  {
   "cell_type": "code",
   "execution_count": 8,
   "metadata": {},
   "outputs": [],
   "source": [
    "\n",
    "# converting the target into torch format\n",
    "train_y = train_y.astype(int)\n",
    "train_y = torch.from_numpy(train_y)\n",
    "\n",
    "# converting validation images into torch format\n",
    "val_x = val_x.reshape(165, 3, 224, 224)\n",
    "val_x  = torch.from_numpy(val_x)\n",
    "\n",
    "# converting the target into torch format\n",
    "val_y = val_y.astype(int)\n",
    "val_y = torch.from_numpy(val_y)"
   ]
  },
  {
   "cell_type": "markdown",
   "metadata": {},
   "source": [
    "# Defining the model architecture"
   ]
  },
  {
   "cell_type": "code",
   "execution_count": 9,
   "metadata": {},
   "outputs": [],
   "source": [
    "torch.manual_seed(0)\n",
    "\n",
    "class Net(Module):   \n",
    "    def __init__(self):\n",
    "        super(Net, self).__init__()\n",
    "\n",
    "        self.cnn_layers = Sequential(\n",
    "            # Defining a 2D convolution layer\n",
    "            Conv2d(3, 16, kernel_size=3, stride=1, padding=1),\n",
    "            ReLU(inplace=True),\n",
    "            MaxPool2d(kernel_size=2, stride=2),\n",
    "            # Defining another 2D convolution layer\n",
    "            Conv2d(16, 32, kernel_size=3, stride=1, padding=1),\n",
    "            ReLU(inplace=True),\n",
    "            MaxPool2d(kernel_size=2, stride=2)\n",
    "        )\n",
    "\n",
    "        self.linear_layers = Sequential(\n",
    "            Linear(32 * 56 * 56, 2)\n",
    "        )\n",
    "\n",
    "    # Defining the forward pass    \n",
    "    def forward(self, x):\n",
    "        x = self.cnn_layers(x)\n",
    "        x = x.view(x.size(0), -1)\n",
    "        x = self.linear_layers(x)\n",
    "        return x"
   ]
  },
  {
   "cell_type": "markdown",
   "metadata": {},
   "source": [
    "# Defining Model Parameters"
   ]
  },
  {
   "cell_type": "code",
   "execution_count": 10,
   "metadata": {},
   "outputs": [
    {
     "name": "stdout",
     "output_type": "stream",
     "text": [
      "Net(\n",
      "  (cnn_layers): Sequential(\n",
      "    (0): Conv2d(3, 16, kernel_size=(3, 3), stride=(1, 1), padding=(1, 1))\n",
      "    (1): ReLU(inplace=True)\n",
      "    (2): MaxPool2d(kernel_size=2, stride=2, padding=0, dilation=1, ceil_mode=False)\n",
      "    (3): Conv2d(16, 32, kernel_size=(3, 3), stride=(1, 1), padding=(1, 1))\n",
      "    (4): ReLU(inplace=True)\n",
      "    (5): MaxPool2d(kernel_size=2, stride=2, padding=0, dilation=1, ceil_mode=False)\n",
      "  )\n",
      "  (linear_layers): Sequential(\n",
      "    (0): Linear(in_features=100352, out_features=2, bias=True)\n",
      "  )\n",
      ")\n"
     ]
    }
   ],
   "source": [
    "# defining the model\n",
    "model = Net()\n",
    "# defining the optimizer\n",
    "optimizer = Adam(model.parameters(), lr=0.0001)\n",
    "# defining the loss function\n",
    "criterion = CrossEntropyLoss()\n",
    "# checking if GPU is available\n",
    "if torch.cuda.is_available():\n",
    "    model = model.cuda()\n",
    "    criterion = criterion.cuda()\n",
    "\n",
    "print(model)"
   ]
  },
  {
   "cell_type": "markdown",
   "metadata": {},
   "source": [
    "# Training The Model"
   ]
  },
  {
   "cell_type": "code",
   "execution_count": 11,
   "metadata": {},
   "outputs": [
    {
     "name": "stderr",
     "output_type": "stream",
     "text": [
      "100%|██████████| 12/12 [00:01<00:00,  8.81it/s]\n",
      " 17%|█▋        | 2/12 [00:00<00:00, 12.03it/s]"
     ]
    },
    {
     "name": "stdout",
     "output_type": "stream",
     "text": [
      "epoch: \t 1 \t training loss: \t 0.6985050439834595\n"
     ]
    },
    {
     "name": "stderr",
     "output_type": "stream",
     "text": [
      "100%|██████████| 12/12 [00:01<00:00, 11.18it/s]\n",
      " 17%|█▋        | 2/12 [00:00<00:00, 11.96it/s]"
     ]
    },
    {
     "name": "stdout",
     "output_type": "stream",
     "text": [
      "epoch: \t 2 \t training loss: \t 0.6390030135711035\n"
     ]
    },
    {
     "name": "stderr",
     "output_type": "stream",
     "text": [
      "100%|██████████| 12/12 [00:01<00:00, 11.20it/s]\n",
      " 17%|█▋        | 2/12 [00:00<00:00, 12.08it/s]"
     ]
    },
    {
     "name": "stdout",
     "output_type": "stream",
     "text": [
      "epoch: \t 3 \t training loss: \t 0.6229575425386429\n"
     ]
    },
    {
     "name": "stderr",
     "output_type": "stream",
     "text": [
      "100%|██████████| 12/12 [00:01<00:00, 11.19it/s]\n",
      " 17%|█▋        | 2/12 [00:00<00:00, 11.92it/s]"
     ]
    },
    {
     "name": "stdout",
     "output_type": "stream",
     "text": [
      "epoch: \t 4 \t training loss: \t 0.609957774480184\n"
     ]
    },
    {
     "name": "stderr",
     "output_type": "stream",
     "text": [
      "100%|██████████| 12/12 [00:01<00:00, 10.40it/s]\n",
      "  8%|▊         | 1/12 [00:00<00:01,  9.27it/s]"
     ]
    },
    {
     "name": "stdout",
     "output_type": "stream",
     "text": [
      "epoch: \t 5 \t training loss: \t 0.6009653856356939\n"
     ]
    },
    {
     "name": "stderr",
     "output_type": "stream",
     "text": [
      "100%|██████████| 12/12 [00:01<00:00, 10.67it/s]\n",
      " 17%|█▋        | 2/12 [00:00<00:00, 11.50it/s]"
     ]
    },
    {
     "name": "stdout",
     "output_type": "stream",
     "text": [
      "epoch: \t 6 \t training loss: \t 0.5775208324193954\n"
     ]
    },
    {
     "name": "stderr",
     "output_type": "stream",
     "text": [
      "100%|██████████| 12/12 [00:01<00:00, 11.02it/s]\n",
      " 17%|█▋        | 2/12 [00:00<00:00, 10.44it/s]"
     ]
    },
    {
     "name": "stdout",
     "output_type": "stream",
     "text": [
      "epoch: \t 7 \t training loss: \t 0.5705649157365164\n"
     ]
    },
    {
     "name": "stderr",
     "output_type": "stream",
     "text": [
      "100%|██████████| 12/12 [00:01<00:00, 10.82it/s]\n",
      " 17%|█▋        | 2/12 [00:00<00:00, 11.42it/s]"
     ]
    },
    {
     "name": "stdout",
     "output_type": "stream",
     "text": [
      "epoch: \t 8 \t training loss: \t 0.5538681149482727\n"
     ]
    },
    {
     "name": "stderr",
     "output_type": "stream",
     "text": [
      "100%|██████████| 12/12 [00:01<00:00, 11.04it/s]\n",
      " 17%|█▋        | 2/12 [00:00<00:00, 11.74it/s]"
     ]
    },
    {
     "name": "stdout",
     "output_type": "stream",
     "text": [
      "epoch: \t 9 \t training loss: \t 0.5421985015273094\n"
     ]
    },
    {
     "name": "stderr",
     "output_type": "stream",
     "text": [
      "100%|██████████| 12/12 [00:01<00:00, 11.11it/s]\n",
      " 17%|█▋        | 2/12 [00:00<00:00, 11.71it/s]"
     ]
    },
    {
     "name": "stdout",
     "output_type": "stream",
     "text": [
      "epoch: \t 10 \t training loss: \t 0.522182896733284\n"
     ]
    },
    {
     "name": "stderr",
     "output_type": "stream",
     "text": [
      "100%|██████████| 12/12 [00:01<00:00, 11.12it/s]\n",
      " 17%|█▋        | 2/12 [00:00<00:00, 11.93it/s]"
     ]
    },
    {
     "name": "stdout",
     "output_type": "stream",
     "text": [
      "epoch: \t 11 \t training loss: \t 0.5216952413320541\n"
     ]
    },
    {
     "name": "stderr",
     "output_type": "stream",
     "text": [
      "100%|██████████| 12/12 [00:01<00:00, 11.13it/s]\n",
      " 17%|█▋        | 2/12 [00:00<00:00, 11.94it/s]"
     ]
    },
    {
     "name": "stdout",
     "output_type": "stream",
     "text": [
      "epoch: \t 12 \t training loss: \t 0.5211991916100184\n"
     ]
    },
    {
     "name": "stderr",
     "output_type": "stream",
     "text": [
      "100%|██████████| 12/12 [00:01<00:00, 11.13it/s]\n",
      " 17%|█▋        | 2/12 [00:00<00:00, 11.97it/s]"
     ]
    },
    {
     "name": "stdout",
     "output_type": "stream",
     "text": [
      "epoch: \t 13 \t training loss: \t 0.5013106167316437\n"
     ]
    },
    {
     "name": "stderr",
     "output_type": "stream",
     "text": [
      "100%|██████████| 12/12 [00:01<00:00, 11.15it/s]\n",
      " 17%|█▋        | 2/12 [00:00<00:00, 12.02it/s]"
     ]
    },
    {
     "name": "stdout",
     "output_type": "stream",
     "text": [
      "epoch: \t 14 \t training loss: \t 0.4775925725698471\n"
     ]
    },
    {
     "name": "stderr",
     "output_type": "stream",
     "text": [
      "100%|██████████| 12/12 [00:01<00:00, 11.19it/s]\n",
      " 17%|█▋        | 2/12 [00:00<00:00, 11.98it/s]"
     ]
    },
    {
     "name": "stdout",
     "output_type": "stream",
     "text": [
      "epoch: \t 15 \t training loss: \t 0.47469308227300644\n"
     ]
    },
    {
     "name": "stderr",
     "output_type": "stream",
     "text": [
      "100%|██████████| 12/12 [00:01<00:00, 11.17it/s]\n",
      " 17%|█▋        | 2/12 [00:00<00:00, 11.79it/s]"
     ]
    },
    {
     "name": "stdout",
     "output_type": "stream",
     "text": [
      "epoch: \t 16 \t training loss: \t 0.4785170604785283\n"
     ]
    },
    {
     "name": "stderr",
     "output_type": "stream",
     "text": [
      "100%|██████████| 12/12 [00:01<00:00, 11.17it/s]\n",
      " 17%|█▋        | 2/12 [00:00<00:00, 11.97it/s]"
     ]
    },
    {
     "name": "stdout",
     "output_type": "stream",
     "text": [
      "epoch: \t 17 \t training loss: \t 0.4472174122929573\n"
     ]
    },
    {
     "name": "stderr",
     "output_type": "stream",
     "text": [
      "100%|██████████| 12/12 [00:01<00:00, 11.14it/s]\n",
      " 17%|█▋        | 2/12 [00:00<00:00, 11.94it/s]"
     ]
    },
    {
     "name": "stdout",
     "output_type": "stream",
     "text": [
      "epoch: \t 18 \t training loss: \t 0.4394783327976863\n"
     ]
    },
    {
     "name": "stderr",
     "output_type": "stream",
     "text": [
      "100%|██████████| 12/12 [00:01<00:00, 11.16it/s]\n",
      " 17%|█▋        | 2/12 [00:00<00:00, 11.79it/s]"
     ]
    },
    {
     "name": "stdout",
     "output_type": "stream",
     "text": [
      "epoch: \t 19 \t training loss: \t 0.4284149780869484\n"
     ]
    },
    {
     "name": "stderr",
     "output_type": "stream",
     "text": [
      "100%|██████████| 12/12 [00:01<00:00, 11.17it/s]\n",
      " 17%|█▋        | 2/12 [00:00<00:00, 12.03it/s]"
     ]
    },
    {
     "name": "stdout",
     "output_type": "stream",
     "text": [
      "epoch: \t 20 \t training loss: \t 0.4280242746074994\n"
     ]
    },
    {
     "name": "stderr",
     "output_type": "stream",
     "text": [
      "100%|██████████| 12/12 [00:01<00:00, 11.17it/s]\n",
      " 17%|█▋        | 2/12 [00:00<00:00, 12.01it/s]"
     ]
    },
    {
     "name": "stdout",
     "output_type": "stream",
     "text": [
      "epoch: \t 21 \t training loss: \t 0.408942349255085\n"
     ]
    },
    {
     "name": "stderr",
     "output_type": "stream",
     "text": [
      "100%|██████████| 12/12 [00:01<00:00, 11.14it/s]\n",
      " 17%|█▋        | 2/12 [00:00<00:00, 11.97it/s]"
     ]
    },
    {
     "name": "stdout",
     "output_type": "stream",
     "text": [
      "epoch: \t 22 \t training loss: \t 0.40158750861883163\n"
     ]
    },
    {
     "name": "stderr",
     "output_type": "stream",
     "text": [
      "100%|██████████| 12/12 [00:01<00:00, 11.15it/s]\n",
      " 17%|█▋        | 2/12 [00:00<00:00, 11.57it/s]"
     ]
    },
    {
     "name": "stdout",
     "output_type": "stream",
     "text": [
      "epoch: \t 23 \t training loss: \t 0.39099737008412677\n"
     ]
    },
    {
     "name": "stderr",
     "output_type": "stream",
     "text": [
      "100%|██████████| 12/12 [00:01<00:00, 11.09it/s]\n",
      " 17%|█▋        | 2/12 [00:00<00:00, 11.81it/s]"
     ]
    },
    {
     "name": "stdout",
     "output_type": "stream",
     "text": [
      "epoch: \t 24 \t training loss: \t 0.3820014223456383\n"
     ]
    },
    {
     "name": "stderr",
     "output_type": "stream",
     "text": [
      "100%|██████████| 12/12 [00:01<00:00, 11.13it/s]"
     ]
    },
    {
     "name": "stdout",
     "output_type": "stream",
     "text": [
      "epoch: \t 25 \t training loss: \t 0.3851035311818123\n"
     ]
    },
    {
     "name": "stderr",
     "output_type": "stream",
     "text": [
      "\n"
     ]
    }
   ],
   "source": [
    "torch.manual_seed(0)\n",
    "\n",
    "# batch size of the model\n",
    "batch_size = 128\n",
    "\n",
    "# number of epochs to train the model\n",
    "n_epochs = 25\n",
    "\n",
    "for epoch in range(1, n_epochs+1):\n",
    "\n",
    "    # keep track of training and validation loss\n",
    "    train_loss = 0.0\n",
    "        \n",
    "    permutation = torch.randperm(train_x.size()[0])\n",
    "\n",
    "    training_loss = []\n",
    "    for i in tqdm(range(0,train_x.size()[0], batch_size)):\n",
    "\n",
    "        indices = permutation[i:i+batch_size]\n",
    "        batch_x, batch_y = train_x[indices], train_y[indices]\n",
    "        \n",
    "        if torch.cuda.is_available():\n",
    "            batch_x, batch_y = batch_x.cuda(), batch_y.cuda()\n",
    "        \n",
    "        optimizer.zero_grad()\n",
    "        # in case you wanted a semi-full example\n",
    "        outputs = model(batch_x)\n",
    "        loss = criterion(outputs,batch_y)\n",
    "\n",
    "        training_loss.append(loss.item())\n",
    "        loss.backward()\n",
    "        optimizer.step()\n",
    "        \n",
    "    training_loss = np.average(training_loss)\n",
    "    print('epoch: \\t', epoch, '\\t training loss: \\t', training_loss)"
   ]
  },
  {
   "cell_type": "markdown",
   "metadata": {},
   "source": [
    "# Prediction on the training set "
   ]
  },
  {
   "cell_type": "code",
   "execution_count": 12,
   "metadata": {},
   "outputs": [
    {
     "name": "stderr",
     "output_type": "stream",
     "text": [
      " 17%|█▋        | 2/12 [00:00<00:00, 12.85it/s]"
     ]
    },
    {
     "name": "stdout",
     "output_type": "stream",
     "text": [
      ">>>>>>>>>> <class 'numpy.ndarray'> <class 'torch.Tensor'>\n",
      ">>>> <class 'numpy.ndarray'> <class 'numpy.ndarray'>\n",
      ">>>>>>>>>> <class 'numpy.ndarray'> <class 'torch.Tensor'>\n",
      ">>>> <class 'numpy.ndarray'> <class 'numpy.ndarray'>\n",
      ">>>>>>>>>> <class 'numpy.ndarray'> <class 'torch.Tensor'>\n",
      ">>>> <class 'numpy.ndarray'> <class 'numpy.ndarray'>\n"
     ]
    },
    {
     "name": "stderr",
     "output_type": "stream",
     "text": [
      " 50%|█████     | 6/12 [00:00<00:00, 12.88it/s]"
     ]
    },
    {
     "name": "stdout",
     "output_type": "stream",
     "text": [
      ">>>>>>>>>> <class 'numpy.ndarray'> <class 'torch.Tensor'>\n",
      ">>>> <class 'numpy.ndarray'> <class 'numpy.ndarray'>\n",
      ">>>>>>>>>> <class 'numpy.ndarray'> <class 'torch.Tensor'>\n",
      ">>>> <class 'numpy.ndarray'> <class 'numpy.ndarray'>\n",
      ">>>>>>>>>> <class 'numpy.ndarray'> <class 'torch.Tensor'>\n",
      ">>>> <class 'numpy.ndarray'> <class 'numpy.ndarray'>\n"
     ]
    },
    {
     "name": "stderr",
     "output_type": "stream",
     "text": [
      " 67%|██████▋   | 8/12 [00:00<00:00, 12.97it/s]"
     ]
    },
    {
     "name": "stdout",
     "output_type": "stream",
     "text": [
      ">>>>>>>>>> <class 'numpy.ndarray'> <class 'torch.Tensor'>\n",
      ">>>> <class 'numpy.ndarray'> <class 'numpy.ndarray'>\n",
      ">>>>>>>>>> <class 'numpy.ndarray'> <class 'torch.Tensor'>\n",
      ">>>> <class 'numpy.ndarray'> <class 'numpy.ndarray'>\n",
      ">>>>>>>>>> <class 'numpy.ndarray'> <class 'torch.Tensor'>\n",
      ">>>> <class 'numpy.ndarray'> <class 'numpy.ndarray'>\n"
     ]
    },
    {
     "name": "stderr",
     "output_type": "stream",
     "text": [
      "100%|██████████| 12/12 [00:00<00:00, 13.40it/s]"
     ]
    },
    {
     "name": "stdout",
     "output_type": "stream",
     "text": [
      ">>>>>>>>>> <class 'numpy.ndarray'> <class 'torch.Tensor'>\n",
      ">>>> <class 'numpy.ndarray'> <class 'numpy.ndarray'>\n",
      ">>>>>>>>>> <class 'numpy.ndarray'> <class 'torch.Tensor'>\n",
      ">>>> <class 'numpy.ndarray'> <class 'numpy.ndarray'>\n",
      ">>>>>>>>>> <class 'numpy.ndarray'> <class 'torch.Tensor'>\n",
      ">>>> <class 'numpy.ndarray'> <class 'numpy.ndarray'>\n",
      "training accuracy: \t 0.8780768407534246\n"
     ]
    },
    {
     "name": "stderr",
     "output_type": "stream",
     "text": [
      "\n"
     ]
    }
   ],
   "source": [
    "# prediction for training set\n",
    "prediction = []\n",
    "target = []\n",
    "permutation = torch.randperm(train_x.size()[0])\n",
    "for i in tqdm(range(0,train_x.size()[0], batch_size)):\n",
    "    indices = permutation[i:i+batch_size]\n",
    "    batch_x, batch_y = train_x[indices], train_y[indices]\n",
    "\n",
    "    if torch.cuda.is_available():\n",
    "        batch_x, batch_y = batch_x.cuda(), batch_y.cuda()\n",
    "\n",
    "    with torch.no_grad():\n",
    "        output = model(batch_x.cuda())\n",
    "\n",
    "    softmax = torch.exp(output).cpu()\n",
    "    prob = list(softmax.numpy())\n",
    "    predictions = np.argmax(prob, axis=1)\n",
    "    prediction.append(predictions)\n",
    "    print(\">>>>>>>>>>\", type(predictions), type(batch_y))\n",
    "    batch_y = batch_y.cpu().numpy()\n",
    "    print(\">>>>\", type(predictions), type(batch_y))\n",
    "    target.append(batch_y)\n",
    "    \n",
    "# training accuracy\n",
    "accuracy = []\n",
    "for i in range(len(prediction)):\n",
    "    accuracy.append(accuracy_score(target[i],prediction[i]))\n",
    "    \n",
    "print('training accuracy: \\t', np.average(accuracy))"
   ]
  },
  {
   "cell_type": "markdown",
   "metadata": {},
   "source": [
    "# Prediction on the validation set"
   ]
  },
  {
   "cell_type": "code",
   "execution_count": 13,
   "metadata": {},
   "outputs": [
    {
     "name": "stderr",
     "output_type": "stream",
     "text": [
      "100%|██████████| 2/2 [00:00<00:00, 20.46it/s]"
     ]
    },
    {
     "name": "stdout",
     "output_type": "stream",
     "text": [
      "validation accuracy: \t 0.6972128378378378\n"
     ]
    },
    {
     "name": "stderr",
     "output_type": "stream",
     "text": [
      "\n"
     ]
    }
   ],
   "source": [
    "# prediction for validation set\n",
    "prediction_val = []\n",
    "target_val = []\n",
    "permutation = torch.randperm(val_x.size()[0])\n",
    "for i in tqdm(range(0,val_x.size()[0], batch_size)):\n",
    "    indices = permutation[i:i+batch_size]\n",
    "    batch_x, batch_y = val_x[indices], val_y[indices]\n",
    "\n",
    "    if torch.cuda.is_available():\n",
    "        batch_x, batch_y = batch_x.cuda(), batch_y.cuda()\n",
    "\n",
    "    with torch.no_grad():\n",
    "        output = model(batch_x.cuda())\n",
    "\n",
    "    softmax = torch.exp(output).cpu()\n",
    "    prob = list(softmax.numpy())\n",
    "    predictions = np.argmax(prob, axis=1)\n",
    "    prediction_val.append(predictions)\n",
    "    batch_y=batch_y.cpu().numpy()\n",
    "    target_val.append(batch_y)\n",
    "    \n",
    "# validation accuracy\n",
    "accuracy_val = []\n",
    "for i in range(len(prediction_val)):\n",
    "    accuracy_val.append(accuracy_score(target_val[i],prediction_val[i]))\n",
    "    \n",
    "print('validation accuracy: \\t', np.average(accuracy_val))"
   ]
  },
  {
   "cell_type": "markdown",
   "metadata": {},
   "source": [
    "# Improving our model\n",
    "\n",
    "# 1. Paucity of Data Available for Training our Model\n",
    "\n",
    "### Data augmentation is the process of generating new data or increasing the data for training the model without actually collecting new data.\n",
    "\n",
    "# 2. Model Overfitting \n",
    "\n",
    "### A model is said to overfit when it performs really well on the training set but the performance drops on the validation set (or unseen data).\n",
    "\n",
    "# Now lets add a dropout layer to our architecture and check its performance."
   ]
  },
  {
   "cell_type": "markdown",
   "metadata": {},
   "source": [
    "# Model Architecture"
   ]
  },
  {
   "cell_type": "code",
   "execution_count": 14,
   "metadata": {},
   "outputs": [],
   "source": [
    "torch.manual_seed(0)\n",
    "\n",
    "class Net(Module):   \n",
    "    def __init__(self):\n",
    "        super(Net, self).__init__()\n",
    "\n",
    "        self.cnn_layers = Sequential(\n",
    "            # Defining a 2D convolution layer\n",
    "            Conv2d(3, 16, kernel_size=3, stride=1, padding=1),\n",
    "            ReLU(inplace=True),\n",
    "            MaxPool2d(kernel_size=2, stride=2),\n",
    "            # dropout layer\n",
    "            Dropout(),\n",
    "            # Defining another 2D convolution layer\n",
    "            Conv2d(16, 32, kernel_size=3, stride=1, padding=1),\n",
    "            ReLU(inplace=True),\n",
    "            MaxPool2d(kernel_size=2, stride=2),\n",
    "            # dropout layer\n",
    "            Dropout(),\n",
    "        )\n",
    "\n",
    "        self.linear_layers = Sequential(\n",
    "            Linear(32 * 56 * 56, 2)\n",
    "        )\n",
    "\n",
    "    # Defining the forward pass    \n",
    "    def forward(self, x):\n",
    "        x = self.cnn_layers(x)\n",
    "        x = x.view(x.size(0), -1)\n",
    "        x = self.linear_layers(x)\n",
    "        return x\n"
   ]
  },
  {
   "cell_type": "markdown",
   "metadata": {},
   "source": [
    "# Model Parameters"
   ]
  },
  {
   "cell_type": "code",
   "execution_count": 15,
   "metadata": {},
   "outputs": [
    {
     "name": "stdout",
     "output_type": "stream",
     "text": [
      "Net(\n",
      "  (cnn_layers): Sequential(\n",
      "    (0): Conv2d(3, 16, kernel_size=(3, 3), stride=(1, 1), padding=(1, 1))\n",
      "    (1): ReLU(inplace=True)\n",
      "    (2): MaxPool2d(kernel_size=2, stride=2, padding=0, dilation=1, ceil_mode=False)\n",
      "    (3): Dropout(p=0.5, inplace=False)\n",
      "    (4): Conv2d(16, 32, kernel_size=(3, 3), stride=(1, 1), padding=(1, 1))\n",
      "    (5): ReLU(inplace=True)\n",
      "    (6): MaxPool2d(kernel_size=2, stride=2, padding=0, dilation=1, ceil_mode=False)\n",
      "    (7): Dropout(p=0.5, inplace=False)\n",
      "  )\n",
      "  (linear_layers): Sequential(\n",
      "    (0): Linear(in_features=100352, out_features=2, bias=True)\n",
      "  )\n",
      ")\n"
     ]
    }
   ],
   "source": [
    "# defining the model\n",
    "model = Net()\n",
    "# defining the optimizer\n",
    "optimizer = Adam(model.parameters(), lr=0.0001)\n",
    "# defining the loss function\n",
    "criterion = CrossEntropyLoss()\n",
    "# checking if GPU is available\n",
    "if torch.cuda.is_available():\n",
    "    model = model.cuda()\n",
    "    criterion = criterion.cuda()\n",
    "\n",
    "print(model)"
   ]
  },
  {
   "cell_type": "markdown",
   "metadata": {},
   "source": [
    "# Training the Model"
   ]
  },
  {
   "cell_type": "code",
   "execution_count": 16,
   "metadata": {},
   "outputs": [
    {
     "name": "stderr",
     "output_type": "stream",
     "text": [
      "100%|██████████| 12/12 [00:01<00:00, 10.95it/s]\n",
      " 17%|█▋        | 2/12 [00:00<00:00, 11.61it/s]"
     ]
    },
    {
     "name": "stdout",
     "output_type": "stream",
     "text": [
      "epoch: \t 1 \t training loss: \t 0.7837458252906799\n"
     ]
    },
    {
     "name": "stderr",
     "output_type": "stream",
     "text": [
      "100%|██████████| 12/12 [00:01<00:00, 11.00it/s]\n",
      " 17%|█▋        | 2/12 [00:00<00:00, 11.57it/s]"
     ]
    },
    {
     "name": "stdout",
     "output_type": "stream",
     "text": [
      "epoch: \t 2 \t training loss: \t 0.6634471565485001\n"
     ]
    },
    {
     "name": "stderr",
     "output_type": "stream",
     "text": [
      "100%|██████████| 12/12 [00:01<00:00, 10.99it/s]\n",
      " 17%|█▋        | 2/12 [00:00<00:00, 11.52it/s]"
     ]
    },
    {
     "name": "stdout",
     "output_type": "stream",
     "text": [
      "epoch: \t 3 \t training loss: \t 0.6442973812421163\n"
     ]
    },
    {
     "name": "stderr",
     "output_type": "stream",
     "text": [
      "100%|██████████| 12/12 [00:01<00:00, 10.97it/s]\n",
      " 17%|█▋        | 2/12 [00:00<00:00, 11.75it/s]"
     ]
    },
    {
     "name": "stdout",
     "output_type": "stream",
     "text": [
      "epoch: \t 4 \t training loss: \t 0.6514359017213186\n"
     ]
    },
    {
     "name": "stderr",
     "output_type": "stream",
     "text": [
      "100%|██████████| 12/12 [00:01<00:00, 10.99it/s]\n",
      " 17%|█▋        | 2/12 [00:00<00:00, 11.78it/s]"
     ]
    },
    {
     "name": "stdout",
     "output_type": "stream",
     "text": [
      "epoch: \t 5 \t training loss: \t 0.6462287157773972\n"
     ]
    },
    {
     "name": "stderr",
     "output_type": "stream",
     "text": [
      "100%|██████████| 12/12 [00:01<00:00, 10.95it/s]\n",
      " 17%|█▋        | 2/12 [00:00<00:00, 11.84it/s]"
     ]
    },
    {
     "name": "stdout",
     "output_type": "stream",
     "text": [
      "epoch: \t 6 \t training loss: \t 0.6228716224431992\n"
     ]
    },
    {
     "name": "stderr",
     "output_type": "stream",
     "text": [
      "100%|██████████| 12/12 [00:01<00:00, 10.96it/s]\n",
      " 17%|█▋        | 2/12 [00:00<00:00, 11.78it/s]"
     ]
    },
    {
     "name": "stdout",
     "output_type": "stream",
     "text": [
      "epoch: \t 7 \t training loss: \t 0.6286740601062775\n"
     ]
    },
    {
     "name": "stderr",
     "output_type": "stream",
     "text": [
      "100%|██████████| 12/12 [00:01<00:00, 11.04it/s]\n",
      " 17%|█▋        | 2/12 [00:00<00:00, 11.71it/s]"
     ]
    },
    {
     "name": "stdout",
     "output_type": "stream",
     "text": [
      "epoch: \t 8 \t training loss: \t 0.6264681667089462\n"
     ]
    },
    {
     "name": "stderr",
     "output_type": "stream",
     "text": [
      "100%|██████████| 12/12 [00:01<00:00, 11.02it/s]\n",
      " 17%|█▋        | 2/12 [00:00<00:00, 11.91it/s]"
     ]
    },
    {
     "name": "stdout",
     "output_type": "stream",
     "text": [
      "epoch: \t 9 \t training loss: \t 0.6220167676607767\n"
     ]
    },
    {
     "name": "stderr",
     "output_type": "stream",
     "text": [
      "100%|██████████| 12/12 [00:01<00:00, 11.03it/s]\n",
      " 17%|█▋        | 2/12 [00:00<00:00, 11.39it/s]"
     ]
    },
    {
     "name": "stdout",
     "output_type": "stream",
     "text": [
      "epoch: \t 10 \t training loss: \t 0.6060975044965744\n"
     ]
    },
    {
     "name": "stderr",
     "output_type": "stream",
     "text": [
      "100%|██████████| 12/12 [00:01<00:00, 10.98it/s]\n",
      " 17%|█▋        | 2/12 [00:00<00:00, 11.90it/s]"
     ]
    },
    {
     "name": "stdout",
     "output_type": "stream",
     "text": [
      "epoch: \t 11 \t training loss: \t 0.6154179324706396\n"
     ]
    },
    {
     "name": "stderr",
     "output_type": "stream",
     "text": [
      "100%|██████████| 12/12 [00:01<00:00, 11.00it/s]\n",
      " 17%|█▋        | 2/12 [00:00<00:00, 11.83it/s]"
     ]
    },
    {
     "name": "stdout",
     "output_type": "stream",
     "text": [
      "epoch: \t 12 \t training loss: \t 0.618380218744278\n"
     ]
    },
    {
     "name": "stderr",
     "output_type": "stream",
     "text": [
      "100%|██████████| 12/12 [00:01<00:00, 10.94it/s]\n",
      " 17%|█▋        | 2/12 [00:00<00:00, 11.72it/s]"
     ]
    },
    {
     "name": "stdout",
     "output_type": "stream",
     "text": [
      "epoch: \t 13 \t training loss: \t 0.6011286278565725\n"
     ]
    },
    {
     "name": "stderr",
     "output_type": "stream",
     "text": [
      "100%|██████████| 12/12 [00:01<00:00, 10.94it/s]\n",
      " 17%|█▋        | 2/12 [00:00<00:00, 11.65it/s]"
     ]
    },
    {
     "name": "stdout",
     "output_type": "stream",
     "text": [
      "epoch: \t 14 \t training loss: \t 0.6021989484628042\n"
     ]
    },
    {
     "name": "stderr",
     "output_type": "stream",
     "text": [
      "100%|██████████| 12/12 [00:01<00:00, 10.99it/s]\n",
      " 17%|█▋        | 2/12 [00:00<00:00, 11.87it/s]"
     ]
    },
    {
     "name": "stdout",
     "output_type": "stream",
     "text": [
      "epoch: \t 15 \t training loss: \t 0.6268146634101868\n"
     ]
    },
    {
     "name": "stderr",
     "output_type": "stream",
     "text": [
      "100%|██████████| 12/12 [00:01<00:00, 11.02it/s]\n",
      " 17%|█▋        | 2/12 [00:00<00:00, 11.86it/s]"
     ]
    },
    {
     "name": "stdout",
     "output_type": "stream",
     "text": [
      "epoch: \t 16 \t training loss: \t 0.6254033694664637\n"
     ]
    },
    {
     "name": "stderr",
     "output_type": "stream",
     "text": [
      "100%|██████████| 12/12 [00:01<00:00, 10.94it/s]\n",
      " 17%|█▋        | 2/12 [00:00<00:00, 11.68it/s]"
     ]
    },
    {
     "name": "stdout",
     "output_type": "stream",
     "text": [
      "epoch: \t 17 \t training loss: \t 0.5919034580389658\n"
     ]
    },
    {
     "name": "stderr",
     "output_type": "stream",
     "text": [
      "100%|██████████| 12/12 [00:01<00:00, 10.99it/s]\n",
      " 17%|█▋        | 2/12 [00:00<00:00, 11.70it/s]"
     ]
    },
    {
     "name": "stdout",
     "output_type": "stream",
     "text": [
      "epoch: \t 18 \t training loss: \t 0.5910668273766836\n"
     ]
    },
    {
     "name": "stderr",
     "output_type": "stream",
     "text": [
      "100%|██████████| 12/12 [00:01<00:00, 10.95it/s]\n",
      " 17%|█▋        | 2/12 [00:00<00:00, 11.57it/s]"
     ]
    },
    {
     "name": "stdout",
     "output_type": "stream",
     "text": [
      "epoch: \t 19 \t training loss: \t 0.57656862338384\n"
     ]
    },
    {
     "name": "stderr",
     "output_type": "stream",
     "text": [
      "100%|██████████| 12/12 [00:01<00:00, 10.90it/s]\n",
      " 17%|█▋        | 2/12 [00:00<00:00, 11.66it/s]"
     ]
    },
    {
     "name": "stdout",
     "output_type": "stream",
     "text": [
      "epoch: \t 20 \t training loss: \t 0.5816658536593119\n"
     ]
    },
    {
     "name": "stderr",
     "output_type": "stream",
     "text": [
      "100%|██████████| 12/12 [00:01<00:00, 10.97it/s]\n",
      " 17%|█▋        | 2/12 [00:00<00:00, 11.84it/s]"
     ]
    },
    {
     "name": "stdout",
     "output_type": "stream",
     "text": [
      "epoch: \t 21 \t training loss: \t 0.5643430153528849\n"
     ]
    },
    {
     "name": "stderr",
     "output_type": "stream",
     "text": [
      "100%|██████████| 12/12 [00:01<00:00, 11.09it/s]\n",
      " 17%|█▋        | 2/12 [00:00<00:00, 11.78it/s]"
     ]
    },
    {
     "name": "stdout",
     "output_type": "stream",
     "text": [
      "epoch: \t 22 \t training loss: \t 0.5591869552930196\n"
     ]
    },
    {
     "name": "stderr",
     "output_type": "stream",
     "text": [
      "100%|██████████| 12/12 [00:01<00:00, 10.94it/s]\n",
      " 17%|█▋        | 2/12 [00:00<00:00, 11.03it/s]"
     ]
    },
    {
     "name": "stdout",
     "output_type": "stream",
     "text": [
      "epoch: \t 23 \t training loss: \t 0.5506446212530136\n"
     ]
    },
    {
     "name": "stderr",
     "output_type": "stream",
     "text": [
      "100%|██████████| 12/12 [00:01<00:00, 10.90it/s]\n",
      " 17%|█▋        | 2/12 [00:00<00:00, 11.40it/s]"
     ]
    },
    {
     "name": "stdout",
     "output_type": "stream",
     "text": [
      "epoch: \t 24 \t training loss: \t 0.5441155781348547\n"
     ]
    },
    {
     "name": "stderr",
     "output_type": "stream",
     "text": [
      "100%|██████████| 12/12 [00:01<00:00, 10.95it/s]"
     ]
    },
    {
     "name": "stdout",
     "output_type": "stream",
     "text": [
      "epoch: \t 25 \t training loss: \t 0.5515835906068484\n"
     ]
    },
    {
     "name": "stderr",
     "output_type": "stream",
     "text": [
      "\n"
     ]
    }
   ],
   "source": [
    "torch.manual_seed(0)\n",
    "\n",
    "# batch size of the model\n",
    "batch_size = 128\n",
    "\n",
    "# number of epochs to train the model\n",
    "n_epochs = 25\n",
    "\n",
    "for epoch in range(1, n_epochs+1):\n",
    "\n",
    "    # keep track of training and validation loss\n",
    "    train_loss = 0.0\n",
    "        \n",
    "    permutation = torch.randperm(train_x.size()[0])\n",
    "\n",
    "    training_loss = []\n",
    "    for i in tqdm(range(0,train_x.size()[0], batch_size)):\n",
    "\n",
    "        indices = permutation[i:i+batch_size]\n",
    "        batch_x, batch_y = train_x[indices], train_y[indices]\n",
    "        \n",
    "        if torch.cuda.is_available():\n",
    "            batch_x, batch_y = batch_x.cuda(), batch_y.cuda()\n",
    "        \n",
    "        optimizer.zero_grad()\n",
    "        # in case you wanted a semi-full example\n",
    "        outputs = model(batch_x)\n",
    "        loss = criterion(outputs,batch_y)\n",
    "\n",
    "        training_loss.append(loss.item())\n",
    "        loss.backward()\n",
    "        optimizer.step()\n",
    "        \n",
    "    training_loss = np.average(training_loss)\n",
    "    print('epoch: \\t', epoch, '\\t training loss: \\t', training_loss)"
   ]
  },
  {
   "cell_type": "markdown",
   "metadata": {},
   "source": [
    "# Checking Model Performance"
   ]
  },
  {
   "cell_type": "code",
   "execution_count": 17,
   "metadata": {},
   "outputs": [
    {
     "name": "stderr",
     "output_type": "stream",
     "text": [
      "100%|██████████| 12/12 [00:00<00:00, 13.25it/s]"
     ]
    },
    {
     "name": "stdout",
     "output_type": "stream",
     "text": [
      "training accuracy: \t 0.7447559931506849\n"
     ]
    },
    {
     "name": "stderr",
     "output_type": "stream",
     "text": [
      "\n"
     ]
    }
   ],
   "source": [
    "# prediction for training set\n",
    "prediction = []\n",
    "target = []\n",
    "permutation = torch.randperm(train_x.size()[0])\n",
    "for i in tqdm(range(0,train_x.size()[0], batch_size)):\n",
    "    indices = permutation[i:i+batch_size]\n",
    "    batch_x, batch_y = train_x[indices], train_y[indices]\n",
    "\n",
    "    if torch.cuda.is_available():\n",
    "        batch_x, batch_y = batch_x.cuda(), batch_y.cuda()\n",
    "\n",
    "    with torch.no_grad():\n",
    "        output = model(batch_x.cuda())\n",
    "\n",
    "    softmax = torch.exp(output).cpu()\n",
    "    prob = list(softmax.numpy())\n",
    "    predictions = np.argmax(prob, axis=1)\n",
    "    prediction.append(predictions)\n",
    "    batch_y=batch_y.cpu().numpy()\n",
    "    target.append(batch_y)\n",
    "    \n",
    "# training accuracy\n",
    "accuracy = []\n",
    "for i in range(len(prediction)):\n",
    "    accuracy.append(accuracy_score(target[i],prediction[i]))\n",
    "    \n",
    "print('training accuracy: \\t', np.average(accuracy))"
   ]
  },
  {
   "cell_type": "markdown",
   "metadata": {},
   "source": [
    "# Similarly, let’s check the validation accuracy:"
   ]
  },
  {
   "cell_type": "code",
   "execution_count": 18,
   "metadata": {},
   "outputs": [
    {
     "name": "stderr",
     "output_type": "stream",
     "text": [
      "100%|██████████| 2/2 [00:00<00:00, 22.04it/s]"
     ]
    },
    {
     "name": "stdout",
     "output_type": "stream",
     "text": [
      "validation accuracy: \t 0.6911951013513513\n"
     ]
    },
    {
     "name": "stderr",
     "output_type": "stream",
     "text": [
      "\n"
     ]
    }
   ],
   "source": [
    "# prediction for validation set\n",
    "prediction_val = []\n",
    "target_val = []\n",
    "permutation = torch.randperm(val_x.size()[0])\n",
    "for i in tqdm(range(0,val_x.size()[0], batch_size)):\n",
    "    indices = permutation[i:i+batch_size]\n",
    "    batch_x, batch_y = val_x[indices], val_y[indices]\n",
    "\n",
    "    if torch.cuda.is_available():\n",
    "        batch_x, batch_y = batch_x.cuda(), batch_y.cuda()\n",
    "\n",
    "    with torch.no_grad():\n",
    "        output = model(batch_x.cuda())\n",
    "\n",
    "    softmax = torch.exp(output).cpu()\n",
    "    prob = list(softmax.numpy())\n",
    "    predictions = np.argmax(prob, axis=1)\n",
    "    prediction_val.append(predictions)\n",
    "    batch_y = batch_y.cpu().numpy()\n",
    "    target_val.append(batch_y)\n",
    "    \n",
    "# validation accuracy\n",
    "accuracy_val = []\n",
    "for i in range(len(prediction_val)):\n",
    "    accuracy_val.append(accuracy_score(target_val[i],prediction_val[i]))\n",
    "    \n",
    "print('validation accuracy: \\t', np.average(accuracy_val))"
   ]
  },
  {
   "cell_type": "markdown",
   "metadata": {},
   "source": [
    "Description              | Training Accuracy | Validation Accuracy  |\n",
    "--------------           | -------------     | -------------        |\n",
    "Without DropOut          |         87.80     |     69.72            |\n",
    "With DropOut (p=0.5)     |         74.83     |     74.52            |"
   ]
  },
  {
   "cell_type": "markdown",
   "metadata": {},
   "source": [
    "The table above shows accuracy without Dropout and with Dropout. \n",
    "<br/> In the first case the training accuracy and the validation accuracy are not in syncronization. The accuracy rapidly decreases on the validation set. <br/>\n",
    "When we use drop both training and validation accuracies come in syncoronization."
   ]
  },
  {
   "cell_type": "markdown",
   "metadata": {},
   "source": [
    "# 3. Model UnderFitting\n",
    "### To overcome underfitting we have the following solutions:\n",
    "* 1. Increase the training data\n",
    "* 2. Make a comples model\n",
    "* 3. Increase the training epoch\n",
    "\n",
    "### For our model we are not facing this problem of underfitting."
   ]
  },
  {
   "cell_type": "markdown",
   "metadata": {},
   "source": [
    "# 4. Training time is too high\n",
    "\n",
    "Sometime the neural networks take a lot of time to converge. The main reason behind this is the change in the distribution of inputs to the layers of the neural network. \n",
    "* To overcome this problem, we can apply batch normalization wherein we normalize the activations of hidden layers and try to make the same distribution."
   ]
  },
  {
   "cell_type": "markdown",
   "metadata": {},
   "source": [
    "Now lets add batchnorm layers to the architecture and check how it performs for the vehicle classification problem."
   ]
  },
  {
   "cell_type": "code",
   "execution_count": 19,
   "metadata": {},
   "outputs": [],
   "source": [
    "torch.manual_seed(0)\n",
    "\n",
    "class Net(Module):   \n",
    "    def __init__(self):\n",
    "        super(Net, self).__init__()\n",
    "\n",
    "        self.cnn_layers = Sequential(\n",
    "            # Defining a 2D convolution layer\n",
    "            Conv2d(3, 16, kernel_size=3, stride=1, padding=1),\n",
    "            ReLU(inplace=True),\n",
    "            # batch normalization layer\n",
    "            BatchNorm2d(16),\n",
    "            MaxPool2d(kernel_size=2, stride=2),\n",
    "            # Defining another 2D convolution layer\n",
    "            Conv2d(16, 32, kernel_size=3, stride=1, padding=1),\n",
    "            ReLU(inplace=True),    \n",
    "            # batch normalization layer\n",
    "            BatchNorm2d(32),\n",
    "            MaxPool2d(kernel_size=2, stride=2),\n",
    "        )\n",
    "\n",
    "        self.linear_layers = Sequential(\n",
    "            Linear(32 * 56 * 56, 2)\n",
    "        )\n",
    "\n",
    "    # Defining the forward pass    \n",
    "    def forward(self, x):\n",
    "        x = self.cnn_layers(x)\n",
    "        x = x.view(x.size(0), -1)\n",
    "        x = self.linear_layers(x)\n",
    "        return x"
   ]
  },
  {
   "cell_type": "markdown",
   "metadata": {},
   "source": [
    "# Defining Model Parameters"
   ]
  },
  {
   "cell_type": "code",
   "execution_count": 20,
   "metadata": {},
   "outputs": [
    {
     "name": "stdout",
     "output_type": "stream",
     "text": [
      "Net(\n",
      "  (cnn_layers): Sequential(\n",
      "    (0): Conv2d(3, 16, kernel_size=(3, 3), stride=(1, 1), padding=(1, 1))\n",
      "    (1): ReLU(inplace=True)\n",
      "    (2): BatchNorm2d(16, eps=1e-05, momentum=0.1, affine=True, track_running_stats=True)\n",
      "    (3): MaxPool2d(kernel_size=2, stride=2, padding=0, dilation=1, ceil_mode=False)\n",
      "    (4): Conv2d(16, 32, kernel_size=(3, 3), stride=(1, 1), padding=(1, 1))\n",
      "    (5): ReLU(inplace=True)\n",
      "    (6): BatchNorm2d(32, eps=1e-05, momentum=0.1, affine=True, track_running_stats=True)\n",
      "    (7): MaxPool2d(kernel_size=2, stride=2, padding=0, dilation=1, ceil_mode=False)\n",
      "  )\n",
      "  (linear_layers): Sequential(\n",
      "    (0): Linear(in_features=100352, out_features=2, bias=True)\n",
      "  )\n",
      ")\n"
     ]
    }
   ],
   "source": [
    "# defining the model\n",
    "model = Net()\n",
    "# defining the optimizer\n",
    "optimizer = Adam(model.parameters(), lr=0.00005)\n",
    "# defining the loss function\n",
    "criterion = CrossEntropyLoss()\n",
    "# checking if GPU is available\n",
    "if torch.cuda.is_available():\n",
    "    model = model.cuda()\n",
    "    criterion = criterion.cuda()\n",
    "\n",
    "print(model)"
   ]
  },
  {
   "cell_type": "markdown",
   "metadata": {},
   "source": [
    "# Train the Model"
   ]
  },
  {
   "cell_type": "code",
   "execution_count": 21,
   "metadata": {},
   "outputs": [
    {
     "name": "stderr",
     "output_type": "stream",
     "text": [
      "100%|██████████| 12/12 [00:01<00:00,  9.17it/s]\n",
      " 17%|█▋        | 2/12 [00:00<00:00, 10.16it/s]"
     ]
    },
    {
     "name": "stdout",
     "output_type": "stream",
     "text": [
      "epoch: \t 1 \t training loss: \t 0.9493299623330435\n"
     ]
    },
    {
     "name": "stderr",
     "output_type": "stream",
     "text": [
      "100%|██████████| 12/12 [00:01<00:00,  9.15it/s]\n",
      "  0%|          | 0/12 [00:00<?, ?it/s]"
     ]
    },
    {
     "name": "stdout",
     "output_type": "stream",
     "text": [
      "epoch: \t 2 \t training loss: \t 0.5637829179565111\n"
     ]
    },
    {
     "name": "stderr",
     "output_type": "stream",
     "text": [
      "100%|██████████| 12/12 [00:01<00:00,  9.15it/s]\n",
      "  0%|          | 0/12 [00:00<?, ?it/s]"
     ]
    },
    {
     "name": "stdout",
     "output_type": "stream",
     "text": [
      "epoch: \t 3 \t training loss: \t 0.3885498568415642\n"
     ]
    },
    {
     "name": "stderr",
     "output_type": "stream",
     "text": [
      "100%|██████████| 12/12 [00:01<00:00,  9.20it/s]\n",
      " 17%|█▋        | 2/12 [00:00<00:00, 10.21it/s]"
     ]
    },
    {
     "name": "stdout",
     "output_type": "stream",
     "text": [
      "epoch: \t 4 \t training loss: \t 0.3035188727080822\n"
     ]
    },
    {
     "name": "stderr",
     "output_type": "stream",
     "text": [
      "100%|██████████| 12/12 [00:01<00:00,  9.17it/s]"
     ]
    },
    {
     "name": "stdout",
     "output_type": "stream",
     "text": [
      "epoch: \t 5 \t training loss: \t 0.25058118129769963\n"
     ]
    },
    {
     "name": "stderr",
     "output_type": "stream",
     "text": [
      "\n"
     ]
    }
   ],
   "source": [
    "torch.manual_seed(0)\n",
    "\n",
    "# batch size of the model\n",
    "batch_size = 128\n",
    "\n",
    "# number of epochs to train the model\n",
    "n_epochs = 5\n",
    "\n",
    "for epoch in range(1, n_epochs+1):\n",
    "\n",
    "    # keep track of training and validation loss\n",
    "    train_loss = 0.0\n",
    "        \n",
    "    permutation = torch.randperm(train_x.size()[0])\n",
    "\n",
    "    training_loss = []\n",
    "    for i in tqdm(range(0,train_x.size()[0], batch_size)):\n",
    "\n",
    "        indices = permutation[i:i+batch_size]\n",
    "        batch_x, batch_y = train_x[indices], train_y[indices]\n",
    "        \n",
    "        if torch.cuda.is_available():\n",
    "            batch_x, batch_y = batch_x.cuda(), batch_y.cuda()\n",
    "        \n",
    "        optimizer.zero_grad()\n",
    "        # in case you wanted a semi-full example\n",
    "        outputs = model(batch_x)\n",
    "        loss = criterion(outputs,batch_y)\n",
    "\n",
    "        training_loss.append(loss.item())\n",
    "        loss.backward()\n",
    "        optimizer.step()\n",
    "        \n",
    "    training_loss = np.average(training_loss)\n",
    "    print('epoch: \\t', epoch, '\\t training loss: \\t', training_loss)"
   ]
  },
  {
   "cell_type": "markdown",
   "metadata": {},
   "source": [
    "We can see the model is learnig very fast. It can be seen that training loss of 0.25 in the fifth loss itself when compared to the training loss of 0.38 in the 25th epoch in our earlier attempts."
   ]
  },
  {
   "cell_type": "markdown",
   "metadata": {},
   "source": [
    "# Prediction on the training set "
   ]
  },
  {
   "cell_type": "code",
   "execution_count": 22,
   "metadata": {},
   "outputs": [
    {
     "name": "stderr",
     "output_type": "stream",
     "text": [
      "100%|██████████| 12/12 [00:00<00:00, 12.32it/s]"
     ]
    },
    {
     "name": "stdout",
     "output_type": "stream",
     "text": [
      "training accuracy: \t 0.9534371432648402\n"
     ]
    },
    {
     "name": "stderr",
     "output_type": "stream",
     "text": [
      "\n"
     ]
    }
   ],
   "source": [
    "# prediction for training set\n",
    "prediction = []\n",
    "target = []\n",
    "permutation = torch.randperm(train_x.size()[0])\n",
    "for i in tqdm(range(0,train_x.size()[0], batch_size)):\n",
    "    indices = permutation[i:i+batch_size]\n",
    "    batch_x, batch_y = train_x[indices], train_y[indices]\n",
    "\n",
    "    if torch.cuda.is_available():\n",
    "        batch_x, batch_y = batch_x.cuda(), batch_y.cuda()\n",
    "\n",
    "    with torch.no_grad():\n",
    "        output = model(batch_x.cuda())\n",
    "\n",
    "    softmax = torch.exp(output).cpu()\n",
    "    prob = list(softmax.numpy())\n",
    "    predictions = np.argmax(prob, axis=1)\n",
    "    prediction.append(predictions)\n",
    "    batch_y = batch_y.cpu().numpy()\n",
    "    target.append(batch_y)\n",
    "    \n",
    "# training accuracy\n",
    "accuracy = []\n",
    "for i in range(len(prediction)):\n",
    "    accuracy.append(accuracy_score(target[i],prediction[i]))\n",
    "    \n",
    "print('training accuracy: \\t', np.average(accuracy))"
   ]
  },
  {
   "cell_type": "markdown",
   "metadata": {},
   "source": [
    "# Prediction on the training set "
   ]
  },
  {
   "cell_type": "code",
   "execution_count": 23,
   "metadata": {},
   "outputs": [
    {
     "name": "stderr",
     "output_type": "stream",
     "text": [
      "100%|██████████| 2/2 [00:00<00:00, 19.26it/s]"
     ]
    },
    {
     "name": "stdout",
     "output_type": "stream",
     "text": [
      "validation accuracy: \t 0.6584670608108107\n"
     ]
    },
    {
     "name": "stderr",
     "output_type": "stream",
     "text": [
      "\n"
     ]
    }
   ],
   "source": [
    "# prediction for validation set\n",
    "prediction_val = []\n",
    "target_val = []\n",
    "permutation = torch.randperm(val_x.size()[0])\n",
    "for i in tqdm(range(0,val_x.size()[0], batch_size)):\n",
    "    indices = permutation[i:i+batch_size]\n",
    "    batch_x, batch_y = val_x[indices], val_y[indices]\n",
    "\n",
    "    if torch.cuda.is_available():\n",
    "        batch_x, batch_y = batch_x.cuda(), batch_y.cuda()\n",
    "\n",
    "    with torch.no_grad():\n",
    "        output = model(batch_x.cuda())\n",
    "\n",
    "    softmax = torch.exp(output).cpu()\n",
    "    prob = list(softmax.numpy())\n",
    "    predictions = np.argmax(prob, axis=1)\n",
    "    prediction_val.append(predictions)\n",
    "    batch_y=batch_y.cpu().numpy()\n",
    "    target_val.append(batch_y)\n",
    "    \n",
    "# validation accuracy\n",
    "accuracy_val = []\n",
    "for i in range(len(prediction_val)):\n",
    "    accuracy_val.append(accuracy_score(target_val[i],prediction_val[i]))\n",
    "    \n",
    "print('validation accuracy: \\t', np.average(accuracy_val))"
   ]
  },
  {
   "cell_type": "markdown",
   "metadata": {},
   "source": [
    "As we can see adding batch normalization reduced the traing time but we have an issue. The model is now overfitting. We got an accuracy of 94% on training and 63% on validation.<br/>\n",
    "We have not added the dropout layer to this model."
   ]
  },
  {
   "cell_type": "markdown",
   "metadata": {},
   "source": [
    "# Now, lets use all the techniques we have learnt so far to improve our model"
   ]
  },
  {
   "cell_type": "markdown",
   "metadata": {},
   "source": [
    "# Model Architecture"
   ]
  },
  {
   "cell_type": "code",
   "execution_count": 24,
   "metadata": {},
   "outputs": [],
   "source": [
    "torch.manual_seed(0)\n",
    "\n",
    "class Net(Module):   \n",
    "    def __init__(self):\n",
    "        super(Net, self).__init__()\n",
    "\n",
    "        self.cnn_layers = Sequential(\n",
    "            # Defining a 2D convolution layer\n",
    "            Conv2d(3, 16, kernel_size=3, stride=1, padding=1),\n",
    "            ReLU(inplace=True),\n",
    "            # adding batch normalization\n",
    "            BatchNorm2d(16),\n",
    "            MaxPool2d(kernel_size=2, stride=2),\n",
    "            # adding dropout\n",
    "            Dropout(),\n",
    "            # Defining another 2D convolution layer\n",
    "            Conv2d(16, 32, kernel_size=3, stride=1, padding=1),\n",
    "            ReLU(inplace=True),\n",
    "            # adding batch normalization\n",
    "            BatchNorm2d(32),\n",
    "            MaxPool2d(kernel_size=2, stride=2),\n",
    "            # adding dropout\n",
    "            Dropout(),\n",
    "        )\n",
    "\n",
    "        self.linear_layers = Sequential(\n",
    "            Linear(32 * 56 * 56, 2)\n",
    "        )\n",
    "\n",
    "    # Defining the forward pass    \n",
    "    def forward(self, x):\n",
    "        x = self.cnn_layers(x)\n",
    "        x = x.view(x.size(0), -1)\n",
    "        x = self.linear_layers(x)\n",
    "        return x"
   ]
  },
  {
   "cell_type": "markdown",
   "metadata": {},
   "source": [
    "# Defining Model Parameters"
   ]
  },
  {
   "cell_type": "code",
   "execution_count": 25,
   "metadata": {},
   "outputs": [
    {
     "name": "stdout",
     "output_type": "stream",
     "text": [
      "Net(\n",
      "  (cnn_layers): Sequential(\n",
      "    (0): Conv2d(3, 16, kernel_size=(3, 3), stride=(1, 1), padding=(1, 1))\n",
      "    (1): ReLU(inplace=True)\n",
      "    (2): BatchNorm2d(16, eps=1e-05, momentum=0.1, affine=True, track_running_stats=True)\n",
      "    (3): MaxPool2d(kernel_size=2, stride=2, padding=0, dilation=1, ceil_mode=False)\n",
      "    (4): Dropout(p=0.5, inplace=False)\n",
      "    (5): Conv2d(16, 32, kernel_size=(3, 3), stride=(1, 1), padding=(1, 1))\n",
      "    (6): ReLU(inplace=True)\n",
      "    (7): BatchNorm2d(32, eps=1e-05, momentum=0.1, affine=True, track_running_stats=True)\n",
      "    (8): MaxPool2d(kernel_size=2, stride=2, padding=0, dilation=1, ceil_mode=False)\n",
      "    (9): Dropout(p=0.5, inplace=False)\n",
      "  )\n",
      "  (linear_layers): Sequential(\n",
      "    (0): Linear(in_features=100352, out_features=2, bias=True)\n",
      "  )\n",
      ")\n"
     ]
    }
   ],
   "source": [
    "# defining the model\n",
    "model = Net()\n",
    "# defining the optimizer\n",
    "optimizer = Adam(model.parameters(), lr=0.00025)\n",
    "# defining the loss function\n",
    "criterion = CrossEntropyLoss()\n",
    "# checking if GPU is available\n",
    "if torch.cuda.is_available():\n",
    "    model = model.cuda()\n",
    "    criterion = criterion.cuda()\n",
    "\n",
    "print(model)"
   ]
  },
  {
   "cell_type": "markdown",
   "metadata": {},
   "source": [
    "# Train The Model"
   ]
  },
  {
   "cell_type": "code",
   "execution_count": 26,
   "metadata": {},
   "outputs": [
    {
     "name": "stderr",
     "output_type": "stream",
     "text": [
      "100%|██████████| 12/12 [00:01<00:00,  9.03it/s]\n",
      " 17%|█▋        | 2/12 [00:00<00:00, 10.08it/s]"
     ]
    },
    {
     "name": "stdout",
     "output_type": "stream",
     "text": [
      "epoch: \t 1 \t training loss: \t 4.997635851303737\n"
     ]
    },
    {
     "name": "stderr",
     "output_type": "stream",
     "text": [
      "100%|██████████| 12/12 [00:01<00:00,  9.09it/s]\n",
      " 17%|█▋        | 2/12 [00:00<00:00, 10.11it/s]"
     ]
    },
    {
     "name": "stdout",
     "output_type": "stream",
     "text": [
      "epoch: \t 2 \t training loss: \t 1.8881468524535496\n"
     ]
    },
    {
     "name": "stderr",
     "output_type": "stream",
     "text": [
      "100%|██████████| 12/12 [00:01<00:00,  9.05it/s]\n",
      "  0%|          | 0/12 [00:00<?, ?it/s]"
     ]
    },
    {
     "name": "stdout",
     "output_type": "stream",
     "text": [
      "epoch: \t 3 \t training loss: \t 1.3157385836044948\n"
     ]
    },
    {
     "name": "stderr",
     "output_type": "stream",
     "text": [
      "100%|██████████| 12/12 [00:01<00:00,  9.07it/s]\n",
      " 17%|█▋        | 2/12 [00:00<00:00, 10.07it/s]"
     ]
    },
    {
     "name": "stdout",
     "output_type": "stream",
     "text": [
      "epoch: \t 4 \t training loss: \t 0.7847574452559153\n"
     ]
    },
    {
     "name": "stderr",
     "output_type": "stream",
     "text": [
      "100%|██████████| 12/12 [00:01<00:00,  9.10it/s]\n",
      " 17%|█▋        | 2/12 [00:00<00:00, 10.10it/s]"
     ]
    },
    {
     "name": "stdout",
     "output_type": "stream",
     "text": [
      "epoch: \t 5 \t training loss: \t 0.6253379633029302\n"
     ]
    },
    {
     "name": "stderr",
     "output_type": "stream",
     "text": [
      "100%|██████████| 12/12 [00:01<00:00,  9.08it/s]\n",
      "  0%|          | 0/12 [00:00<?, ?it/s]"
     ]
    },
    {
     "name": "stdout",
     "output_type": "stream",
     "text": [
      "epoch: \t 6 \t training loss: \t 0.4441821277141571\n"
     ]
    },
    {
     "name": "stderr",
     "output_type": "stream",
     "text": [
      "100%|██████████| 12/12 [00:01<00:00,  8.99it/s]\n",
      "  0%|          | 0/12 [00:00<?, ?it/s]"
     ]
    },
    {
     "name": "stdout",
     "output_type": "stream",
     "text": [
      "epoch: \t 7 \t training loss: \t 0.3772639160354932\n"
     ]
    },
    {
     "name": "stderr",
     "output_type": "stream",
     "text": [
      "100%|██████████| 12/12 [00:01<00:00,  9.02it/s]\n",
      "  0%|          | 0/12 [00:00<?, ?it/s]"
     ]
    },
    {
     "name": "stdout",
     "output_type": "stream",
     "text": [
      "epoch: \t 8 \t training loss: \t 0.3156622275710106\n"
     ]
    },
    {
     "name": "stderr",
     "output_type": "stream",
     "text": [
      "100%|██████████| 12/12 [00:01<00:00,  9.00it/s]\n",
      "  0%|          | 0/12 [00:00<?, ?it/s]"
     ]
    },
    {
     "name": "stdout",
     "output_type": "stream",
     "text": [
      "epoch: \t 9 \t training loss: \t 0.27080752700567245\n"
     ]
    },
    {
     "name": "stderr",
     "output_type": "stream",
     "text": [
      "100%|██████████| 12/12 [00:01<00:00,  8.98it/s]"
     ]
    },
    {
     "name": "stdout",
     "output_type": "stream",
     "text": [
      "epoch: \t 10 \t training loss: \t 0.31075844417015713\n"
     ]
    },
    {
     "name": "stderr",
     "output_type": "stream",
     "text": [
      "\n"
     ]
    }
   ],
   "source": [
    "torch.manual_seed(0)\n",
    "\n",
    "# batch size of the model\n",
    "batch_size = 128\n",
    "\n",
    "# number of epochs to train the model\n",
    "n_epochs = 10\n",
    "\n",
    "for epoch in range(1, n_epochs+1):\n",
    "\n",
    "    # keep track of training and validation loss\n",
    "    train_loss = 0.0\n",
    "        \n",
    "    permutation = torch.randperm(train_x.size()[0])\n",
    "\n",
    "    training_loss = []\n",
    "    for i in tqdm(range(0,train_x.size()[0], batch_size)):\n",
    "\n",
    "        indices = permutation[i:i+batch_size]\n",
    "        batch_x, batch_y = train_x[indices], train_y[indices]\n",
    "        \n",
    "        if torch.cuda.is_available():\n",
    "            batch_x, batch_y = batch_x.cuda(), batch_y.cuda()\n",
    "        \n",
    "        optimizer.zero_grad()\n",
    "        # in case you wanted a semi-full example\n",
    "        outputs = model(batch_x)\n",
    "        loss = criterion(outputs,batch_y)\n",
    "\n",
    "        training_loss.append(loss.item())\n",
    "        loss.backward()\n",
    "        optimizer.step()\n",
    "        \n",
    "    training_loss = np.average(training_loss)\n",
    "    print('epoch: \\t', epoch, '\\t training loss: \\t', training_loss)"
   ]
  },
  {
   "cell_type": "markdown",
   "metadata": {},
   "source": [
    "# Prediction on the training set "
   ]
  },
  {
   "cell_type": "code",
   "execution_count": 27,
   "metadata": {},
   "outputs": [
    {
     "name": "stderr",
     "output_type": "stream",
     "text": [
      "100%|██████████| 12/12 [00:00<00:00, 12.04it/s]"
     ]
    },
    {
     "name": "stdout",
     "output_type": "stream",
     "text": [
      "training accuracy: \t 0.8954855165525114\n"
     ]
    },
    {
     "name": "stderr",
     "output_type": "stream",
     "text": [
      "\n"
     ]
    }
   ],
   "source": [
    "# prediction for training set\n",
    "prediction = []\n",
    "target = []\n",
    "permutation = torch.randperm(train_x.size()[0])\n",
    "for i in tqdm(range(0,train_x.size()[0], batch_size)):\n",
    "    indices = permutation[i:i+batch_size]\n",
    "    batch_x, batch_y = train_x[indices], train_y[indices]\n",
    "\n",
    "    if torch.cuda.is_available():\n",
    "        batch_x, batch_y = batch_x.cuda(), batch_y.cuda()\n",
    "\n",
    "    with torch.no_grad():\n",
    "        output = model(batch_x.cuda())\n",
    "\n",
    "    softmax = torch.exp(output).cpu()\n",
    "    prob = list(softmax.numpy())\n",
    "    predictions = np.argmax(prob, axis=1)\n",
    "    prediction.append(predictions)\n",
    "    batch_y=batch_y.cpu().numpy()\n",
    "    target.append(batch_y)\n",
    "    \n",
    "# training accuracy\n",
    "accuracy = []\n",
    "for i in range(len(prediction)):\n",
    "    accuracy.append(accuracy_score(target[i],prediction[i]))\n",
    "    \n",
    "print('training accuracy: \\t', np.average(accuracy))"
   ]
  },
  {
   "cell_type": "markdown",
   "metadata": {},
   "source": [
    "# Prediction on the validation set "
   ]
  },
  {
   "cell_type": "code",
   "execution_count": 28,
   "metadata": {},
   "outputs": [
    {
     "name": "stderr",
     "output_type": "stream",
     "text": [
      "100%|██████████| 2/2 [00:00<00:00, 19.31it/s]"
     ]
    },
    {
     "name": "stdout",
     "output_type": "stream",
     "text": [
      "validation accuracy: \t 0.6389358108108107\n"
     ]
    },
    {
     "name": "stderr",
     "output_type": "stream",
     "text": [
      "\n"
     ]
    }
   ],
   "source": [
    "# prediction for validation set\n",
    "prediction_val = []\n",
    "target_val = []\n",
    "permutation = torch.randperm(val_x.size()[0])\n",
    "for i in tqdm(range(0,val_x.size()[0], batch_size)):\n",
    "    indices = permutation[i:i+batch_size]\n",
    "    batch_x, batch_y = val_x[indices], val_y[indices]\n",
    "\n",
    "    if torch.cuda.is_available():\n",
    "        batch_x, batch_y = batch_x.cuda(), batch_y.cuda()\n",
    "\n",
    "    with torch.no_grad():\n",
    "        output = model(batch_x.cuda())\n",
    "\n",
    "    softmax = torch.exp(output).cpu()\n",
    "    prob = list(softmax.numpy())\n",
    "    predictions = np.argmax(prob, axis=1)\n",
    "    prediction_val.append(predictions)\n",
    "    batch_y=batch_y.cpu().numpy()\n",
    "    target_val.append(batch_y)\n",
    "    \n",
    "# validation accuracy\n",
    "accuracy_val = []\n",
    "for i in range(len(prediction_val)):\n",
    "    accuracy_val.append(accuracy_score(target_val[i],prediction_val[i]))\n",
    "    \n",
    "print('validation accuracy: \\t', np.average(accuracy_val))"
   ]
  },
  {
   "cell_type": "markdown",
   "metadata": {},
   "source": [
    "# We can improve the model as follows:\n",
    "* 1. Tune the dropout rate\n",
    "* 2. Add or reduce the number of convolutional layers.\n",
    "* 3. Add or reduce the number of dense layer.\n",
    "* 4. Tune the number of neurons in hidden layers, etc. "
   ]
  },
  {
   "cell_type": "markdown",
   "metadata": {},
   "source": [
    "# Thank You"
   ]
  }
 ],
 "metadata": {
  "kernelspec": {
   "display_name": "Python 3",
   "language": "python",
   "name": "python3"
  },
  "language_info": {
   "codemirror_mode": {
    "name": "ipython",
    "version": 3
   },
   "file_extension": ".py",
   "mimetype": "text/x-python",
   "name": "python",
   "nbconvert_exporter": "python",
   "pygments_lexer": "ipython3",
   "version": "3.6.6"
  }
 },
 "nbformat": 4,
 "nbformat_minor": 1
}
